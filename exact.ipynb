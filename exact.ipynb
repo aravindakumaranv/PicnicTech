{
 "cells": [
  {
   "cell_type": "code",
   "execution_count": 231,
   "metadata": {},
   "outputs": [],
   "source": [
    "import pandas as pd\n",
    "import gurobipy as gp\n",
    "import math\n",
    "import pickle as pkl\n",
    "from datetime import datetime, timedelta"
   ]
  },
  {
   "cell_type": "code",
   "execution_count": 232,
   "metadata": {},
   "outputs": [],
   "source": [
    "product_type = \"chilled\" #frozen chilled ambient \n",
    "num_time_periods = 7\n",
    "storage_type=\"standard\" #standard constrained relaxed \n",
    "#Test in one article\n",
    "test_article = \"f04b3d50\"\n",
    "M = 2000"
   ]
  },
  {
   "cell_type": "code",
   "execution_count": 233,
   "metadata": {},
   "outputs": [],
   "source": [
    "article_data = pd.read_csv(\"./data/article.csv\")\n",
    "article_data = article_data[(article_data['TEMPERATURE_ZONE'] == product_type)]\n",
    "article_data = article_data[(article_data['ARTICLE_ID'] == test_article)]\n"
   ]
  },
  {
   "cell_type": "code",
   "execution_count": 234,
   "metadata": {},
   "outputs": [],
   "source": [
    "# constants definitions\n",
    "if(product_type==\"frozen\"):\n",
    "    if(storage_type==\"standard\"):\n",
    "        warehouse_volume = 30\n",
    "    if(storage_type==\"constrained\"):\n",
    "        warehouse_volume = 20\n",
    "    if(storage_type==\"relaxed\"):\n",
    "        warehouse_volume = 50\n",
    "if(product_type==\"chilled\"):\n",
    "    if(storage_type==\"standard\"):\n",
    "        warehouse_volume = 250\n",
    "    if(storage_type==\"constrained\"):\n",
    "        warehouse_volume = 180\n",
    "    if(storage_type==\"relaxed\"):\n",
    "        warehouse_volume = 300\n",
    "if(product_type==\"ambient\"):\n",
    "    if(storage_type==\"standard\"):\n",
    "        warehouse_volume = 700\n",
    "    if(storage_type==\"constrained\"):\n",
    "        warehouse_volume = 500\n",
    "    if(storage_type==\"relaxed\"):\n",
    "        warehouse_volume = 900\n",
    "buffer_cost = 25\n",
    "default_max_order = 10000\n",
    "max_order_exceed_multiplier = 1.5"
   ]
  },
  {
   "cell_type": "code",
   "execution_count": 235,
   "metadata": {},
   "outputs": [],
   "source": [
    "def createParameterMatrix(data, columns):\n",
    "    parameters = []\n",
    "    for column in columns:\n",
    "        parameters.append(data[column].to_list())\n",
    "    parameters = list(map(list, zip(*parameters)))\n",
    "    return parameters"
   ]
  },
  {
   "cell_type": "code",
   "execution_count": 236,
   "metadata": {},
   "outputs": [],
   "source": [
    "articles = article_data['ARTICLE_ID'].to_list()\n",
    "\n",
    "parameters = createParameterMatrix(\n",
    "    article_data,\n",
    "    [\n",
    "        'TEMPERATURE_ZONE',\n",
    "        'VOLUME_M3_PER_CU',\n",
    "        'MEAN_SHELF_LIFE',\n",
    "        'CU_PER_TU',\n",
    "        'ORDERING_COST_FIXED',\n",
    "        'ORDERING_COST_PER_TU',\n",
    "        'CLEARING_COST_PER_CU',\n",
    "        'MINIMUM_ORDER_QUANTITY_TU',\n",
    "        'MAXIMUM_ORDER_QUANTITY_TU'\n",
    "    ]\n",
    ")\n",
    "parameters_dict = dict(zip(articles, parameters))"
   ]
  },
  {
   "cell_type": "code",
   "execution_count": 237,
   "metadata": {},
   "outputs": [],
   "source": [
    "items, category, volume_per_cu, shelf_life, cu_per_tu, ordering_cost_fixed, ordering_cost_per_tu, clearing_cost_per_cu, minimum_order_quantity_tu, maximum_order_quantity_tu = gp.multidict(parameters_dict)"
   ]
  },
  {
   "cell_type": "code",
   "execution_count": 238,
   "metadata": {},
   "outputs": [],
   "source": [
    "forecast_data = pd.read_csv('./data/sales_'+str(num_time_periods)+'.csv')\n",
    "forecast_data = forecast_data[forecast_data['ARTICLE_ID'].isin(articles)]"
   ]
  },
  {
   "cell_type": "code",
   "execution_count": 239,
   "metadata": {},
   "outputs": [],
   "source": [
    "# Create a new dataframe with all dates\n",
    "all_dates_df = pd.DataFrame({'DATE': pd.date_range(start=min(forecast_data['DATE']), end=max(forecast_data['DATE']), freq='D')}).astype(str)\n",
    "# Group the original dataframe by item\n",
    "grouped = forecast_data.groupby('ARTICLE_ID')\n",
    "\n",
    "# Initialize an empty list to store the new dataframes\n",
    "new_dfs = []\n",
    "\n",
    "# Loop over each group\n",
    "for item, group_df in grouped:\n",
    "    \n",
    "    group_df['DATE'] = pd.to_datetime(group_df['DATE']).astype(str)\n",
    "\n",
    "    # Merge the group dataframe with the all_dates dataframe\n",
    "    merged_df = pd.merge(all_dates_df, group_df, on='DATE', how='outer')\n",
    "    merged_df['ARTICLE_ID'] = item\n",
    "    \n",
    "    # Fill in missing values\n",
    "    merged_df['PICKING_QUANTITY_CU'] = merged_df['PICKING_QUANTITY_CU'].fillna(0)\n",
    "    \n",
    "    # Sort by date and append to the list\n",
    "    new_dfs.append(merged_df.sort_values('DATE'))\n",
    "    \n",
    "# Concatenate all new dataframes into a single dataframe\n",
    "forecast_data = pd.concat(new_dfs)\n",
    "time_periods = forecast_data['DATE'].unique()\n",
    "\n",
    "time_indexes = [*range(len(time_periods))]\n",
    "date_to_index = {time_periods[i]:[*range(len(time_periods))][i] for i in time_indexes}\n",
    "index_to_date = {[*range(len(time_periods))][i]:time_periods[i] for i in time_indexes}\n",
    "\n",
    "demand = forecast_data.groupby('ARTICLE_ID').apply(lambda x: dict(zip(x['DATE'], x['PICKING_QUANTITY_CU']))).to_dict()\n",
    "for item in demand.keys():\n",
    "    demand[item] = dict((date_to_index[key], value) for (key, value) in demand[item].items())"
   ]
  },
  {
   "cell_type": "code",
   "execution_count": 240,
   "metadata": {},
   "outputs": [
    {
     "name": "stdout",
     "output_type": "stream",
     "text": [
      "Set parameter TimeLimit to value 10800\n",
      "Gurobi Optimizer version 10.0.1 build v10.0.1rc0 (win64)\n",
      "\n",
      "CPU model: AMD Ryzen 7 5800U with Radeon Graphics, instruction set [SSE2|AVX|AVX2]\n",
      "Thread count: 8 physical cores, 16 logical processors, using up to 16 threads\n",
      "\n",
      "Optimize a model with 29 rows, 36 columns and 85 nonzeros\n",
      "Model fingerprint: 0xe76cc808\n",
      "Variable types: 0 continuous, 36 integer (6 binary)\n",
      "Coefficient statistics:\n",
      "  Matrix range     [5e-04, 1e+01]\n",
      "  Objective range  [2e+00, 6e+01]\n",
      "  Bounds range     [1e+00, 1e+00]\n",
      "  RHS range        [7e+00, 3e+02]\n",
      "Found heuristic solution: objective 309.7000000\n",
      "Presolve removed 10 rows and 15 columns\n",
      "Presolve time: 0.00s\n",
      "Presolved: 19 rows, 21 columns, 57 nonzeros\n",
      "Variable types: 0 continuous, 21 integer (5 binary)\n",
      "\n",
      "Root relaxation: objective 1.633159e+02, 14 iterations, 0.00 seconds (0.00 work units)\n",
      "\n",
      "    Nodes    |    Current Node    |     Objective Bounds      |     Work\n",
      " Expl Unexpl |  Obj  Depth IntInf | Incumbent    BestBd   Gap | It/Node Time\n",
      "\n",
      "     0     0  163.31585    0    7  309.70000  163.31585  47.3%     -    0s\n",
      "H    0     0                     231.6000000  163.31585  29.5%     -    0s\n",
      "H    0     0                     212.3000000  180.42353  15.0%     -    0s\n",
      "     0     0  182.61379    0    4  212.30000  182.61379  14.0%     -    0s\n",
      "     0     0  197.30000    0    5  212.30000  197.30000  7.07%     -    0s\n",
      "\n",
      "Cutting planes:\n",
      "  Gomory: 3\n",
      "  Implied bound: 8\n",
      "  MIR: 10\n",
      "  Flow cover: 4\n",
      "  Zero half: 1\n",
      "  Relax-and-lift: 1\n",
      "\n",
      "Explored 1 nodes (25 simplex iterations) in 0.05 seconds (0.00 work units)\n",
      "Thread count was 16 (of 16 available processors)\n",
      "\n",
      "Solution count 3: 212.3 231.6 309.7 \n",
      "\n",
      "Optimal solution found (tolerance 1.00e-04)\n",
      "Best objective 2.123000000000e+02, best bound 2.123000000000e+02, gap 0.0000%\n",
      "Ordering 168.0\n",
      "Fixing  38.6\n",
      "Clearance  5.699999999999999\n",
      "Max Order  0.0\n",
      "Buffer  0.0\n"
     ]
    }
   ],
   "source": [
    "# model object\n",
    "m = gp.Model()\n",
    "\n",
    "# decision variables\n",
    "# Xit\n",
    "orders = m.addVars(items, time_indexes, vtype=gp.GRB.INTEGER, lb=0)\n",
    "# Yit\n",
    "ordered_boolean = m.addVars(items, time_indexes, vtype=gp.GRB.BINARY)\n",
    "# Sit\n",
    "storage_used = m.addVars(items, time_indexes, vtype=gp.GRB.INTEGER, lb=0)\n",
    "# Zt\n",
    "buffer_storage_used = m.addVars(time_indexes, vtype=gp.GRB.INTEGER, lb=0)\n",
    "# Dit\n",
    "clearances = m.addVars(items, time_indexes, vtype=gp.GRB.INTEGER, lb=0)\n",
    "# Qit\n",
    "item_max_order_exceeded = m.addVars(items, time_indexes, vtype=gp.GRB.INTEGER, lb=0)\n",
    "\n",
    "# objective function\n",
    "ordering_cost_per_tu_objective = gp.quicksum(ordering_cost_per_tu[item] * orders[item, t] for item in items for t in time_indexes)\n",
    "ordering_cost_fixed_objective = gp.quicksum(ordering_cost_fixed[item] * ordered_boolean[item, t] for item in items for t in time_indexes)\n",
    "buffer_storage_objective = gp.quicksum(buffer_cost * buffer_storage_used[t] for t in time_indexes)\n",
    "clearance_objective = gp.quicksum(clearing_cost_per_cu[item] * clearances[item, t] for item in items for t in time_indexes)\n",
    "max_order_objective = gp.quicksum(ordering_cost_per_tu[item] * max_order_exceed_multiplier * item_max_order_exceeded[item, t] for item in items for t in time_indexes)\n",
    "\n",
    "m.setObjective(ordering_cost_per_tu_objective + ordering_cost_fixed_objective + buffer_storage_objective + clearance_objective + max_order_objective, sense=gp.GRB.MINIMIZE)\n",
    "\n",
    "# constraints\n",
    "# demand satisfaction\n",
    "for item in demand.keys():\n",
    "    for t in time_indexes:\n",
    "        if(t==0):\n",
    "            m.addConstr(\n",
    "                (orders[item, t] * cu_per_tu[item])\n",
    "                -\n",
    "                storage_used[item, t]\n",
    "                -\n",
    "                clearances[item, t]\n",
    "                ==\n",
    "                demand[item][t]\n",
    "                \n",
    "            )\n",
    "        else:\n",
    "            m.addConstr(\n",
    "                (orders[item, t] * cu_per_tu[item])\n",
    "                +\n",
    "                storage_used[item, t-1]\n",
    "                -\n",
    "                storage_used[item, t]\n",
    "                -\n",
    "                clearances[item, t]\n",
    "                >=\n",
    "                demand[item][t]\n",
    "            )\n",
    "\n",
    "# inventory volume constraint\n",
    "for t in time_indexes:\n",
    "    if(t==0):\n",
    "        m.addConstr(\n",
    "            gp.quicksum(\n",
    "                volume_per_cu[item] * \n",
    "                (\n",
    "                    (cu_per_tu[item] * orders[item, t])\n",
    "                )\n",
    "                for item in items\n",
    "            )\n",
    "            <=\n",
    "            warehouse_volume\n",
    "            +\n",
    "            buffer_storage_used[t]\n",
    "        )\n",
    "    else:\n",
    "        m.addConstr(\n",
    "            gp.quicksum(\n",
    "                volume_per_cu[item] *\n",
    "                (\n",
    "                    storage_used[item,t-1]\n",
    "                    +\n",
    "                    (cu_per_tu[item] * orders[item, t])\n",
    "                )\n",
    "                for item in items\n",
    "            )\n",
    "            <=\n",
    "            warehouse_volume\n",
    "            +\n",
    "            buffer_storage_used[t]\n",
    "        )\n",
    "\n",
    "\n",
    "\n",
    "\n",
    "# min/max constraints (linking too)\n",
    "for item in demand.keys():\n",
    "    for t in time_indexes:\n",
    "        m.addConstr(ordered_boolean[item, t] >= orders[item, t] / M)\n",
    "        # m.addConstr(ordered_boolean[item, t] <= orders[item, t])\n",
    "        m.addConstr(\n",
    "            orders[item, t]\n",
    "            >=\n",
    "            minimum_order_quantity_tu[item] * ordered_boolean[item, t]\n",
    "        )\n",
    "        if((not math.isnan(maximum_order_quantity_tu[item])) and t%7!=6):\n",
    "            m.addConstr(orders[item, t] <= (maximum_order_quantity_tu[item] * ordered_boolean[item, t]) + item_max_order_exceeded[item, t])\n",
    "\n",
    "for item in demand.keys():\n",
    "    for t in time_indexes:\n",
    "        life = shelf_life[item]\n",
    "        if(t >= life):\n",
    "            m.addConstr(\n",
    "                clearances[item, t]\n",
    "                >=\n",
    "                # cu_per_tu[item] * orders[item, t-life]\n",
    "                gp.quicksum(\n",
    "                    cu_per_tu[item] * orders[item, t1] for t1 in time_indexes[:t-life]\n",
    "                )\n",
    "                -\n",
    "                gp.quicksum(\n",
    "                    demand[item][t1] for t1 in time_indexes[:t]\n",
    "                )\n",
    "                -\n",
    "                gp.quicksum(\n",
    "                    clearances[item, t1] for t1 in time_indexes[:t-1]\n",
    "                )\n",
    "            )\n",
    "\n",
    "for item in items:\n",
    "    m.addConstr(\n",
    "        clearances[item, 0] == 0\n",
    "    )\n",
    "\n",
    "# sunday constraint\n",
    "for item in demand.keys():\n",
    "    for t in time_indexes:\n",
    "        if(t%7==6):\n",
    "            m.addConstr(orders[item, t] == 0)\n",
    "            m.addConstr(ordered_boolean[item, t] == 0)\n",
    "            m.addConstr(clearances[item, t] == 0)\n",
    "            m.addConstr(storage_used[item, t] == storage_used[item, t-1])\n",
    "\n",
    "m.setParam('TimeLimit', 3*60*60)\n",
    "m.optimize()\n",
    "\n",
    "#General Variables\n",
    "print('Ordering',ordering_cost_per_tu_objective.getValue())\n",
    "print('Fixing ',ordering_cost_fixed_objective.getValue())\n",
    "print('Clearance ',clearance_objective.getValue())\n",
    "print('Max Order ',max_order_objective.getValue())\n",
    "print('Buffer ',buffer_storage_objective.getValue())\n",
    "\n",
    "\n"
   ]
  },
  {
   "attachments": {},
   "cell_type": "markdown",
   "metadata": {},
   "source": []
  },
  {
   "cell_type": "code",
   "execution_count": 241,
   "metadata": {},
   "outputs": [
    {
     "data": {
      "text/plain": [
       "{'f04b3d50': {0: 9, 1: 8, 2: 8, 3: 7, 4: 8, 5: 8}}"
      ]
     },
     "execution_count": 241,
     "metadata": {},
     "output_type": "execute_result"
    }
   ],
   "source": [
    "demand"
   ]
  },
  {
   "cell_type": "code",
   "execution_count": 242,
   "metadata": {},
   "outputs": [
    {
     "data": {
      "text/plain": [
       "{('f04b3d50', 0): <gurobi.Var C0 (value 2.0)>,\n",
       " ('f04b3d50', 1): <gurobi.Var C1 (value -0.0)>,\n",
       " ('f04b3d50', 2): <gurobi.Var C2 (value -0.0)>,\n",
       " ('f04b3d50', 3): <gurobi.Var C3 (value 2.0)>,\n",
       " ('f04b3d50', 4): <gurobi.Var C4 (value -0.0)>,\n",
       " ('f04b3d50', 5): <gurobi.Var C5 (value -0.0)>}"
      ]
     },
     "execution_count": 242,
     "metadata": {},
     "output_type": "execute_result"
    }
   ],
   "source": [
    "orders"
   ]
  },
  {
   "cell_type": "code",
   "execution_count": 243,
   "metadata": {},
   "outputs": [
    {
     "data": {
      "text/plain": [
       "{('f04b3d50', 0): <gurobi.Var C12 (value 19.0)>,\n",
       " ('f04b3d50', 1): <gurobi.Var C13 (value 8.0)>,\n",
       " ('f04b3d50', 2): <gurobi.Var C14 (value -0.0)>,\n",
       " ('f04b3d50', 3): <gurobi.Var C15 (value 21.0)>,\n",
       " ('f04b3d50', 4): <gurobi.Var C16 (value 13.0)>,\n",
       " ('f04b3d50', 5): <gurobi.Var C17 (value 5.0)>}"
      ]
     },
     "execution_count": 243,
     "metadata": {},
     "output_type": "execute_result"
    }
   ],
   "source": [
    "storage_used"
   ]
  },
  {
   "cell_type": "code",
   "execution_count": 244,
   "metadata": {},
   "outputs": [
    {
     "data": {
      "text/plain": [
       "{('f04b3d50', 0): <gurobi.Var C24 (value 0.0)>,\n",
       " ('f04b3d50', 1): <gurobi.Var C25 (value 3.0)>,\n",
       " ('f04b3d50', 2): <gurobi.Var C26 (value -0.0)>,\n",
       " ('f04b3d50', 3): <gurobi.Var C27 (value -0.0)>,\n",
       " ('f04b3d50', 4): <gurobi.Var C28 (value -0.0)>,\n",
       " ('f04b3d50', 5): <gurobi.Var C29 (value -0.0)>}"
      ]
     },
     "execution_count": 244,
     "metadata": {},
     "output_type": "execute_result"
    }
   ],
   "source": [
    "clearances"
   ]
  },
  {
   "cell_type": "code",
   "execution_count": null,
   "metadata": {},
   "outputs": [],
   "source": []
  }
 ],
 "metadata": {
  "kernelspec": {
   "display_name": "Python 3 (ipykernel)",
   "language": "python",
   "name": "python3"
  },
  "language_info": {
   "codemirror_mode": {
    "name": "ipython",
    "version": 3
   },
   "file_extension": ".py",
   "mimetype": "text/x-python",
   "name": "python",
   "nbconvert_exporter": "python",
   "pygments_lexer": "ipython3",
   "version": "3.9.6"
  },
  "vscode": {
   "interpreter": {
    "hash": "31f2aee4e71d21fbe5cf8b01ff0e069b9275f58929596ceb00d14d90e3e16cd6"
   }
  }
 },
 "nbformat": 4,
 "nbformat_minor": 2
}
