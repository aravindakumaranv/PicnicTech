{
 "cells": [
  {
   "cell_type": "code",
   "execution_count": 1,
   "metadata": {},
   "outputs": [],
   "source": [
    "import pandas as pd\n",
    "import gurobipy as gp\n",
    "import math\n",
    "import pickle as pkl\n",
    "from datetime import datetime, timedelta\n",
    "\n",
    "import matplotlib.pyplot as plt\n",
    "import seaborn as sns \n",
    "%matplotlib inline \n",
    "sns.set_style(\"whitegrid\")\n",
    "plt.rc('xtick', labelsize=15) \n",
    "plt.rc('ytick', labelsize=15) "
   ]
  },
  {
   "cell_type": "code",
   "execution_count": 2,
   "metadata": {},
   "outputs": [],
   "source": [
    "product_type = \"ambient\"\n",
    "num_time_periods = 7\n",
    "\n",
    "article_data = pd.read_csv(\"./data/article.csv\")\n",
    "# article_data = article_data[(article_data['TEMPERATURE_ZONE'] == product_type)]\n",
    "\n",
    "articles = article_data['ARTICLE_ID'].to_list()\n",
    "\n",
    "forecast_data = pd.read_csv('./data/sales_'+str(num_time_periods)+'.csv')\n",
    "# forecast_data = forecast_data[forecast_data['ARTICLE_ID'].isin(articles)]"
   ]
  },
  {
   "cell_type": "code",
   "execution_count": 3,
   "metadata": {},
   "outputs": [],
   "source": [
    "df = article_data [article_data['MEAN_SHELF_LIFE'] <= 7 ]"
   ]
  },
  {
   "cell_type": "code",
   "execution_count": 4,
   "metadata": {},
   "outputs": [
    {
     "data": {
      "text/plain": [
       "ARTICLE_ID                   1600\n",
       "TEMPERATURE_ZONE             1600\n",
       "CATEGORY_LEVEL_1             1600\n",
       "CATEGORY_LEVEL_2             1600\n",
       "VOLUME_M3_PER_CU             1600\n",
       "MEAN_SHELF_LIFE              1600\n",
       "CU_PER_TU                    1600\n",
       "ORDERING_COST_FIXED          1600\n",
       "ORDERING_COST_PER_TU         1600\n",
       "SALES_MARGIN_PER_CU          1600\n",
       "CLEARING_COST_PER_CU         1600\n",
       "MINIMUM_ORDER_QUANTITY_TU    1600\n",
       "MAXIMUM_ORDER_QUANTITY_TU       0\n",
       "dtype: int64"
      ]
     },
     "execution_count": 4,
     "metadata": {},
     "output_type": "execute_result"
    }
   ],
   "source": [
    "df.count()"
   ]
  },
  {
   "cell_type": "code",
   "execution_count": 22,
   "metadata": {},
   "outputs": [
    {
     "data": {
      "text/plain": [
       "ARTICLE_ID                   13\n",
       "TEMPERATURE_ZONE             13\n",
       "CATEGORY_LEVEL_1             13\n",
       "CATEGORY_LEVEL_2             13\n",
       "VOLUME_M3_PER_CU             13\n",
       "MEAN_SHELF_LIFE              13\n",
       "CU_PER_TU                    13\n",
       "ORDERING_COST_FIXED          13\n",
       "ORDERING_COST_PER_TU         13\n",
       "SALES_MARGIN_PER_CU          13\n",
       "CLEARING_COST_PER_CU         13\n",
       "MINIMUM_ORDER_QUANTITY_TU    13\n",
       "MAXIMUM_ORDER_QUANTITY_TU     0\n",
       "dtype: int64"
      ]
     },
     "execution_count": 22,
     "metadata": {},
     "output_type": "execute_result"
    }
   ],
   "source": [
    "article_data[article_data['MEAN_SHELF_LIFE'] == 1 ].count()"
   ]
  },
  {
   "cell_type": "code",
   "execution_count": 23,
   "metadata": {},
   "outputs": [
    {
     "data": {
      "text/plain": [
       "ARTICLE_ID                   1600\n",
       "TEMPERATURE_ZONE             1600\n",
       "CATEGORY_LEVEL_1             1600\n",
       "CATEGORY_LEVEL_2             1600\n",
       "VOLUME_M3_PER_CU             1600\n",
       "MEAN_SHELF_LIFE              1600\n",
       "CU_PER_TU                    1600\n",
       "ORDERING_COST_FIXED          1600\n",
       "ORDERING_COST_PER_TU         1600\n",
       "SALES_MARGIN_PER_CU          1600\n",
       "CLEARING_COST_PER_CU         1600\n",
       "MINIMUM_ORDER_QUANTITY_TU    1600\n",
       "MAXIMUM_ORDER_QUANTITY_TU       0\n",
       "dtype: int64"
      ]
     },
     "execution_count": 23,
     "metadata": {},
     "output_type": "execute_result"
    }
   ],
   "source": [
    "df.count()"
   ]
  },
  {
   "cell_type": "code",
   "execution_count": 24,
   "metadata": {},
   "outputs": [],
   "source": [
    "articles_short = df['ARTICLE_ID'].to_list()\n",
    "forecast_data_short = forecast_data[forecast_data['ARTICLE_ID'].isin(articles_short)]\n"
   ]
  },
  {
   "cell_type": "code",
   "execution_count": 25,
   "metadata": {},
   "outputs": [],
   "source": [
    "v = forecast_data_short.groupby(['ARTICLE_ID', 'DATE']).agg(cum_sum = ('PICKING_QUANTITY_CU', 'sum'))\n",
    "v = v.sort_values('cum_sum', ascending = False)"
   ]
  },
  {
   "cell_type": "code",
   "execution_count": 26,
   "metadata": {},
   "outputs": [
    {
     "data": {
      "text/html": [
       "<div>\n",
       "<style scoped>\n",
       "    .dataframe tbody tr th:only-of-type {\n",
       "        vertical-align: middle;\n",
       "    }\n",
       "\n",
       "    .dataframe tbody tr th {\n",
       "        vertical-align: top;\n",
       "    }\n",
       "\n",
       "    .dataframe thead th {\n",
       "        text-align: right;\n",
       "    }\n",
       "</style>\n",
       "<table border=\"1\" class=\"dataframe\">\n",
       "  <thead>\n",
       "    <tr style=\"text-align: right;\">\n",
       "      <th></th>\n",
       "      <th>cum_sum</th>\n",
       "    </tr>\n",
       "    <tr>\n",
       "      <th>DATE</th>\n",
       "      <th></th>\n",
       "    </tr>\n",
       "  </thead>\n",
       "  <tbody>\n",
       "    <tr>\n",
       "      <th>2022-07-11</th>\n",
       "      <td>50452</td>\n",
       "    </tr>\n",
       "    <tr>\n",
       "      <th>2022-07-12</th>\n",
       "      <td>39243</td>\n",
       "    </tr>\n",
       "    <tr>\n",
       "      <th>2022-07-13</th>\n",
       "      <td>35727</td>\n",
       "    </tr>\n",
       "    <tr>\n",
       "      <th>2022-07-14</th>\n",
       "      <td>47255</td>\n",
       "    </tr>\n",
       "    <tr>\n",
       "      <th>2022-07-15</th>\n",
       "      <td>48162</td>\n",
       "    </tr>\n",
       "    <tr>\n",
       "      <th>2022-07-16</th>\n",
       "      <td>21914</td>\n",
       "    </tr>\n",
       "  </tbody>\n",
       "</table>\n",
       "</div>"
      ],
      "text/plain": [
       "            cum_sum\n",
       "DATE               \n",
       "2022-07-11    50452\n",
       "2022-07-12    39243\n",
       "2022-07-13    35727\n",
       "2022-07-14    47255\n",
       "2022-07-15    48162\n",
       "2022-07-16    21914"
      ]
     },
     "execution_count": 26,
     "metadata": {},
     "output_type": "execute_result"
    }
   ],
   "source": [
    "v.groupby(['DATE']).agg(cum_sum= ('cum_sum', 'sum'))\n"
   ]
  },
  {
   "cell_type": "code",
   "execution_count": 27,
   "metadata": {},
   "outputs": [
    {
     "data": {
      "text/html": [
       "<div>\n",
       "<style scoped>\n",
       "    .dataframe tbody tr th:only-of-type {\n",
       "        vertical-align: middle;\n",
       "    }\n",
       "\n",
       "    .dataframe tbody tr th {\n",
       "        vertical-align: top;\n",
       "    }\n",
       "\n",
       "    .dataframe thead th {\n",
       "        text-align: right;\n",
       "    }\n",
       "</style>\n",
       "<table border=\"1\" class=\"dataframe\">\n",
       "  <thead>\n",
       "    <tr style=\"text-align: right;\">\n",
       "      <th></th>\n",
       "      <th>cum_sum</th>\n",
       "    </tr>\n",
       "    <tr>\n",
       "      <th>DATE</th>\n",
       "      <th></th>\n",
       "    </tr>\n",
       "  </thead>\n",
       "  <tbody>\n",
       "    <tr>\n",
       "      <th>2022-07-11</th>\n",
       "      <td>141430</td>\n",
       "    </tr>\n",
       "    <tr>\n",
       "      <th>2022-07-12</th>\n",
       "      <td>110665</td>\n",
       "    </tr>\n",
       "    <tr>\n",
       "      <th>2022-07-13</th>\n",
       "      <td>103058</td>\n",
       "    </tr>\n",
       "    <tr>\n",
       "      <th>2022-07-14</th>\n",
       "      <td>127348</td>\n",
       "    </tr>\n",
       "    <tr>\n",
       "      <th>2022-07-15</th>\n",
       "      <td>130147</td>\n",
       "    </tr>\n",
       "    <tr>\n",
       "      <th>2022-07-16</th>\n",
       "      <td>60505</td>\n",
       "    </tr>\n",
       "  </tbody>\n",
       "</table>\n",
       "</div>"
      ],
      "text/plain": [
       "            cum_sum\n",
       "DATE               \n",
       "2022-07-11   141430\n",
       "2022-07-12   110665\n",
       "2022-07-13   103058\n",
       "2022-07-14   127348\n",
       "2022-07-15   130147\n",
       "2022-07-16    60505"
      ]
     },
     "execution_count": 27,
     "metadata": {},
     "output_type": "execute_result"
    }
   ],
   "source": [
    "forecast_data.groupby(['DATE']).agg(cum_sum = ('PICKING_QUANTITY_CU', 'sum'))\n",
    "#p = p.sort_values('cum_sum', ascending = False)"
   ]
  },
  {
   "cell_type": "code",
   "execution_count": 28,
   "metadata": {},
   "outputs": [],
   "source": [
    "h = forecast_data.groupby(['ARTICLE_ID']).agg(cum_sum = ('PICKING_QUANTITY_CU', 'sum')).sort_values('cum_sum', ascending = False)\n"
   ]
  },
  {
   "cell_type": "code",
   "execution_count": 29,
   "metadata": {},
   "outputs": [
    {
     "data": {
      "text/plain": [
       "cum_sum    1087\n",
       "dtype: int64"
      ]
     },
     "execution_count": 29,
     "metadata": {},
     "output_type": "execute_result"
    }
   ],
   "source": [
    "h[h['cum_sum'] < 10].count()"
   ]
  },
  {
   "cell_type": "code",
   "execution_count": 30,
   "metadata": {},
   "outputs": [
    {
     "name": "stderr",
     "output_type": "stream",
     "text": [
      "/var/folders/_4/_8hnn24n6yx_c_19_rwbfxvc0000gn/T/ipykernel_31109/904589357.py:9: FutureWarning: Value based partial slicing on non-monotonic DatetimeIndexes with non-existing keys is deprecated and will raise a KeyError in a future Version.\n",
      "  filtered_data = forecast_data.loc[start_date:end_date]\n"
     ]
    }
   ],
   "source": [
    "forecast_data['DATE'] = pd.to_datetime(forecast_data['DATE'])\n",
    "forecast_data['DATE1'] = forecast_data['DATE']\n",
    "\n",
    "forecast_data.set_index('DATE', inplace=True)\n",
    "\n",
    "start_date = '2022-03-07'\n",
    "end_date = '2022-03-13'\n",
    "\n",
    "filtered_data = forecast_data.loc[start_date:end_date]\n",
    "order_data_weekly = filtered_data.groupby([pd.Grouper(key='DATE1', freq='W-MON')])\n",
    "\n",
    "\n",
    "# most_frequent_days = []\n",
    "# most_frequent_item_per_week = []\n",
    "\n",
    "# for week, week_data in order_data_weekly:\n",
    "#     day_counts = week_data['DATE1'].dt.day_name().value_counts()\n",
    "#     max_frequency = day_counts.max() \n",
    "\n",
    "#     item_counts = week_data['ARTICLE_ID'].value_counts()\n",
    "#     most_frequent_items = item_counts[item_counts == item_counts.max()].index.tolist()  \n",
    "\n",
    "#     most_frequent_item_per_week.append((week, most_frequent_items, max_frequency))\n",
    "#     most_frequent_days.append((max_frequency))\n"
   ]
  },
  {
   "cell_type": "code",
   "execution_count": 31,
   "metadata": {},
   "outputs": [
    {
     "data": {
      "text/plain": [
       "<pandas.core.groupby.generic.DataFrameGroupBy object at 0x17f39ad60>"
      ]
     },
     "execution_count": 31,
     "metadata": {},
     "output_type": "execute_result"
    }
   ],
   "source": [
    "order_data_weekly"
   ]
  },
  {
   "cell_type": "code",
   "execution_count": 32,
   "metadata": {},
   "outputs": [
    {
     "name": "stdout",
     "output_type": "stream",
     "text": [
      "Series([], Freq: W-SUN, Name: ARTICLE_ID, dtype: object)\n"
     ]
    },
    {
     "name": "stderr",
     "output_type": "stream",
     "text": [
      "/var/folders/_4/_8hnn24n6yx_c_19_rwbfxvc0000gn/T/ipykernel_31109/1699614009.py:1: FutureWarning: Not prepending group keys to the result index of transform-like apply. In the future, the group keys will be included in the index, regardless of whether the applied function returns a like-indexed object.\n",
      "To preserve the previous behavior, use\n",
      "\n",
      "\t>>> .groupby(..., group_keys=False)\n",
      "\n",
      "To adopt the future behavior and silence this warning, use \n",
      "\n",
      "\t>>> .groupby(..., group_keys=True)\n",
      "  weekly_counts = filtered_data.groupby(pd.Grouper(freq='W'))['ARTICLE_ID'].apply(lambda x: x.value_counts().loc[x.value_counts() == x.value_counts().max()].index.tolist())\n"
     ]
    }
   ],
   "source": [
    "weekly_counts = filtered_data.groupby(pd.Grouper(freq='W'))['ARTICLE_ID'].apply(lambda x: x.value_counts().loc[x.value_counts() == x.value_counts().max()].index.tolist())\n",
    "\n",
    "# Print the most frequently ordered items for each week\n",
    "print(weekly_counts)"
   ]
  },
  {
   "cell_type": "code",
   "execution_count": 36,
   "metadata": {},
   "outputs": [
    {
     "data": {
      "image/png": "[encoded data removed]",
      "text/plain": [
       "<Figure size 1200x600 with 1 Axes>"
      ]
     },
     "metadata": {},
     "output_type": "display_data"
    }
   ],
   "source": [
    "product_type = \"ambient\"\n",
    "num_time_periods = 7\n",
    "\n",
    "# Assuming your DataFrame is already loaded into 'df'\n",
    "article_data = pd.read_csv(\"./data/article.csv\")\n",
    "article_data = article_data[(article_data['TEMPERATURE_ZONE'] == product_type)]\n",
    "articles = article_data['ARTICLE_ID'].to_list()\n",
    "\n",
    "forecast_data = pd.read_csv('./data/sales_'+str(num_time_periods)+'.csv')\n",
    "forecast_data = forecast_data[forecast_data['ARTICLE_ID'].isin(articles)]\n",
    "\n",
    "# Convert the 'date' column to a datetime data type\n",
    "forecast_data['DATE'] = pd.to_datetime(forecast_data['DATE'])\n",
    "#forecast_data['day_of_week'] = forecast_data['DATE'].dt.day_name()\n",
    "\n",
    "forecast_data.set_index('DATE', inplace=True)\n",
    "\n",
    "# start_date = '2022-02-01'\n",
    "# end_date = '2022-06-01'\n",
    "\n",
    "# filtered = forecast_data.loc[start_date:end_date]\n",
    "\n",
    "\n",
    "daily_demand = forecast_data['PICKING_QUANTITY_CU'].resample('D').sum()\n",
    "\n",
    "# # Plot the daily demand totals\n",
    "fig, ax = plt.subplots(figsize=(12, 6))\n",
    "\n",
    "#\n",
    "ax.plot(daily_demand.index, daily_demand.values)\n",
    "# ax.set(xlabel='Date', ylabel='Demand', title='Daily Demand Totals')\n",
    "\n",
    "plt.xticks(rotation=45)\n",
    "plt.show()\n",
    "\n",
    "\n"
   ]
  },
  {
   "cell_type": "code",
   "execution_count": null,
   "metadata": {},
   "outputs": [],
   "source": []
  }
 ],
 "metadata": {
  "kernelspec": {
   "display_name": "Python 3.9.6 64-bit",
   "language": "python",
   "name": "python3"
  },
  "language_info": {
   "codemirror_mode": {
    "name": "ipython",
    "version": 3
   },
   "file_extension": ".py",
   "mimetype": "text/x-python",
   "name": "python",
   "nbconvert_exporter": "python",
   "pygments_lexer": "ipython3",
   "version": "3.9.6"
  },
  "orig_nbformat": 4,
  "vscode": {
   "interpreter": {
    "hash": "31f2aee4e71d21fbe5cf8b01ff0e069b9275f58929596ceb00d14d90e3e16cd6"
   }
  }
 },
 "nbformat": 4,
 "nbformat_minor": 2
}
