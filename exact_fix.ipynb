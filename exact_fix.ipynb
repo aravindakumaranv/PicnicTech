{
 "cells": [
  {
   "cell_type": "code",
   "execution_count": 30,
   "metadata": {},
   "outputs": [],
   "source": [
    "import pandas as pd\n",
    "import gurobipy as gp\n",
    "import math\n",
    "import pickle as pkl\n",
    "from datetime import datetime, timedelta"
   ]
  },
  {
   "cell_type": "code",
   "execution_count": 31,
   "metadata": {},
   "outputs": [],
   "source": [
    "product_type = \"frozen\"\n",
    "num_time_periods = 7\n",
    "M = 2000"
   ]
  },
  {
   "cell_type": "code",
   "execution_count": 32,
   "metadata": {},
   "outputs": [],
   "source": [
    "article_data = pd.read_csv(\"./data/article.csv\")\n",
    "article_data = article_data[(article_data['TEMPERATURE_ZONE'] == product_type)]\n",
    "#article_data = article_data.head(2000)\n",
    "long_shelf_life = article_data [article_data['MEAN_SHELF_LIFE'] >= 2 ]\n"
   ]
  },
  {
   "cell_type": "code",
   "execution_count": 33,
   "metadata": {},
   "outputs": [],
   "source": [
    "# constants definitions\n",
    "if(product_type==\"frozen\"):\n",
    "    warehouse_volume = 50\n",
    "if(product_type==\"chilled\"):\n",
    "    warehouse_volume = 250\n",
    "if(product_type==\"ambient\"):\n",
    "    warehouse_volume = 900\n",
    "buffer_cost = 25\n",
    "max_order_exceed_multiplier = 1.5"
   ]
  },
  {
   "cell_type": "code",
   "execution_count": 34,
   "metadata": {},
   "outputs": [],
   "source": [
    "def createParameterMatrix(data, columns):\n",
    "    parameters = []\n",
    "    for column in columns:\n",
    "        parameters.append(data[column].to_list())\n",
    "    parameters = list(map(list, zip(*parameters)))\n",
    "    return parameters"
   ]
  },
  {
   "cell_type": "code",
   "execution_count": 35,
   "metadata": {},
   "outputs": [],
   "source": [
    "articles = article_data['ARTICLE_ID'].to_list()\n",
    "long_shelf_id = long_shelf_life['ARTICLE_ID'].to_list()\n",
    "\n",
    "parameters = createParameterMatrix(\n",
    "    article_data,\n",
    "    [\n",
    "        'TEMPERATURE_ZONE',\n",
    "        'VOLUME_M3_PER_CU',\n",
    "        'MEAN_SHELF_LIFE',\n",
    "        'CU_PER_TU',\n",
    "        'ORDERING_COST_FIXED',\n",
    "        'ORDERING_COST_PER_TU',\n",
    "        'CLEARING_COST_PER_CU',\n",
    "        'MINIMUM_ORDER_QUANTITY_TU',\n",
    "        'MAXIMUM_ORDER_QUANTITY_TU'\n",
    "    ]\n",
    ")\n",
    "parameters_dict = dict(zip(articles, parameters))"
   ]
  },
  {
   "cell_type": "code",
   "execution_count": 36,
   "metadata": {},
   "outputs": [],
   "source": [
    "items, category, volume_per_cu, shelf_life, cu_per_tu, ordering_cost_fixed, ordering_cost_per_tu, clearing_cost_per_cu, minimum_order_quantity_tu, maximum_order_quantity_tu = gp.multidict(parameters_dict)"
   ]
  },
  {
   "cell_type": "code",
   "execution_count": 37,
   "metadata": {},
   "outputs": [],
   "source": [
    "forecast_data = pd.read_csv('./data/sales_'+str(num_time_periods)+'.csv')\n",
    "forecast_data = forecast_data[forecast_data['ARTICLE_ID'].isin(articles)]"
   ]
  },
  {
   "cell_type": "code",
   "execution_count": 38,
   "metadata": {},
   "outputs": [],
   "source": [
    "# Create a new dataframe with all dates\n",
    "all_dates_df = pd.DataFrame({'DATE': pd.date_range(start=min(forecast_data['DATE']), end=max(forecast_data['DATE']), freq='D')}).astype(str)\n",
    "# Group the original dataframe by item\n",
    "grouped = forecast_data.groupby('ARTICLE_ID')\n",
    "\n",
    "# Initialize an empty list to store the new dataframes\n",
    "new_dfs = []\n",
    "\n",
    "# Loop over each group\n",
    "for item, group_df in grouped:\n",
    "    \n",
    "    group_df['DATE'] = pd.to_datetime(group_df['DATE']).astype(str)\n",
    "\n",
    "    # Merge the group dataframe with the all_dates dataframe\n",
    "    merged_df = pd.merge(all_dates_df, group_df, on='DATE', how='outer')\n",
    "    merged_df['ARTICLE_ID'] = item\n",
    "    \n",
    "    # Fill in missing values\n",
    "    merged_df['PICKING_QUANTITY_CU'] = merged_df['PICKING_QUANTITY_CU'].fillna(0)\n",
    "    \n",
    "    # Sort by date and append to the list\n",
    "    new_dfs.append(merged_df.sort_values('DATE'))\n",
    "    \n",
    "# Concatenate all new dataframes into a single dataframe\n",
    "forecast_data = pd.concat(new_dfs)\n",
    "time_periods = forecast_data['DATE'].unique()\n",
    "\n",
    "time_indexes = [*range(len(time_periods))]\n",
    "date_to_index = {time_periods[i]:[*range(len(time_periods))][i] for i in time_indexes}\n",
    "index_to_date = {[*range(len(time_periods))][i]:time_periods[i] for i in time_indexes}\n",
    "\n",
    "demand = forecast_data.groupby('ARTICLE_ID').apply(lambda x: dict(zip(x['DATE'], x['PICKING_QUANTITY_CU']))).to_dict()\n",
    "for item in demand.keys():\n",
    "    demand[item] = dict((date_to_index[key], value) for (key, value) in demand[item].items())"
   ]
  },
  {
   "cell_type": "code",
   "execution_count": 39,
   "metadata": {},
   "outputs": [],
   "source": [
    "short_demands, long_demands = {}, {}"
   ]
  },
  {
   "cell_type": "code",
   "execution_count": 40,
   "metadata": {},
   "outputs": [],
   "source": [
    "for item in demand:\n",
    "    if item in long_shelf_id:\n",
    "        long_demands[item] = demand[item]\n",
    "    else:\n",
    "        short_demands[item] = demand[item]"
   ]
  },
  {
   "cell_type": "code",
   "execution_count": 41,
   "metadata": {},
   "outputs": [
    {
     "data": {
      "text/plain": [
       "0"
      ]
     },
     "execution_count": 41,
     "metadata": {},
     "output_type": "execute_result"
    }
   ],
   "source": [
    "len(short_demands)"
   ]
  },
  {
   "cell_type": "code",
   "execution_count": 42,
   "metadata": {},
   "outputs": [
    {
     "data": {
      "text/plain": [
       "351"
      ]
     },
     "execution_count": 42,
     "metadata": {},
     "output_type": "execute_result"
    }
   ],
   "source": [
    "len(long_demands)"
   ]
  },
  {
   "cell_type": "code",
   "execution_count": 45,
   "metadata": {},
   "outputs": [
    {
     "name": "stdout",
     "output_type": "stream",
     "text": [
      "Set parameter TimeLimit to value 10800\n",
      "Gurobi Optimizer version 10.0.1 build v10.0.1rc0 (mac64[arm])\n",
      "\n",
      "CPU model: Apple M2\n",
      "Thread count: 8 physical cores, 8 logical processors, using up to 8 threads\n",
      "\n",
      "Optimize a model with 9648 rows, 12576 columns and 23608 nonzeros\n",
      "Model fingerprint: 0xaf8c6dc6\n",
      "Variable types: 0 continuous, 12576 integer (2514 binary)\n",
      "Coefficient statistics:\n",
      "  Matrix range     [2e-04, 4e+02]\n",
      "  Objective range  [1e-01, 7e+01]\n",
      "  Bounds range     [1e+00, 1e+00]\n",
      "  RHS range        [1e+00, 1e+02]\n",
      "Found heuristic solution: objective 71043.800000\n",
      "Presolve removed 8864 rows and 11472 columns\n",
      "Presolve time: 0.03s\n",
      "Presolved: 784 rows, 1104 columns, 2760 nonzeros\n",
      "Found heuristic solution: objective 67471.100000\n",
      "Variable types: 0 continuous, 1104 integer (345 binary)\n",
      "Found heuristic solution: objective 67450.100000\n",
      "\n",
      "Root relaxation: objective 6.221961e+04, 1101 iterations, 0.01 seconds (0.00 work units)\n",
      "\n",
      "    Nodes    |    Current Node    |     Objective Bounds      |     Work\n",
      " Expl Unexpl |  Obj  Depth IntInf | Incumbent    BestBd   Gap | It/Node Time\n",
      "\n",
      "     0     0 62219.6084    0  233 67450.1000 62219.6084  7.75%     -    0s\n",
      "H    0     0                    64643.400000 62219.6084  3.75%     -    0s\n",
      "H    0     0                    64634.500000 62219.6084  3.74%     -    0s\n",
      "H    0     0                    64627.500000 64502.6769  0.19%     -    0s\n",
      "     0     0 64502.6769    0    1 64627.5000 64502.6769  0.19%     -    0s\n",
      "H    0     0                    64509.900000 64502.6769  0.01%     -    0s\n",
      "H    0     0                    64506.400000 64502.6769  0.01%     -    0s\n",
      "\n",
      "Cutting planes:\n",
      "  Learned: 217\n",
      "  Gomory: 158\n",
      "  Implied bound: 15\n",
      "  Clique: 1\n",
      "  MIR: 151\n",
      "  StrongCG: 59\n",
      "  Relax-and-lift: 6\n",
      "\n",
      "Explored 1 nodes (1325 simplex iterations) in 0.09 seconds (0.03 work units)\n",
      "Thread count was 8 (of 8 available processors)\n",
      "\n",
      "Solution count 8: 64506.4 64509.9 64627.5 ... 71043.8\n",
      "\n",
      "Optimal solution found (tolerance 1.00e-04)\n",
      "Best objective 6.450640000000e+04, best bound 6.450270000000e+04, gap 0.0057%\n"
     ]
    }
   ],
   "source": [
    "# model object\n",
    "m = gp.Model()\n",
    "\n",
    "# decision variables\n",
    "# Xit\n",
    "orders = m.addVars(items, time_indexes, vtype=gp.GRB.INTEGER, lb=0)\n",
    "# Yit\n",
    "ordered_boolean = m.addVars(items, time_indexes, vtype=gp.GRB.BINARY, lb=0)\n",
    "# Sit\n",
    "storage_used = m.addVars(items, time_indexes, vtype=gp.GRB.INTEGER, lb=0)\n",
    "# Zt\n",
    "buffer_storage_used = m.addVars(time_indexes, vtype=gp.GRB.INTEGER, lb=0)\n",
    "# Dit\n",
    "clearances = m.addVars(items, time_indexes, vtype=gp.GRB.INTEGER, lb=0)\n",
    "# Qit\n",
    "item_max_order_exceeded = m.addVars(items, time_indexes, vtype=gp.GRB.INTEGER, lb=0)\n",
    "\n",
    "# objective function\n",
    "ordering_cost_per_tu_objective = gp.quicksum(ordering_cost_per_tu[item] * orders[item, t] for item in items for t in time_indexes)\n",
    "ordering_cost_fixed_objective = gp.quicksum(ordering_cost_fixed[item] * ordered_boolean[item, t] for item in items for t in time_indexes)\n",
    "buffer_storage_objective = gp.quicksum(buffer_cost * buffer_storage_used[t] for t in time_indexes)\n",
    "clearance_objective = gp.quicksum(clearing_cost_per_cu[item] * clearances[item, t] for item in items for t in time_indexes)\n",
    "max_order_objective = gp.quicksum(ordering_cost_per_tu[item] * max_order_exceed_multiplier * item_max_order_exceeded[item, t] for item in items for t in time_indexes)\n",
    "\n",
    "m.setObjective(ordering_cost_per_tu_objective + ordering_cost_fixed_objective + buffer_storage_objective + clearance_objective + max_order_objective, sense=gp.GRB.MINIMIZE)\n",
    "\n",
    "# constraints\n",
    "# demand satisfaction\n",
    "for item in demand.keys():\n",
    "    for t in time_indexes:\n",
    "        if(t==0):\n",
    "            m.addConstr(\n",
    "                (orders[item, t] * cu_per_tu[item])\n",
    "                -\n",
    "                storage_used[item, t]\n",
    "                -\n",
    "                clearances[item, t]\n",
    "                >=\n",
    "                demand[item][t]\n",
    "                \n",
    "            )\n",
    "        else:\n",
    "            m.addConstr(\n",
    "                (orders[item, t] * cu_per_tu[item])\n",
    "                +\n",
    "                storage_used[item, t-1]\n",
    "                -\n",
    "                storage_used[item, t]\n",
    "                -\n",
    "                clearances[item, t]\n",
    "                >=\n",
    "                demand[item][t]\n",
    "            )\n",
    "\n",
    "\n",
    "\n",
    "# inventory volume constraint\n",
    "for t in time_indexes:\n",
    "    if(t==0):\n",
    "        m.addConstr(\n",
    "            gp.quicksum(\n",
    "                volume_per_cu[item] * \n",
    "                (\n",
    "                    (cu_per_tu[item] * orders[item, t])\n",
    "                )\n",
    "                for item in items\n",
    "            )\n",
    "            <=\n",
    "            warehouse_volume\n",
    "            +\n",
    "            buffer_storage_used[t]\n",
    "        )\n",
    "\n",
    "    else:\n",
    "        m.addConstr(\n",
    "            gp.quicksum(\n",
    "                volume_per_cu[item] *\n",
    "                (\n",
    "                    storage_used[item,t-1]\n",
    "                    +\n",
    "                    (cu_per_tu[item] * orders[item, t])\n",
    "                )\n",
    "                for item in items\n",
    "            )\n",
    "            <=\n",
    "            warehouse_volume\n",
    "            +\n",
    "            buffer_storage_used[t]\n",
    "        )\n",
    "\n",
    "# min/max constraints (linking too)\n",
    "for item in demand.keys():\n",
    "    for t in time_indexes:\n",
    "        m.addConstr(ordered_boolean[item, t] >= orders[item, t] / M)\n",
    "        m.addConstr(\n",
    "            orders[item, t]\n",
    "            >=\n",
    "            minimum_order_quantity_tu[item] * ordered_boolean[item, t]\n",
    "        )\n",
    "        if((not math.isnan(maximum_order_quantity_tu[item])) and t%7!=6):\n",
    "            m.addConstr(orders[item, t] <= (maximum_order_quantity_tu[item] * ordered_boolean[item, t]) + item_max_order_exceeded[item, t])\n",
    "\n",
    "for item in demand.keys():\n",
    "    for t in time_indexes:\n",
    "        life = shelf_life[item]\n",
    "        if(t >= life):\n",
    "            m.addConstr(\n",
    "                clearances[item, t]\n",
    "                >=\n",
    "                gp.quicksum(\n",
    "                    cu_per_tu[item] * orders[item, t1] for t1 in time_indexes[:t-life]\n",
    "                )\n",
    "                -\n",
    "                gp.quicksum(\n",
    "                    demand[item][t1] for t1 in time_indexes[:t]\n",
    "                )\n",
    "                -\n",
    "                gp.quicksum(\n",
    "                    clearances[item, t1] for t1 in time_indexes[:t-1]\n",
    "                )\n",
    "            )\n",
    "\n",
    "\n",
    "for item in long_demands.keys():\n",
    "    for t in time_indexes:\n",
    "        if(t%7!=0 and t%7!=2 ):\n",
    "            m.addConstr(orders[item, t] == 0)\n",
    "            m.addConstr(ordered_boolean[item, t] == 0)\n",
    "\n",
    "\n",
    "# sunday constraint\n",
    "for item in demand.keys():\n",
    "    for t in time_indexes:\n",
    "        if(t%7==6):\n",
    "            m.addConstr(orders[item, t] == 0)\n",
    "            m.addConstr(ordered_boolean[item, t] == 0)\n",
    "            m.addConstr(clearances[item, t] == 0)\n",
    "            m.addConstr(storage_used[item, t] == storage_used[item, t-1])\n",
    "\n",
    "m.setParam('TimeLimit', 3*60*60)\n",
    "m.optimize()"
   ]
  },
  {
   "cell_type": "code",
   "execution_count": 44,
   "metadata": {},
   "outputs": [
    {
     "name": "stdout",
     "output_type": "stream",
     "text": [
      "Ordering 60100.399999999965\n",
      "Fixing  4273.099999999999\n",
      "Clearance  0.0\n",
      "Max Order  6.300000000000001\n",
      "Buffer  125.0\n"
     ]
    }
   ],
   "source": [
    "#General Variables\n",
    "print('Ordering',ordering_cost_per_tu_objective.getValue())\n",
    "print('Fixing ',ordering_cost_fixed_objective.getValue())\n",
    "print('Clearance ',clearance_objective.getValue())\n",
    "print('Max Order ',max_order_objective.getValue())\n",
    "print('Buffer ',buffer_storage_objective.getValue())\n"
   ]
  },
  {
   "cell_type": "code",
   "execution_count": null,
   "metadata": {},
   "outputs": [],
   "source": []
  }
 ],
 "metadata": {
  "kernelspec": {
   "display_name": "Python 3 (ipykernel)",
   "language": "python",
   "name": "python3"
  },
  "language_info": {
   "codemirror_mode": {
    "name": "ipython",
    "version": 3
   },
   "file_extension": ".py",
   "mimetype": "text/x-python",
   "name": "python",
   "nbconvert_exporter": "python",
   "pygments_lexer": "ipython3",
   "version": "3.9.6"
  },
  "vscode": {
   "interpreter": {
    "hash": "31f2aee4e71d21fbe5cf8b01ff0e069b9275f58929596ceb00d14d90e3e16cd6"
   }
  }
 },
 "nbformat": 4,
 "nbformat_minor": 2
}
