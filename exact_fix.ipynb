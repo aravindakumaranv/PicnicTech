{
 "cells": [
  {
   "cell_type": "code",
   "execution_count": 16,
   "metadata": {},
   "outputs": [],
   "source": [
    "import pandas as pd\n",
    "import gurobipy as gp\n",
    "import math\n",
    "import pickle as pkl\n",
    "from datetime import datetime, timedelta"
   ]
  },
  {
   "cell_type": "code",
   "execution_count": 114,
   "metadata": {},
   "outputs": [],
   "source": [
    "product_type = \"ambient\"\n",
    "num_time_periods = 7"
   ]
  },
  {
   "cell_type": "code",
   "execution_count": 115,
   "metadata": {},
   "outputs": [],
   "source": [
    "article_data = pd.read_csv(\"./data/article.csv\")\n",
    "article_data = article_data[(article_data['TEMPERATURE_ZONE'] == product_type)]\n",
    "#article_data = article_data.head(2000)\n",
    "long_shelf_life = article_data [article_data['MEAN_SHELF_LIFE'] >= 2 ]\n"
   ]
  },
  {
   "cell_type": "code",
   "execution_count": 116,
   "metadata": {},
   "outputs": [],
   "source": [
    "# constants definitions\n",
    "if(product_type==\"frozen\"):\n",
    "    warehouse_volume = 50\n",
    "if(product_type==\"chilled\"):\n",
    "    warehouse_volume = 250\n",
    "if(product_type==\"ambient\"):\n",
    "    warehouse_volume = 900\n",
    "buffer_cost = 25\n",
    "max_order_exceed_multiplier = 1.5"
   ]
  },
  {
   "cell_type": "code",
   "execution_count": 117,
   "metadata": {},
   "outputs": [],
   "source": [
    "def createParameterMatrix(data, columns):\n",
    "    parameters = []\n",
    "    for column in columns:\n",
    "        parameters.append(data[column].to_list())\n",
    "    parameters = list(map(list, zip(*parameters)))\n",
    "    return parameters"
   ]
  },
  {
   "cell_type": "code",
   "execution_count": 118,
   "metadata": {},
   "outputs": [],
   "source": [
    "articles = article_data['ARTICLE_ID'].to_list()\n",
    "long_shelf_id = long_shelf_life['ARTICLE_ID'].to_list()\n",
    "\n",
    "parameters = createParameterMatrix(\n",
    "    article_data,\n",
    "    [\n",
    "        'TEMPERATURE_ZONE',\n",
    "        'VOLUME_M3_PER_CU',\n",
    "        'MEAN_SHELF_LIFE',\n",
    "        'CU_PER_TU',\n",
    "        'ORDERING_COST_FIXED',\n",
    "        'ORDERING_COST_PER_TU',\n",
    "        'CLEARING_COST_PER_CU',\n",
    "        'MINIMUM_ORDER_QUANTITY_TU',\n",
    "        'MAXIMUM_ORDER_QUANTITY_TU'\n",
    "    ]\n",
    ")\n",
    "parameters_dict = dict(zip(articles, parameters))"
   ]
  },
  {
   "cell_type": "code",
   "execution_count": 119,
   "metadata": {},
   "outputs": [],
   "source": [
    "items, category, volume_per_cu, shelf_life, cu_per_tu, ordering_cost_fixed, ordering_cost_per_tu, clearing_cost_per_cu, minimum_order_quantity_tu, maximum_order_quantity_tu = gp.multidict(parameters_dict)"
   ]
  },
  {
   "cell_type": "code",
   "execution_count": 120,
   "metadata": {},
   "outputs": [],
   "source": [
    "forecast_data = pd.read_csv('./data/sales_'+str(num_time_periods)+'.csv')\n",
    "forecast_data = forecast_data[forecast_data['ARTICLE_ID'].isin(articles)]"
   ]
  },
  {
   "cell_type": "code",
   "execution_count": 121,
   "metadata": {},
   "outputs": [],
   "source": [
    "# Create a new dataframe with all dates\n",
    "all_dates_df = pd.DataFrame({'DATE': pd.date_range(start=min(forecast_data['DATE']), end=max(forecast_data['DATE']), freq='D')}).astype(str)\n",
    "# Group the original dataframe by item\n",
    "grouped = forecast_data.groupby('ARTICLE_ID')\n",
    "\n",
    "# Initialize an empty list to store the new dataframes\n",
    "new_dfs = []\n",
    "\n",
    "# Loop over each group\n",
    "for item, group_df in grouped:\n",
    "    \n",
    "    group_df['DATE'] = pd.to_datetime(group_df['DATE']).astype(str)\n",
    "\n",
    "    # Merge the group dataframe with the all_dates dataframe\n",
    "    merged_df = pd.merge(all_dates_df, group_df, on='DATE', how='outer')\n",
    "    merged_df['ARTICLE_ID'] = item\n",
    "    \n",
    "    # Fill in missing values\n",
    "    merged_df['PICKING_QUANTITY_CU'] = merged_df['PICKING_QUANTITY_CU'].fillna(0)\n",
    "    \n",
    "    # Sort by date and append to the list\n",
    "    new_dfs.append(merged_df.sort_values('DATE'))\n",
    "    \n",
    "# Concatenate all new dataframes into a single dataframe\n",
    "forecast_data = pd.concat(new_dfs)\n",
    "time_periods = forecast_data['DATE'].unique()\n",
    "\n",
    "time_indexes = [*range(len(time_periods))]\n",
    "date_to_index = {time_periods[i]:[*range(len(time_periods))][i] for i in time_indexes}\n",
    "index_to_date = {[*range(len(time_periods))][i]:time_periods[i] for i in time_indexes}\n",
    "\n",
    "demand = forecast_data.groupby('ARTICLE_ID').apply(lambda x: dict(zip(x['DATE'], x['PICKING_QUANTITY_CU']))).to_dict()\n",
    "for item in demand.keys():\n",
    "    demand[item] = dict((date_to_index[key], value) for (key, value) in demand[item].items())"
   ]
  },
  {
   "cell_type": "code",
   "execution_count": 122,
   "metadata": {},
   "outputs": [],
   "source": [
    "short_demands, long_demands = {}, {}"
   ]
  },
  {
   "cell_type": "code",
   "execution_count": 123,
   "metadata": {},
   "outputs": [],
   "source": [
    "for item in demand:\n",
    "    if item in long_shelf_id:\n",
    "        long_demands[item] = demand[item]\n",
    "    else:\n",
    "        short_demands[item] = demand[item]"
   ]
  },
  {
   "cell_type": "code",
   "execution_count": 124,
   "metadata": {},
   "outputs": [
    {
     "data": {
      "text/plain": [
       "0"
      ]
     },
     "execution_count": 124,
     "metadata": {},
     "output_type": "execute_result"
    }
   ],
   "source": [
    "len(short_demands)"
   ]
  },
  {
   "cell_type": "code",
   "execution_count": 125,
   "metadata": {},
   "outputs": [
    {
     "data": {
      "text/plain": [
       "4965"
      ]
     },
     "execution_count": 125,
     "metadata": {},
     "output_type": "execute_result"
    }
   ],
   "source": [
    "len(long_demands)"
   ]
  },
  {
   "cell_type": "code",
   "execution_count": 126,
   "metadata": {},
   "outputs": [
    {
     "name": "stdout",
     "output_type": "stream",
     "text": [
      "Set parameter TimeLimit to value 10800\n",
      "Gurobi Optimizer version 10.0.1 build v10.0.1rc0 (mac64[arm])\n",
      "\n",
      "CPU model: Apple M2\n",
      "Thread count: 8 physical cores, 8 logical processors, using up to 8 threads\n",
      "\n",
      "Optimize a model with 95387 rows, 199986 columns and 269608 nonzeros\n",
      "Model fingerprint: 0xc96c9285\n",
      "Variable types: 0 continuous, 199986 integer (39996 binary)\n",
      "Coefficient statistics:\n",
      "  Matrix range     [1e-09, 5e+02]\n",
      "  Objective range  [1e-01, 7e+01]\n",
      "  Bounds range     [1e+00, 1e+00]\n",
      "  RHS range        [1e+00, 6e+03]\n",
      "Presolve removed 82086 rows and 177121 columns\n",
      "Presolve time: 0.51s\n",
      "Presolved: 13301 rows, 22865 columns, 61121 nonzeros\n",
      "Variable types: 0 continuous, 22865 integer (5265 binary)\n",
      "Found heuristic solution: objective 754685.25000\n",
      "\n",
      "Root relaxation: objective 6.900761e+05, 13133 iterations, 0.08 seconds (0.03 work units)\n",
      "\n",
      "    Nodes    |    Current Node    |     Objective Bounds      |     Work\n",
      " Expl Unexpl |  Obj  Depth IntInf | Incumbent    BestBd   Gap | It/Node Time\n",
      "\n",
      "     0     0 690076.059    0 4447 754685.250 690076.059  8.56%     -    1s\n",
      "H    0     0                    729969.85000 690076.059  5.47%     -    1s\n",
      "H    0     0                    728589.35000 690076.059  5.29%     -    1s\n",
      "     0     0 694297.907    0 3992 728589.350 694297.907  4.71%     -    1s\n",
      "H    0     0                    724477.10000 694297.907  4.17%     -    1s\n",
      "     0     0 699718.274    0 3752 724477.100 699718.274  3.42%     -    1s\n",
      "     0     0 700708.786    0 3490 724477.100 700708.786  3.28%     -    1s\n",
      "     0     0 700716.162    0 3479 724477.100 700716.162  3.28%     -    1s\n",
      "     0     0 711879.926    0 2608 724477.100 711879.926  1.74%     -    2s\n",
      "     0     0 714304.803    0 1953 724477.100 714304.803  1.40%     -    2s\n",
      "     0     0 714455.308    0 1876 724477.100 714455.308  1.38%     -    2s\n",
      "     0     0 714455.484    0 1807 724477.100 714455.484  1.38%     -    2s\n",
      "     0     0 720836.096    0  897 724477.100 720836.096  0.50%     -    2s\n",
      "H    0     0                    723840.60000 720836.096  0.42%     -    3s\n",
      "     0     0 721172.578    0  771 723840.600 721172.578  0.37%     -    3s\n",
      "     0     0 721245.289    0  766 723840.600 721245.289  0.36%     -    3s\n",
      "     0     0 721256.902    0  750 723840.600 721256.902  0.36%     -    3s\n",
      "     0     0 722559.057    0  466 723840.600 722559.057  0.18%     -    3s\n",
      "     0     0 722650.557    0  411 723840.600 722650.557  0.16%     -    3s\n",
      "     0     0 722651.661    0  408 723840.600 722651.661  0.16%     -    3s\n",
      "     0     0 722857.094    0  310 723840.600 722857.094  0.14%     -    3s\n",
      "H    0     0                    723659.10000 722857.094  0.11%     -    3s\n",
      "     0     0 722857.335    0  315 723659.100 722857.335  0.11%     -    4s\n",
      "     0     0 722891.076    0  319 723659.100 722891.076  0.11%     -    4s\n",
      "     0     0 722891.076    0  319 723659.100 722891.076  0.11%     -    4s\n",
      "H    0     0                    723645.80000 722891.076  0.10%     -    4s\n",
      "     0     2 722891.076    0  319 723645.800 722891.076  0.10%     -    5s\n",
      "H   31    40                    723641.05000 722936.180  0.10%  66.9    5s\n",
      "  1075  1172 723141.854  127  114 723641.050 722939.625  0.10%   3.1   10s\n",
      "H 3968  4001                    723623.35000 722939.625  0.09%   1.6   15s\n",
      "  6063  6250 723491.100  633   56 723623.350 722939.625  0.09%   1.3   20s\n",
      "  7618  7000 723303.674  182  240 723623.350 723303.674  0.04%   1.2   25s\n",
      "\n",
      "Cutting planes:\n",
      "  Learned: 378\n",
      "  Gomory: 128\n",
      "  Implied bound: 60\n",
      "  MIR: 4459\n",
      "  StrongCG: 155\n",
      "  Flow cover: 44\n",
      "  Zero half: 386\n",
      "  Mod-K: 57\n",
      "  RLT: 40\n",
      "  Relax-and-lift: 36\n",
      "\n",
      "Explored 7620 nodes (55997 simplex iterations) in 25.79 seconds (9.78 work units)\n",
      "Thread count was 8 (of 8 available processors)\n",
      "\n",
      "Solution count 10: 723623 723623 723641 ... 754685\n",
      "\n",
      "Optimal solution found (tolerance 1.00e-04)\n",
      "Best objective 7.236233500000e+05, best bound 7.236195761547e+05, gap 0.0005%\n"
     ]
    }
   ],
   "source": [
    "# model object\n",
    "m = gp.Model()\n",
    "\n",
    "# decision variables\n",
    "# Xit\n",
    "orders = m.addVars(items, time_indexes, vtype=gp.GRB.INTEGER, lb=0)\n",
    "# Yit\n",
    "ordered_boolean = m.addVars(items, time_indexes, vtype=gp.GRB.BINARY, lb=0)\n",
    "# Sit\n",
    "storage_used = m.addVars(items, time_indexes, vtype=gp.GRB.INTEGER, lb=0)\n",
    "# Zt\n",
    "buffer_storage_used = m.addVars(time_indexes, vtype=gp.GRB.INTEGER, lb=0)\n",
    "# Dit\n",
    "clearances = m.addVars(items, time_indexes, vtype=gp.GRB.INTEGER, lb=0)\n",
    "# Qit\n",
    "item_max_order_exceeded = m.addVars(items, time_indexes, vtype=gp.GRB.INTEGER, lb=0)\n",
    "\n",
    "# objective function\n",
    "ordering_cost_per_tu_objective = gp.quicksum(ordering_cost_per_tu[item] * orders[item, t] for item in items for t in time_indexes)\n",
    "ordering_cost_fixed_objective = gp.quicksum(ordering_cost_fixed[item] * ordered_boolean[item, t] for item in items for t in time_indexes)\n",
    "buffer_storage_objective = gp.quicksum(buffer_cost * buffer_storage_used[t] for t in time_indexes)\n",
    "clearance_objective = gp.quicksum(clearing_cost_per_cu[item] * clearances[item, t] for item in items for t in time_indexes)\n",
    "max_order_objective = gp.quicksum(ordering_cost_per_tu[item] * max_order_exceed_multiplier * item_max_order_exceeded[item, t] for item in items for t in time_indexes)\n",
    "\n",
    "m.setObjective(ordering_cost_per_tu_objective + ordering_cost_fixed_objective + buffer_storage_objective + clearance_objective + max_order_objective, sense=gp.GRB.MINIMIZE)\n",
    "\n",
    "# constraints\n",
    "# demand satisfaction\n",
    "for item in demand.keys():\n",
    "    for t in time_indexes:\n",
    "        if(t==0):\n",
    "            m.addConstr(\n",
    "                (orders[item, t] * cu_per_tu[item])\n",
    "                -\n",
    "                storage_used[item, t]\n",
    "                -\n",
    "                clearances[item, t]\n",
    "                >=\n",
    "                demand[item][t]\n",
    "                \n",
    "            )\n",
    "        else:\n",
    "            m.addConstr(\n",
    "                (orders[item, t] * cu_per_tu[item])\n",
    "                +\n",
    "                storage_used[item, t-1]\n",
    "                -\n",
    "                storage_used[item, t]\n",
    "                -\n",
    "                clearances[item, t]\n",
    "                >=\n",
    "                demand[item][t]\n",
    "            )\n",
    "\n",
    "\n",
    "\n",
    "# inventory volume constraint\n",
    "for t in time_indexes:\n",
    "    if(t==0):\n",
    "        m.addConstr(\n",
    "            gp.quicksum(\n",
    "                volume_per_cu[item] * \n",
    "                (\n",
    "                    (cu_per_tu[item] * orders[item, t])\n",
    "                )\n",
    "                for item in items\n",
    "            )\n",
    "            <=\n",
    "            warehouse_volume\n",
    "            +\n",
    "            buffer_storage_used[t]\n",
    "        )\n",
    "\n",
    "    else:\n",
    "        m.addConstr(\n",
    "            gp.quicksum(\n",
    "                volume_per_cu[item] *\n",
    "                (\n",
    "                    storage_used[item,t-1]\n",
    "                    +\n",
    "                    (cu_per_tu[item] * orders[item, t])\n",
    "                )\n",
    "                for item in items\n",
    "            )\n",
    "            <=\n",
    "            warehouse_volume\n",
    "            +\n",
    "            buffer_storage_used[t]\n",
    "        )\n",
    "\n",
    "# min/max constraints (linking too)\n",
    "for item in demand.keys():\n",
    "    for t in time_indexes:\n",
    "        m.addConstr(\n",
    "            orders[item, t]\n",
    "            >=\n",
    "            minimum_order_quantity_tu[item] * ordered_boolean[item, t]\n",
    "        )\n",
    "        if((not math.isnan(maximum_order_quantity_tu[item])) and t%7!=6):\n",
    "            m.addConstr(orders[item, t] <= (maximum_order_quantity_tu[item] * ordered_boolean[item, t]) + item_max_order_exceeded[item, t])\n",
    "\n",
    "for item in demand.keys():\n",
    "    for t in time_indexes:\n",
    "        life = shelf_life[item]\n",
    "        if(t >= life):\n",
    "            m.addConstr(\n",
    "                clearances[item, t]\n",
    "                >=\n",
    "                gp.quicksum(\n",
    "                    cu_per_tu[item] * orders[item, t1] for t1 in time_indexes[:t-life]\n",
    "                )\n",
    "                -\n",
    "                gp.quicksum(\n",
    "                    demand[item][t1] for t1 in time_indexes[:t]\n",
    "                )\n",
    "                -\n",
    "                gp.quicksum(\n",
    "                    clearances[item, t1] for t1 in time_indexes[:t-1]\n",
    "                )\n",
    "            )\n",
    "\n",
    "\n",
    "for item in long_demands.keys():\n",
    "    for t in time_indexes:\n",
    "        if(t%7!=0 and t%7!=2 and t%7!=4):\n",
    "            m.addConstr(orders[item, t] == 0)\n",
    "            m.addConstr(ordered_boolean[item, t] == 0)\n",
    "\n",
    "\n",
    "# sunday constraint\n",
    "for item in demand.keys():\n",
    "    for t in time_indexes:\n",
    "        if(t%7==6):\n",
    "            m.addConstr(orders[item, t] == 0)\n",
    "            m.addConstr(ordered_boolean[item, t] == 0)\n",
    "            m.addConstr(clearances[item, t] == 0)\n",
    "            m.addConstr(storage_used[item, t] == storage_used[item, t-1])\n",
    "\n",
    "m.setParam('TimeLimit', 3*60*60)\n",
    "m.optimize()"
   ]
  }
 ],
 "metadata": {
  "kernelspec": {
   "display_name": "Python 3 (ipykernel)",
   "language": "python",
   "name": "python3"
  },
  "language_info": {
   "codemirror_mode": {
    "name": "ipython",
    "version": 3
   },
   "file_extension": ".py",
   "mimetype": "text/x-python",
   "name": "python",
   "nbconvert_exporter": "python",
   "pygments_lexer": "ipython3",
   "version": "3.9.6"
  },
  "vscode": {
   "interpreter": {
    "hash": "31f2aee4e71d21fbe5cf8b01ff0e069b9275f58929596ceb00d14d90e3e16cd6"
   }
  }
 },
 "nbformat": 4,
 "nbformat_minor": 2
}
