{
 "cells": [
  {
   "cell_type": "code",
   "execution_count": 1,
   "metadata": {},
   "outputs": [],
   "source": [
    "import pandas as pd\n",
    "import gurobipy as gp\n",
    "import math\n",
    "import pickle as pkl\n",
    "from datetime import datetime, timedelta"
   ]
  },
  {
   "cell_type": "code",
   "execution_count": 2,
   "metadata": {},
   "outputs": [],
   "source": [
    "product_type = \"frozen\"\n",
    "num_time_periods = 7"
   ]
  },
  {
   "cell_type": "code",
   "execution_count": 3,
   "metadata": {},
   "outputs": [],
   "source": [
    "article_data = pd.read_csv(\"./data/article.csv\")\n",
    "article_data = article_data[(article_data['TEMPERATURE_ZONE'] == product_type)]"
   ]
  },
  {
   "cell_type": "code",
   "execution_count": 4,
   "metadata": {},
   "outputs": [],
   "source": [
    "# constants definitions\n",
    "if(product_type==\"frozen\"):\n",
    "    warehouse_volume = 50\n",
    "if(product_type==\"chilled\"):\n",
    "    warehouse_volume = 300\n",
    "if(product_type==\"ambient\"):\n",
    "    warehouse_volume = 900\n",
    "buffer_cost = 25\n",
    "default_max_order = 10000"
   ]
  },
  {
   "cell_type": "code",
   "execution_count": 5,
   "metadata": {},
   "outputs": [],
   "source": [
    "def createParameterMatrix(data, columns):\n",
    "    parameters = []\n",
    "    for column in columns:\n",
    "        parameters.append(data[column].to_list())\n",
    "    parameters = list(map(list, zip(*parameters)))\n",
    "    return parameters"
   ]
  },
  {
   "cell_type": "code",
   "execution_count": 6,
   "metadata": {},
   "outputs": [],
   "source": [
    "articles = article_data['ARTICLE_ID'].to_list()\n",
    "\n",
    "parameters = createParameterMatrix(\n",
    "    article_data,\n",
    "    [\n",
    "        'TEMPERATURE_ZONE',\n",
    "        'VOLUME_M3_PER_CU',\n",
    "        'MEAN_SHELF_LIFE',\n",
    "        'CU_PER_TU',\n",
    "        'ORDERING_COST_FIXED',\n",
    "        'ORDERING_COST_PER_TU',\n",
    "        'CLEARING_COST_PER_CU',\n",
    "        'MINIMUM_ORDER_QUANTITY_TU',\n",
    "        'MAXIMUM_ORDER_QUANTITY_TU'\n",
    "    ]\n",
    ")\n",
    "parameters_dict = dict(zip(articles, parameters))"
   ]
  },
  {
   "cell_type": "code",
   "execution_count": 7,
   "metadata": {},
   "outputs": [],
   "source": [
    "items, category, volume_per_cu, shelf_life, cu_per_tu, ordering_cost_fixed, ordering_cost_per_tu, clearing_cost_per_cu, minimum_order_quantity_tu, maximum_order_quantity_tu = gp.multidict(parameters_dict)"
   ]
  },
  {
   "cell_type": "code",
   "execution_count": 8,
   "metadata": {},
   "outputs": [],
   "source": [
    "forecast_data = pd.read_csv('./data/sales_'+str(num_time_periods)+'.csv')\n",
    "forecast_data = forecast_data[forecast_data['ARTICLE_ID'].isin(articles)]"
   ]
  },
  {
   "cell_type": "code",
   "execution_count": 9,
   "metadata": {},
   "outputs": [],
   "source": [
    "# Create a new dataframe with all dates\n",
    "all_dates_df = pd.DataFrame({'DATE': pd.date_range(start='2022-06-13', end='2022-06-18', freq='D')}).astype(str)\n",
    "# Group the original dataframe by item\n",
    "grouped = forecast_data.groupby('ARTICLE_ID')\n",
    "\n",
    "# Initialize an empty list to store the new dataframes\n",
    "new_dfs = []\n",
    "\n",
    "# Loop over each group\n",
    "for item, group_df in grouped:\n",
    "    \n",
    "    group_df['DATE'] = pd.to_datetime(group_df['DATE']).astype(str)\n",
    "\n",
    "    # Merge the group dataframe with the all_dates dataframe\n",
    "    merged_df = pd.merge(all_dates_df, group_df, on='DATE', how='outer')\n",
    "    merged_df['ARTICLE_ID'] = item\n",
    "    \n",
    "    # Fill in missing values\n",
    "    merged_df['PICKING_QUANTITY_CU'] = merged_df['PICKING_QUANTITY_CU'].fillna(0)\n",
    "    \n",
    "    # Sort by date and append to the list\n",
    "    new_dfs.append(merged_df.sort_values('DATE'))\n",
    "    \n",
    "# Concatenate all new dataframes into a single dataframe\n",
    "forecast_data = pd.concat(new_dfs)\n",
    "time_periods = forecast_data['DATE'].unique()\n",
    "demand = forecast_data.groupby('ARTICLE_ID').apply(lambda x: dict(zip(x['DATE'], x['PICKING_QUANTITY_CU']))).to_dict()"
   ]
  },
  {
   "cell_type": "code",
   "execution_count": 10,
   "metadata": {},
   "outputs": [
    {
     "data": {
      "text/plain": [
       "{'2022-06-13': None,\n",
       " '2022-06-14': None,\n",
       " '2022-06-15': None,\n",
       " '2022-06-16': None,\n",
       " '2022-06-17': None,\n",
       " '2022-06-18': None}"
      ]
     },
     "execution_count": 10,
     "metadata": {},
     "output_type": "execute_result"
    }
   ],
   "source": [
    "period_to_index = dict.fromkeys(time_periods)\n",
    "period_to_index"
   ]
  },
  {
   "cell_type": "code",
   "execution_count": 11,
   "metadata": {},
   "outputs": [
    {
     "data": {
      "text/plain": [
       "{'2022-06-13': 5,\n",
       " '2022-06-14': 0,\n",
       " '2022-06-15': 0,\n",
       " '2022-06-16': 0,\n",
       " '2022-06-17': 0,\n",
       " '2022-06-18': 0}"
      ]
     },
     "execution_count": 11,
     "metadata": {},
     "output_type": "execute_result"
    }
   ],
   "source": [
    "shelf_life['468a73f3'] = 3\n",
    "cu_per_tu['468a73f3'] = 2\n",
    "for key in demand['468a73f3'].keys():\n",
    "    demand['468a73f3'][key] = 0\n",
    "demand['468a73f3'][time_periods[0]] = 5\n",
    "demand['468a73f3']"
   ]
  },
  {
   "cell_type": "code",
   "execution_count": 12,
   "metadata": {},
   "outputs": [
    {
     "name": "stdout",
     "output_type": "stream",
     "text": [
      "Set parameter Username\n",
      "Academic license - for non-commercial use only - expires 2024-04-21\n",
      "Gurobi Optimizer version 10.0.1 build v10.0.1rc0 (win64)\n",
      "\n",
      "CPU model: AMD Ryzen 7 5800U with Radeon Graphics, instruction set [SSE2|AVX|AVX2]\n",
      "Thread count: 8 physical cores, 16 logical processors, using up to 16 threads\n",
      "\n",
      "Optimize a model with 8336 rows, 25146 columns and 24656 nonzeros\n",
      "Model fingerprint: 0x895f8c42\n",
      "Variable types: 0 continuous, 25146 integer (2514 binary)\n",
      "Coefficient statistics:\n",
      "  Matrix range     [2e-04, 2e+01]\n",
      "  Objective range  [1e-01, 3e+01]\n",
      "  Bounds range     [1e+00, 1e+00]\n",
      "  RHS range        [1e+00, 2e+02]\n",
      "Presolve removed 8336 rows and 25146 columns\n",
      "Presolve time: 0.07s\n",
      "Presolve: All rows and columns removed\n",
      "\n",
      "Explored 0 nodes (0 simplex iterations) in 0.10 seconds (0.02 work units)\n",
      "Thread count was 1 (of 16 available processors)\n",
      "\n",
      "Solution count 2: 4908.2 4908.2 \n",
      "\n",
      "Optimal solution found (tolerance 1.00e-04)\n",
      "Best objective 4.908200000000e+03, best bound 4.908200000000e+03, gap 0.0000%\n"
     ]
    }
   ],
   "source": [
    "# model object\n",
    "m = gp.Model()\n",
    "\n",
    "# decision variables\n",
    "# Xit\n",
    "orders = m.addVars(items, time_periods, vtype=gp.GRB.INTEGER, lb=0)\n",
    "# Yit\n",
    "ordered_boolean = m.addVars(items, time_periods, vtype=gp.GRB.BINARY, lb=0)\n",
    "# Sit\n",
    "storage_used = m.addVars(items, time_periods, vtype=gp.GRB.INTEGER, lb=0)\n",
    "# Zt\n",
    "buffer_storage_used = m.addVars(time_periods, vtype=gp.GRB.INTEGER, lb=0)\n",
    "# Dit\n",
    "clearances = m.addVars(items, time_periods, vtype=gp.GRB.INTEGER, lb=0)\n",
    "\n",
    "# Xit1t2\n",
    "orders_disaggregated = m.addVars(items, time_periods, time_periods, vtype=gp.GRB.INTEGER, lb=0)\n",
    "\n",
    "# for item in items:\n",
    "#     for t1 in range(len(time_periods)):\n",
    "#         for t2 in range(t1,len(time_periods)):\n",
    "#             if (t2<=t1 + shelf_life[item]):\n",
    "#                 orders_disaggregated[item, time_periods[t1], time_periods[t2]] = m.addVar(vtype=gp.GRB.INTEGER, lb=0)\n",
    "\n",
    "# objective function\n",
    "ordering_cost_per_tu_objective = gp.quicksum(ordering_cost_per_tu[item] * orders[item, time_period] for item in items for time_period in time_periods)\n",
    "ordering_cost_fixed_objective = gp.quicksum(ordering_cost_fixed[item] * ordered_boolean[item, time_period] for item in items for time_period in time_periods)\n",
    "buffer_storage_objective = gp.quicksum(buffer_cost * buffer_storage_used[time_period] for time_period in time_periods)\n",
    "clearance_objective = gp.quicksum(clearing_cost_per_cu[item] * clearances[item, time_period] for item in items for time_period in time_periods)\n",
    "\n",
    "m.setObjective(ordering_cost_per_tu_objective + ordering_cost_fixed_objective + buffer_storage_objective, sense=gp.GRB.MINIMIZE)\n",
    "\n",
    "# constraints\n",
    "# demand satisfaction\n",
    "for item in demand.keys():\n",
    "    for time_period_iterator, time_period in enumerate(time_periods):\n",
    "        if(time_period_iterator==0):\n",
    "            m.addConstr(orders[item, time_period] * cu_per_tu[item] - clearances[item, time_period]>= demand[item][time_period],name=\"demand constraint_\" + str(time_period))\n",
    "        else:\n",
    "            m.addConstr((orders[item, time_period] * cu_per_tu[item]) + storage_used[item, time_periods[time_period_iterator-1]] - clearances[item, time_period]>= demand[item][time_period],name=\"demand constraint_\" + str(time_period))\n",
    "\n",
    "# inventory volume constraint\n",
    "for time_period_iterator, time_period in enumerate(time_periods):\n",
    "    if(time_period_iterator==0):\n",
    "        m.addConstr(gp.quicksum(volume_per_cu[item] * ((cu_per_tu[item] * (orders[item, time_period]))) for item in items) <= warehouse_volume + buffer_storage_used[time_period])\n",
    "    else:\n",
    "        m.addConstr(gp.quicksum(volume_per_cu[item] * (storage_used[item, time_periods[time_period_iterator-1]] + (cu_per_tu[item] * (orders[item, time_period]))) for item in items) <= warehouse_volume + buffer_storage_used[time_period])\n",
    "\n",
    "# # min/max constraints (linking too)\n",
    "for item in demand.keys():\n",
    "    for time_period in time_periods:\n",
    "        m.addConstr(orders[item, time_period] >= minimum_order_quantity_tu[item] * ordered_boolean[item, time_period])\n",
    "        # if((not math.isnan(maximum_order_quantity_tu[item]))):\n",
    "        #     m.addConstr(orders[item, time_period] <= maximum_order_quantity_tu[item] * ordered_boolean[item, time_period])\n",
    "        # else:\n",
    "        #     m.addConstr(orders[item, time_period] <= default_max_order * ordered_boolean[item, time_period])\n",
    "\n",
    "# current inventory constraint\n",
    "for item in demand.keys():\n",
    "    for time_period_iterator,time_period in enumerate(time_periods):\n",
    "        if(time_period_iterator==0):\n",
    "            m.addConstr(storage_used[item, time_periods[time_period_iterator]] == (orders[item, time_period] * cu_per_tu[item]) - demand[item][time_period])\n",
    "        else:\n",
    "            m.addConstr(storage_used[item, time_periods[time_period_iterator]] == storage_used[item, time_periods[time_period_iterator-1]] + (orders[item, time_period] * cu_per_tu[item]) - demand[item][time_period])\n",
    "\n",
    "# clearance constraint\n",
    "for item in demand.keys():\n",
    "    life = shelf_life[item]\n",
    "    for time_period_iterator,time_period in enumerate(time_periods):\n",
    "        if(time_period_iterator + life < len(time_periods)-1):\n",
    "            m.addConstr(clearances[item, time_periods[time_period_iterator + life]] == (orders[item, time_period] * cu_per_tu[item]) - (gp.quicksum(orders_disaggregated[item, time_period, t2] for t2 in time_periods[time_period_iterator:time_period_iterator+life])))\n",
    "    m.addConstr(clearances[item, time_periods[-1]] == storage_used[item, time_periods[-1]])\n",
    "\n",
    "for item in demand.keys():\n",
    "    for time_period_iterator, time_period in enumerate(time_periods):\n",
    "        if(time_period_iterator!=0):\n",
    "            m.addConstr(gp.quicksum(orders_disaggregated[item, t1, time_period] for t1 in time_periods[:time_period_iterator]) == demand[item][time_period])\n",
    "        # m.addConstr(orders[item, time_period] * cu_per_tu[item] <= gp.quicksum(orders_disaggregated[item, time_period, t2] for t2 in time_periods[time_period_iterator:]))\n",
    "\n",
    "# m.setParam(gp.GRB.Param.Heuristics, 0) \n",
    "m.optimize()"
   ]
  },
  {
   "cell_type": "code",
   "execution_count": 14,
   "metadata": {},
   "outputs": [
    {
     "data": {
      "text/plain": [
       "[]"
      ]
     },
     "execution_count": 14,
     "metadata": {},
     "output_type": "execute_result"
    }
   ],
   "source": [
    "x =[1,2,3,4]\n",
    "x[:0]"
   ]
  },
  {
   "cell_type": "code",
   "execution_count": 15,
   "metadata": {},
   "outputs": [
    {
     "name": "stdout",
     "output_type": "stream",
     "text": [
      "<gurobi.Var C0 (value 3.0)>\n",
      "5\n",
      "<gurobi.Var C10062 (value 6.0)>\n",
      "2022-06-18\n",
      "<gurobi.Var C7553 (value 1.0)>\n",
      "YES\n"
     ]
    }
   ],
   "source": [
    "print(orders[('468a73f3',time_periods[0])])\n",
    "print(demand['468a73f3'][time_periods[0]])\n",
    "print(orders_disaggregated['468a73f3',time_periods[0],time_periods[0]])\n",
    "for time_period in time_periods:\n",
    "    if (clearances['468a73f3',time_period].X > 0):\n",
    "        print(time_period)\n",
    "        print(clearances['468a73f3',time_period])\n",
    "        print(\"YES\")"
   ]
  }
 ],
 "metadata": {
  "kernelspec": {
   "display_name": "Python 3.x",
   "language": "python",
   "name": "python3"
  },
  "language_info": {
   "codemirror_mode": {
    "name": "ipython",
    "version": 3
   },
   "file_extension": ".py",
   "mimetype": "text/x-python",
   "name": "python",
   "nbconvert_exporter": "python",
   "pygments_lexer": "ipython3",
   "version": "3.10.2"
  },
  "orig_nbformat": 4,
  "vscode": {
   "interpreter": {
    "hash": "31f2aee4e71d21fbe5cf8b01ff0e069b9275f58929596ceb00d14d90e3e16cd6"
   }
  }
 },
 "nbformat": 4,
 "nbformat_minor": 2
}
