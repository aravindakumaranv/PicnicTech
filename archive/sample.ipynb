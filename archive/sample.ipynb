{
 "cells": [
  {
   "cell_type": "code",
   "execution_count": 7,
   "metadata": {},
   "outputs": [
    {
     "name": "stdout",
     "output_type": "stream",
     "text": [
      "Gurobi Optimizer version 10.0.1 build v10.0.1rc0 (win64)\n",
      "\n",
      "CPU model: AMD Ryzen 7 5800U with Radeon Graphics, instruction set [SSE2|AVX|AVX2]\n",
      "Thread count: 8 physical cores, 16 logical processors, using up to 16 threads\n",
      "\n",
      "Optimize a model with 2 rows, 1 columns and 2 nonzeros\n",
      "Model fingerprint: 0xeccded11\n",
      "Coefficient statistics:\n",
      "  Matrix range     [1e+00, 1e+00]\n",
      "  Objective range  [1e+00, 1e+00]\n",
      "  Bounds range     [0e+00, 0e+00]\n",
      "  RHS range        [1e+01, 1e+01]\n",
      "Presolve time: 0.01s\n",
      "\n",
      "Solved in 0 iterations and 0.01 seconds (0.00 work units)\n",
      "Infeasible model\n",
      "No optimal solution found.\n"
     ]
    }
   ],
   "source": [
    "import gurobipy as gp\n",
    "\n",
    "# Create a Gurobi model\n",
    "m = gp.Model()\n",
    "\n",
    "# Create decision variables\n",
    "x = m.addVar(vtype=gp.GRB.CONTINUOUS, lb=0, name=\"x\")\n",
    "y = m.addVar(vtype=gp.GRB.CONTINUOUS, lb=0, name=\"y\")\n",
    "\n",
    "# Set the objective function\n",
    "m.setObjective(x, sense=gp.GRB.MINIMIZE)\n",
    "\n",
    "# Add constraints\n",
    "m.addConstr(x + y >= 10, name=\"constraint1\")\n",
    "m.addConstr(2*x + 3*y >= 25, name=\"constraint2\")\n",
    "\n",
    "# Optimize the model\n",
    "m.optimize()\n",
    "\n",
    "# Check optimization status\n",
    "if m.status == gp.GRB.OPTIMAL:\n",
    "    print(\"Optimal solution found:\")\n",
    "    print(\"x =\", x.x)\n",
    "    print(\"y =\", y.x)\n",
    "    print(\"Objective value =\", m.objVal)\n",
    "else:\n",
    "    print(\"No optimal solution found.\")\n"
   ]
  }
 ],
 "metadata": {
  "kernelspec": {
   "display_name": "virtualEnv",
   "language": "python",
   "name": "python3"
  },
  "language_info": {
   "codemirror_mode": {
    "name": "ipython",
    "version": 3
   },
   "file_extension": ".py",
   "mimetype": "text/x-python",
   "name": "python",
   "nbconvert_exporter": "python",
   "pygments_lexer": "ipython3",
   "version": "3.10.2"
  },
  "orig_nbformat": 4
 },
 "nbformat": 4,
 "nbformat_minor": 2
}
