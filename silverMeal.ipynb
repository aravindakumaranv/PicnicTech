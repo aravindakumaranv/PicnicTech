{
 "cells": [
  {
   "cell_type": "code",
   "execution_count": 241,
   "metadata": {},
   "outputs": [],
   "source": [
    "import pandas as pd\n",
    "import gurobipy as gp\n",
    "import math\n",
    "import pickle as pkl\n",
    "from datetime import datetime, timedelta"
   ]
  },
  {
   "cell_type": "code",
   "execution_count": 242,
   "metadata": {},
   "outputs": [],
   "source": [
    "product_type = \"chilled\"\n",
    "num_time_periods = 7"
   ]
  },
  {
   "cell_type": "code",
   "execution_count": 243,
   "metadata": {},
   "outputs": [],
   "source": [
    "article_data = pd.read_csv(\"./data/article.csv\")\n",
    "article_data = article_data[(article_data['TEMPERATURE_ZONE'] == product_type)]\n",
    "# article_data = article_data.head(10)\n",
    "test_article = '3ef73cbe'\n",
    "article_data = article_data[(article_data['ARTICLE_ID'] == test_article)]"
   ]
  },
  {
   "cell_type": "code",
   "execution_count": 244,
   "metadata": {},
   "outputs": [],
   "source": [
    "\n",
    "if(product_type==\"frozen\"):\n",
    "    warehouse_volume = 30\n",
    "if(product_type==\"chilled\"):\n",
    "    warehouse_volume = 250\n",
    "if(product_type==\"ambient\"):\n",
    "    warehouse_volume = 700\n",
    "buffer_cost = 25\n",
    "max_order_exceed_multiplier = 1.5"
   ]
  },
  {
   "cell_type": "code",
   "execution_count": 245,
   "metadata": {},
   "outputs": [],
   "source": [
    "def createParameterMatrix(data, columns):\n",
    "    parameters = []\n",
    "    for column in columns:\n",
    "        parameters.append(data[column].to_list())\n",
    "    parameters = list(map(list, zip(*parameters)))\n",
    "    return parameters"
   ]
  },
  {
   "cell_type": "code",
   "execution_count": 246,
   "metadata": {},
   "outputs": [],
   "source": [
    "articles = article_data['ARTICLE_ID'].to_list()\n",
    "\n",
    "parameters = createParameterMatrix(\n",
    "    article_data,\n",
    "    [\n",
    "        'TEMPERATURE_ZONE',\n",
    "        'VOLUME_M3_PER_CU',\n",
    "        'MEAN_SHELF_LIFE',\n",
    "        'CU_PER_TU',\n",
    "        'ORDERING_COST_FIXED',\n",
    "        'ORDERING_COST_PER_TU',\n",
    "        'CLEARING_COST_PER_CU',\n",
    "        'MINIMUM_ORDER_QUANTITY_TU',\n",
    "        'MAXIMUM_ORDER_QUANTITY_TU'\n",
    "    ]\n",
    ")\n",
    "parameters_dict = dict(zip(articles, parameters))"
   ]
  },
  {
   "cell_type": "code",
   "execution_count": 247,
   "metadata": {},
   "outputs": [],
   "source": [
    "items, category, volume_per_cu, shelf_life, cu_per_tu, ordering_cost_fixed, ordering_cost_per_tu, clearing_cost_per_cu, minimum_order_quantity_tu, maximum_order_quantity_tu = gp.multidict(parameters_dict)"
   ]
  },
  {
   "cell_type": "code",
   "execution_count": 248,
   "metadata": {},
   "outputs": [],
   "source": [
    "forecast_data = pd.read_csv('./data/sales_'+str(num_time_periods)+'.csv')\n",
    "forecast_data = forecast_data[forecast_data['ARTICLE_ID'].isin(articles)]"
   ]
  },
  {
   "cell_type": "code",
   "execution_count": 249,
   "metadata": {},
   "outputs": [],
   "source": [
    "# Create a new dataframe with all dates\n",
    "all_dates_df = pd.DataFrame({'DATE': pd.date_range(start=min(forecast_data['DATE']), end=max(forecast_data['DATE']), freq='D')}).astype(str)\n",
    "\n",
    "# Group the original dataframe by item\n",
    "grouped = forecast_data.groupby('ARTICLE_ID')\n",
    "\n",
    "# Initialize an empty list to store the new dataframes\n",
    "new_dfs = []\n",
    "\n",
    "# Loop over each group\n",
    "for item, group_df in grouped:\n",
    "    \n",
    "    group_df['DATE'] = pd.to_datetime(group_df['DATE']).astype(str)\n",
    "\n",
    "    # Merge the group dataframe with the all_dates dataframe\n",
    "    merged_df = pd.merge(all_dates_df, group_df, on='DATE', how='outer')\n",
    "    merged_df['ARTICLE_ID'] = item\n",
    "    \n",
    "    # Fill in missing values\n",
    "    merged_df['PICKING_QUANTITY_CU'] = merged_df['PICKING_QUANTITY_CU'].fillna(0)\n",
    "    \n",
    "    # Sort by date and append to the list\n",
    "    new_dfs.append(merged_df.sort_values('DATE'))\n",
    "    \n",
    "# Concatenate all new dataframes into a single dataframe\n",
    "forecast_data = pd.concat(new_dfs)\n",
    "time_periods = forecast_data['DATE'].unique()\n",
    "\n",
    "time_indexes = [*range(len(time_periods))]\n",
    "date_to_index = {time_periods[i]:[*range(len(time_periods))][i] for i in time_indexes}\n",
    "index_to_date = {[*range(len(time_periods))][i]:time_periods[i] for i in time_indexes}\n",
    "\n",
    "# demand = forecast_data.groupby('DATE').apply(lambda x: dict(zip(x['ARTICLE_ID'], x['PICKING_QUANTITY_CU']))).to_dict()\n",
    "# demand = dict((date_to_index[key],value) for (key,value) in demand.items())\n",
    "\n",
    "demand = forecast_data.groupby('ARTICLE_ID').apply(lambda x: dict(zip(x['DATE'], x['PICKING_QUANTITY_CU']))).to_dict()\n",
    "for item in demand.keys():\n",
    "    demand[item] = dict((date_to_index[key], value) for (key, value) in demand[item].items())"
   ]
  },
  {
   "cell_type": "code",
   "execution_count": 250,
   "metadata": {},
   "outputs": [],
   "source": [
    "cost_dict = {\n",
    "    'fixed':0,\n",
    "    'per_tu':0,\n",
    "    'clearance':0,\n",
    "    'buffer':0,\n",
    "    'max_order_penalty':0,\n",
    "    'total':0\n",
    "}"
   ]
  },
  {
   "cell_type": "code",
   "execution_count": 251,
   "metadata": {},
   "outputs": [],
   "source": [
    "def getCost(orders, order_date, cu_per_tu_item, order_q, disposal_cost):\n",
    "        cost = 0\n",
    "        if (orders[order_date]* cu_per_tu_item) - order_q > 0:\n",
    "            cost = ((orders[order_date] * cu_per_tu_item) - order_q) * disposal_cost\n",
    "        return cost   \n",
    "\n",
    "def getMaxOrderPenalty(orders, order_date, variable_cost, maximum_order_quantity_item):\n",
    "    max_order = 0\n",
    "    if orders[order_date] > maximum_order_quantity_item: \n",
    "        #max_order = ((orders[order_date] * cu_per_tu_item) - maximum_order_quantity_item) * max_order_exceed_multiplier * variable_cost\n",
    "        max_order = ((orders[order_date]) - maximum_order_quantity_item) * max_order_exceed_multiplier * variable_cost \n",
    "    return max_order \n",
    "\n",
    "def getTotalCosts(orders, order_date, cu_per_tu_item, disposal_cost, variable_cost, maximum_order_quantity_tu_item, fixed_cost, order_q, expired_flag):\n",
    "    tot_disposal = 0\n",
    "    if expired_flag == True:\n",
    "        tot_disposal = getCost(orders, order_date, cu_per_tu_item, order_q, disposal_cost)      \n",
    "    tot_ordering = orders[order_date] * variable_cost\n",
    "    tot_fixed = fixed_cost\n",
    "    tot_max_order =  getMaxOrderPenalty(orders, order_date, variable_cost, maximum_order_quantity_tu_item)\n",
    "    #print(item, tot_ordering, tot_fixed)\n",
    "    return tot_disposal, tot_ordering, tot_fixed, tot_max_order\n"
   ]
  },
  {
   "cell_type": "code",
   "execution_count": 252,
   "metadata": {},
   "outputs": [
    {
     "name": "stdout",
     "output_type": "stream",
     "text": [
      "0 excess remained at loop 1 14.0 0 14.0 2\n",
      "9 excess remained at loop 3 cum demand =  3.0 orders =  1\n",
      "order q =  1\n",
      "6.0 excess remained at loop 2 4.0 4 4.0 5\n",
      "140.5\n",
      "Ordering 88.0\n",
      "Fixing  44.099999999999994\n",
      "Clearance  8.399999999999999\n",
      "Max Order  0\n"
     ]
    }
   ],
   "source": [
    "def silverMeal(item):\n",
    "    item_demand = list(demand[item].values())\n",
    "    fixed_cost = ordering_cost_fixed[item]\n",
    "    variable_cost = ordering_cost_per_tu[item]\n",
    "    cu_per_tu_item = cu_per_tu[item]\n",
    "    disposal_cost = clearing_cost_per_cu[item]\n",
    "    maximum_order_quantity_tu_item = maximum_order_quantity_tu[item]\n",
    "    minimum_order_quantity_tu_item = minimum_order_quantity_tu[item]\n",
    "    life = shelf_life[item]\n",
    "    cost = 0\n",
    "    tot_disposal = 0\n",
    "    tot_fixed = 0\n",
    "    tot_ordering = 0\n",
    "    tot_max_order = 0\n",
    "    penalty = 0\n",
    "    orders = {}\n",
    "    order_date = 0 \n",
    "    run_complete = False\n",
    "    obj_val = 0\n",
    "    v = 0\n",
    "    while(not run_complete):\n",
    "  \n",
    "        if (order_date %7 == 6):\n",
    "            order_date = order_date + 1 \n",
    "            continue   \n",
    "        \n",
    "        min_cost = float('inf')\n",
    "        cum_demand = 0\n",
    "        \n",
    "        expired_flag = False\n",
    "\n",
    "        for t in range(order_date, len(item_demand)):\n",
    "            if(t%7==6 ):\n",
    "                continue\n",
    "\n",
    "            cum_demand += item_demand[t]\n",
    "            order_q = cum_demand\n",
    "\n",
    "            #if shelf life of an item exceeds the period\n",
    "            if(t ==order_date+life):\n",
    "                \n",
    "                expired_flag = True\n",
    "                if (t == len(item_demand)-1):\n",
    "                    expired_flag = False\n",
    "                order_q = cum_demand\n",
    "\n",
    "                orders[order_date] = math.ceil(order_q/cu_per_tu_item)\n",
    "                if (math.ceil(order_q/cu_per_tu_item) < minimum_order_quantity_tu_item):\n",
    "                    order_q = minimum_order_quantity_tu_item\n",
    "                    orders[order_date] = order_q\n",
    "\n",
    "                if v>0 and order_q -v > 0 :\n",
    "                    order_q = order_q - v\n",
    "                    orders[order_date] = math.ceil(order_q/cu_per_tu_item)\n",
    "                print(v, \"excess remained at loop 1\", cum_demand, order_date, order_q, t)\n",
    "                #v = (math.ceil(order_q / cu_per_tu_item) * cu_per_tu_item) - cum_demand\n",
    "                v = 0\n",
    "                d, o, f, m = getTotalCosts(orders, order_date, cu_per_tu_item, disposal_cost, variable_cost, maximum_order_quantity_tu_item, fixed_cost, order_q, expired_flag)\n",
    "                tot_disposal += d\n",
    "                tot_ordering += o\n",
    "                tot_fixed += f\n",
    "                tot_max_order += m\n",
    "                order_date = t + 1\n",
    "                break\n",
    "\n",
    "            cost = fixed_cost + variable_cost * math.ceil(order_q/cu_per_tu_item) \n",
    "            if(math.ceil(order_q/cu_per_tu_item) > maximum_order_quantity_tu_item):\n",
    "                penalty = (math.ceil(order_q/cu_per_tu_item) - maximum_order_quantity_tu_item) * max_order_exceed_multiplier * variable_cost\n",
    "            avg_cost = (cost + penalty) / (t-order_date+1)\n",
    "            \n",
    "            #if the average cost is less now than later\n",
    "            if(avg_cost <= min_cost):\n",
    "                min_cost = avg_cost\n",
    "                if(t==len(item_demand)-1):\n",
    "                    order_q = cum_demand\n",
    "                    \n",
    "                    orders[order_date] = math.ceil(order_q/cu_per_tu_item)\n",
    "\n",
    "                    if (math.ceil(order_q/cu_per_tu_item) < minimum_order_quantity_tu_item):\n",
    "                        order_q = minimum_order_quantity_tu_item\n",
    "                        orders[order_date] = order_q\n",
    "                    \n",
    "                    if v>0  and  order_q - v > 0:\n",
    "                        order_q = order_q - v\n",
    "                        print(order_q)\n",
    "                        orders[order_date] = math.ceil(order_q/cu_per_tu_item)\n",
    "                    #print(\"loop 2\")\n",
    "                    #v = (math.ceil(order_q / cu_per_tu_item) * cu_per_tu_item) - cum_demand\n",
    "                    v = (orders[order_date]  * cu_per_tu_item) - order_q \n",
    "                    \n",
    "                    print(v, \"excess remained at loop 2\", cum_demand, order_date, order_q, t)\n",
    "                    d, o, f, m = getTotalCosts(orders, order_date, cu_per_tu_item, disposal_cost, variable_cost, maximum_order_quantity_tu_item, fixed_cost, order_q, expired_flag)\n",
    "                    tot_disposal += d\n",
    "                    tot_ordering += o\n",
    "                    tot_fixed += f\n",
    "                    tot_max_order += m\n",
    "                    run_complete = True\n",
    "                    break\n",
    "\n",
    "            # if end of time period is reached then just order till previoud demand           \n",
    "            else:\n",
    "                if(t==len(item_demand)-1):\n",
    "                    order_q = cum_demand \n",
    "                else:\n",
    "                    order_q = cum_demand - item_demand[t]\n",
    "                \n",
    "                orders[order_date] = math.ceil(order_q/cu_per_tu_item)\n",
    "\n",
    "                if (math.ceil(order_q/cu_per_tu_item) < minimum_order_quantity_tu_item):\n",
    "                    order_q = minimum_order_quantity_tu_item\n",
    "                    orders[order_date] = order_q\n",
    "\n",
    "                if v>0  and order_q - v > 0:\n",
    "                    order_q = order_q - v\n",
    "                    orders[order_date] = math.ceil(order_q/cu_per_tu_item)\n",
    "\n",
    "                v = (orders[order_date]  * cu_per_tu_item) - order_q\n",
    "                #print(orders[order_date] * cu_per_tu_item)\n",
    "                \n",
    "                print(v, \"excess remained at loop 3\", \"cum demand = \", cum_demand, \"orders = \", orders[order_date])\n",
    "                print(\"order q = \", order_q )\n",
    "\n",
    "                d, o, f, m = getTotalCosts(orders, order_date, cu_per_tu_item, disposal_cost, variable_cost, maximum_order_quantity_tu_item, fixed_cost, order_q, expired_flag)\n",
    "                tot_disposal += d\n",
    "                tot_ordering += o\n",
    "                tot_fixed += f\n",
    "                tot_max_order += m\n",
    "                if(t==len(item_demand)-1):\n",
    "                    order_date = t + 1\n",
    "                    run_complete = True\n",
    "                else:\n",
    "                    order_date = t\n",
    "                break\n",
    "       \n",
    "        obj_val += cost\n",
    "        if(order_date > len(item_demand)-1):\n",
    "            run_complete = True\n",
    "            break\n",
    "    tot_obj_val = tot_disposal +  tot_ordering + tot_fixed + tot_max_order     \n",
    "    return (orders, tot_obj_val, tot_disposal, tot_ordering, tot_fixed, tot_max_order)\n",
    "\n",
    "obj_val = 0 \n",
    "vol = 0\n",
    "tot_disposal = 0\n",
    "tot_fixed = 0\n",
    "tot_ordering = 0\n",
    "tot_max_order = 0\n",
    "\n",
    "schedule = {}\n",
    "for item in demand.keys():\n",
    "    orders, val, disposal, ordering, fixed, max_order_p = silverMeal(item) \n",
    "    obj_val += val\n",
    "    tot_disposal += disposal\n",
    "    tot_fixed += fixed\n",
    "    tot_ordering += ordering\n",
    "    tot_max_order += max_order_p\n",
    "    for t in orders.keys():\n",
    "        if orders[t] == 0:\n",
    "            continue\n",
    "        if item not in schedule.keys():\n",
    "            schedule[item] = {}\n",
    "        if t not in schedule[item].keys():\n",
    "            schedule[item][t] = 0\n",
    "        schedule[item][t] += orders[t]\n",
    "            \n",
    "    \n",
    "#print(silverMeal('00ee8964'))\n",
    "print(obj_val)\n",
    "print('Ordering',tot_ordering)\n",
    "print('Fixing ', tot_fixed)\n",
    "print('Clearance ', tot_disposal)\n",
    "print('Max Order ', tot_max_order)\n",
    "\n"
   ]
  },
  {
   "cell_type": "markdown",
   "metadata": {},
   "source": [
    "802540.2499999999\n",
    "Ordering 672191.3999999996\n",
    "Fixing  106309.69999999995\n",
    "Clearance  15579.59999999999\n",
    "Max Order  8459.55"
   ]
  },
  {
   "cell_type": "code",
   "execution_count": 118,
   "metadata": {},
   "outputs": [],
   "source": [
    "buf_cost = 0\n",
    "vol = 0\n",
    "time_indexes\n",
    "volumes = {}\n",
    "\n",
    "for time in range(len(time_indexes)):\n",
    "    for item in schedule:\n",
    "        if time in schedule[item].keys():\n",
    "            vol += schedule[item][time] * cu_per_tu[item] * volume_per_cu[item]\n",
    "\n",
    "    if time > 0:\n",
    "        for item in demand.keys():\n",
    "            if time in demand[item].keys():\n",
    "                vol -= demand[item][time] * volume_per_cu[item]\n",
    "\n",
    "    volumes[time] = vol\n",
    "    if vol > warehouse_volume:\n",
    "\n",
    "        buf_cost += (vol - warehouse_volume) * buffer_cost\n",
    "\n",
    "buf_cost\n",
    "obj_val = obj_val + buf_cost"
   ]
  },
  {
   "cell_type": "code",
   "execution_count": 119,
   "metadata": {},
   "outputs": [
    {
     "data": {
      "text/plain": [
       "{'fixed': 187.79999999999998,\n",
       " 'per_tu': 1125.3,\n",
       " 'clearance': 14.099999999999998,\n",
       " 'buffer': 0,\n",
       " 'max_order_penalty': 0,\n",
       " 'total': 1327.2}"
      ]
     },
     "execution_count": 119,
     "metadata": {},
     "output_type": "execute_result"
    }
   ],
   "source": [
    "cost_dict['total'] = obj_val\n",
    "cost_dict['buffer'] = buf_cost\n",
    "cost_dict['clearance'] = tot_disposal\n",
    "cost_dict['fixed'] = tot_fixed\n",
    "cost_dict['per_tu'] = tot_ordering\n",
    "cost_dict['max_order_penalty'] = tot_max_order\n",
    "cost_dict"
   ]
  },
  {
   "cell_type": "code",
   "execution_count": 120,
   "metadata": {},
   "outputs": [
    {
     "data": {
      "text/plain": [
       "1327.2"
      ]
     },
     "execution_count": 120,
     "metadata": {},
     "output_type": "execute_result"
    }
   ],
   "source": [
    "obj_val"
   ]
  },
  {
   "cell_type": "code",
   "execution_count": 122,
   "metadata": {},
   "outputs": [],
   "source": [
    "def neighbourhoodOperator1(schedule, obj_val):\n",
    "    max_improvement = math.inf\n",
    "    \n",
    "    modified_schedule = {}\n",
    "    day_wise_orders = {}\n",
    "\n",
    "    buffer_penalty_tot = 0\n",
    "    max_order_penalty_tot = 0\n",
    "    fixed_ordering_cost_tot = 0 \n",
    "    schedule_imp = schedule \n",
    "    count = 0\n",
    "    iterator = 0\n",
    "    MAX_ITER = 100\n",
    "    MAX_REPEAT = 1\n",
    "    prev_max_improvement = 0\n",
    "    flag = True\n",
    "\n",
    "    while count < MAX_REPEAT and iterator < MAX_ITER:\n",
    "        cost = obj_val\n",
    "        for item in schedule_imp:\n",
    "            buffer_penalty = 0\n",
    "            max_order_penalty = 0 \n",
    "            modified_orders = {}\n",
    "            # Check if the item has a second order date\n",
    "            if len(schedule_imp[item]) > 1:\n",
    "                order_days = list(schedule_imp[item].keys())\n",
    "                for i in range (0,len(order_days)-1, 2):\n",
    "                    day1 = i\n",
    "                    day2 = i + 1\n",
    "                    if len(schedule_imp[item])%2 != 0:\n",
    "                        day3 = i + 2\n",
    "                        \n",
    "                        if (order_days[day3] - order_days[day2] <= shelf_life[item]):\n",
    "                            flag = True \n",
    "                        else: \n",
    "                            modified_orders[order_days[day1]] = schedule_imp[item][order_days[day1]]\n",
    "                            modified_orders[order_days[day2]] = schedule_imp[item][order_days[day2]]\n",
    "                            modified_orders[order_days[day3]] = schedule_imp[item][order_days[day3]]\n",
    "                            continue\n",
    "\n",
    "                    if order_days[day2] - order_days[day1] <= shelf_life[item] and (len(time_indexes)-1 - order_days[day2] <= shelf_life[item]) and flag:\n",
    "                        tot_orders = schedule_imp[item][order_days[day1]]+ schedule_imp[item][order_days[day2]]\n",
    "                        vol = tot_orders * cu_per_tu[item] * volume_per_cu[item]\n",
    "                        if vol + volumes[day1] > warehouse_volume:\n",
    "                            buffer_penalty += buffer_cost * (vol + volumes[day1] - warehouse_volume)\n",
    "                        if tot_orders > maximum_order_quantity_tu[item]:\n",
    "                            max_order_penalty += ( tot_orders - maximum_order_quantity_tu[item]) * max_order_exceed_multiplier * ordering_cost_per_tu[item]\n",
    "                        delta = - ordering_cost_fixed[item] + buffer_penalty + max_order_penalty \n",
    "                        if delta < 0:\n",
    "                            fixed_ordering_cost_tot += ordering_cost_fixed[item] \n",
    "                            buffer_penalty_tot += buffer_penalty\n",
    "                            max_order_penalty_tot += max_order_penalty\n",
    "                            cost += delta\n",
    "                            modified_orders[order_days[day1]] = tot_orders\n",
    "                            volumes[order_days[day1]] += vol\n",
    "                        else:\n",
    "                            modified_orders[order_days[day1]] = schedule_imp[item][order_days[day1]]\n",
    "                            modified_orders[order_days[day2]] = schedule_imp[item][order_days[day2]]\n",
    "\n",
    "                    else:\n",
    "                        modified_orders[order_days[day1]] = schedule_imp[item][order_days[day1]]\n",
    "                        modified_orders[order_days[day2]] = schedule_imp[item][order_days[day2]]\n",
    "                    \n",
    "                    if len(schedule_imp[item])%2 != 0:\n",
    "                        modified_orders[order_days[-1]] = schedule_imp[item][order_days[-1]]\n",
    "                \n",
    "                \n",
    "                modified_schedule[item] = modified_orders\n",
    "            \n",
    "            else:\n",
    "                if len(schedule[item]) == 1 : \n",
    "                    modified_schedule[item] = schedule_imp[item]\n",
    "                else:\n",
    "                    continue\n",
    "\n",
    "\n",
    "            if cost!=0 and cost < max_improvement:\n",
    "                max_improvement = cost\n",
    "        \n",
    "        print(\"Buffer penalty paid\", buffer_penalty_tot)\n",
    "        print(\"max order penalty paid\", max_order_penalty_tot)\n",
    "        print(\"fixed cost reduced by\", fixed_ordering_cost_tot)\n",
    "        schedule_imp = modified_schedule\n",
    "        obj_val = max_improvement\n",
    "        iterator +=1\n",
    "\n",
    "        print(max_improvement)\n",
    "\n",
    "        if(max_improvement==prev_max_improvement):\n",
    "            count+=1\n",
    "        prev_max_improvement = max_improvement\n",
    "    \n",
    "    return schedule_imp, obj_val, buffer_penalty_tot, max_order_penalty_tot, fixed_ordering_cost_tot"
   ]
  },
  {
   "cell_type": "code",
   "execution_count": 123,
   "metadata": {},
   "outputs": [
    {
     "name": "stdout",
     "output_type": "stream",
     "text": [
      "in here\n",
      "in here\n",
      "3ef73cbe\n",
      "in here\n",
      "in here\n",
      "in here\n",
      "e503d66c\n",
      "in here\n",
      "in here\n",
      "Buffer penalty paid 0\n",
      "max order penalty paid 0\n",
      "fixed cost reduced by 44.3\n",
      "1282.9\n",
      "3ef73cbe\n",
      "in here\n",
      "in here\n",
      "Buffer penalty paid 0\n",
      "max order penalty paid 0\n",
      "fixed cost reduced by 60.8\n",
      "1266.4\n",
      "3ef73cbe\n",
      "in here\n",
      "Buffer penalty paid 0\n",
      "max order penalty paid 0\n",
      "fixed cost reduced by 60.8\n",
      "1266.4\n"
     ]
    },
    {
     "data": {
      "text/plain": [
       "{'fixed': 126.99999999999999,\n",
       " 'per_tu': 1125.3,\n",
       " 'clearance': 14.099999999999998,\n",
       " 'buffer': 0,\n",
       " 'max_order_penalty': 0,\n",
       " 'total': 1266.4}"
      ]
     },
     "execution_count": 123,
     "metadata": {},
     "output_type": "execute_result"
    }
   ],
   "source": [
    "schedule_improved, obj_val, buffer_cost_delta, max_order_penalty_delta, fixed_cost_delta = neighbourhoodOperator1(schedule, obj_val)\n",
    "cost_dict['buffer'] += buffer_cost_delta\n",
    "cost_dict['max_order_penalty'] += max_order_penalty_delta\n",
    "cost_dict['fixed'] -= fixed_cost_delta\n",
    "cost_dict['total'] = obj_val\n",
    "cost_dict"
   ]
  },
  {
   "cell_type": "code",
   "execution_count": 124,
   "metadata": {},
   "outputs": [
    {
     "data": {
      "text/plain": [
       "{'060983da': {0: 32},\n",
       " '07e343d0': {0: 14},\n",
       " '3ef73cbe': {0: 2, 3: 1, 4: 1},\n",
       " 'afa44c07': {0: 20},\n",
       " 'd5b74c6e': {0: 35},\n",
       " 'e503d66c': {0: 21},\n",
       " 'f04b3d50': {0: 2, 3: 2}}"
      ]
     },
     "execution_count": 124,
     "metadata": {},
     "output_type": "execute_result"
    }
   ],
   "source": [
    "schedule_improved"
   ]
  },
  {
   "cell_type": "code",
   "execution_count": 125,
   "metadata": {},
   "outputs": [
    {
     "data": {
      "text/plain": [
       "{'060983da': {0: 6, 2: 26},\n",
       " '07e343d0': {0: 5, 3: 9},\n",
       " '3ef73cbe': {0: 2, 3: 1, 4: 1},\n",
       " 'afa44c07': {0: 10, 4: 10},\n",
       " 'd5b74c6e': {0: 8, 2: 27},\n",
       " 'e503d66c': {0: 7, 2: 4, 3: 10},\n",
       " 'f04b3d50': {0: 2, 3: 2}}"
      ]
     },
     "execution_count": 125,
     "metadata": {},
     "output_type": "execute_result"
    }
   ],
   "source": [
    "schedule"
   ]
  },
  {
   "cell_type": "code",
   "execution_count": null,
   "metadata": {},
   "outputs": [],
   "source": []
  }
 ],
 "metadata": {
  "kernelspec": {
   "display_name": "Python 3.9.6 64-bit",
   "language": "python",
   "name": "python3"
  },
  "language_info": {
   "codemirror_mode": {
    "name": "ipython",
    "version": 3
   },
   "file_extension": ".py",
   "mimetype": "text/x-python",
   "name": "python",
   "nbconvert_exporter": "python",
   "pygments_lexer": "ipython3",
   "version": "3.9.6"
  },
  "orig_nbformat": 4,
  "vscode": {
   "interpreter": {
    "hash": "31f2aee4e71d21fbe5cf8b01ff0e069b9275f58929596ceb00d14d90e3e16cd6"
   }
  }
 },
 "nbformat": 4,
 "nbformat_minor": 2
}
