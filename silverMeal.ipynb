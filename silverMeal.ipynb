{
 "cells": [
  {
   "cell_type": "code",
   "execution_count": 53,
   "metadata": {},
   "outputs": [],
   "source": [
    "import pandas as pd\n",
    "import gurobipy as gp\n",
    "import math\n",
    "import pickle as pkl\n",
    "from datetime import datetime, timedelta"
   ]
  },
  {
   "cell_type": "code",
   "execution_count": 54,
   "metadata": {},
   "outputs": [],
   "source": [
    "product_type = \"ambient\"\n",
    "num_time_periods = 365"
   ]
  },
  {
   "cell_type": "code",
   "execution_count": 55,
   "metadata": {},
   "outputs": [],
   "source": [
    "article_data = pd.read_csv(\"./data/article.csv\")\n",
    "article_data = article_data[(article_data['TEMPERATURE_ZONE'] == product_type)]\n",
    "# article_data = article_data[(article_data['ARTICLE_ID'] == test_article)]"
   ]
  },
  {
   "cell_type": "code",
   "execution_count": 56,
   "metadata": {},
   "outputs": [],
   "source": [
    "\n",
    "if(product_type==\"frozen\"):\n",
    "    warehouse_volume = 50\n",
    "if(product_type==\"chilled\"):\n",
    "    warehouse_volume = 300\n",
    "if(product_type==\"ambient\"):\n",
    "    warehouse_volume = 700\n",
    "buffer_cost = 25\n",
    "max_order_exceed_multiplier = 1.5"
   ]
  },
  {
   "cell_type": "code",
   "execution_count": 57,
   "metadata": {},
   "outputs": [],
   "source": [
    "def createParameterMatrix(data, columns):\n",
    "    parameters = []\n",
    "    for column in columns:\n",
    "        parameters.append(data[column].to_list())\n",
    "    parameters = list(map(list, zip(*parameters)))\n",
    "    return parameters"
   ]
  },
  {
   "cell_type": "code",
   "execution_count": 58,
   "metadata": {},
   "outputs": [],
   "source": [
    "articles = article_data['ARTICLE_ID'].to_list()\n",
    "\n",
    "parameters = createParameterMatrix(\n",
    "    article_data,\n",
    "    [\n",
    "        'TEMPERATURE_ZONE',\n",
    "        'VOLUME_M3_PER_CU',\n",
    "        'MEAN_SHELF_LIFE',\n",
    "        'CU_PER_TU',\n",
    "        'ORDERING_COST_FIXED',\n",
    "        'ORDERING_COST_PER_TU',\n",
    "        'CLEARING_COST_PER_CU',\n",
    "        'MINIMUM_ORDER_QUANTITY_TU',\n",
    "        'MAXIMUM_ORDER_QUANTITY_TU'\n",
    "    ]\n",
    ")\n",
    "parameters_dict = dict(zip(articles, parameters))"
   ]
  },
  {
   "cell_type": "code",
   "execution_count": 59,
   "metadata": {},
   "outputs": [],
   "source": [
    "items, category, volume_per_cu, shelf_life, cu_per_tu, ordering_cost_fixed, ordering_cost_per_tu, clearing_cost_per_cu, minimum_order_quantity_tu, maximum_order_quantity_tu = gp.multidict(parameters_dict)"
   ]
  },
  {
   "cell_type": "code",
   "execution_count": 60,
   "metadata": {},
   "outputs": [],
   "source": [
    "forecast_data = pd.read_csv('./data/sales_'+str(num_time_periods)+'.csv')\n",
    "forecast_data = forecast_data[forecast_data['ARTICLE_ID'].isin(articles)]"
   ]
  },
  {
   "cell_type": "code",
   "execution_count": 61,
   "metadata": {},
   "outputs": [],
   "source": [
    "# Create a new dataframe with all dates\n",
    "all_dates_df = pd.DataFrame({'DATE': pd.date_range(start=min(forecast_data['DATE']), end=max(forecast_data['DATE']), freq='D')}).astype(str)\n",
    "\n",
    "# Group the original dataframe by item\n",
    "grouped = forecast_data.groupby('ARTICLE_ID')\n",
    "\n",
    "# Initialize an empty list to store the new dataframes\n",
    "new_dfs = []\n",
    "\n",
    "# Loop over each group\n",
    "for item, group_df in grouped:\n",
    "    \n",
    "    group_df['DATE'] = pd.to_datetime(group_df['DATE']).astype(str)\n",
    "\n",
    "    # Merge the group dataframe with the all_dates dataframe\n",
    "    merged_df = pd.merge(all_dates_df, group_df, on='DATE', how='outer')\n",
    "    merged_df['ARTICLE_ID'] = item\n",
    "    \n",
    "    # Fill in missing values\n",
    "    merged_df['PICKING_QUANTITY_CU'] = merged_df['PICKING_QUANTITY_CU'].fillna(0)\n",
    "    \n",
    "    # Sort by date and append to the list\n",
    "    new_dfs.append(merged_df.sort_values('DATE'))\n",
    "    \n",
    "# Concatenate all new dataframes into a single dataframe\n",
    "forecast_data = pd.concat(new_dfs)\n",
    "time_periods = forecast_data['DATE'].unique()\n",
    "\n",
    "time_indexes = [*range(len(time_periods))]\n",
    "date_to_index = {time_periods[i]:[*range(len(time_periods))][i] for i in time_indexes}\n",
    "index_to_date = {[*range(len(time_periods))][i]:time_periods[i] for i in time_indexes}\n",
    "\n",
    "# demand = forecast_data.groupby('DATE').apply(lambda x: dict(zip(x['ARTICLE_ID'], x['PICKING_QUANTITY_CU']))).to_dict()\n",
    "# demand = dict((date_to_index[key],value) for (key,value) in demand.items())\n",
    "\n",
    "demand = forecast_data.groupby('ARTICLE_ID').apply(lambda x: dict(zip(x['DATE'], x['PICKING_QUANTITY_CU']))).to_dict()\n",
    "for item in demand.keys():\n",
    "    demand[item] = dict((date_to_index[key], value) for (key, value) in demand[item].items())"
   ]
  },
  {
   "cell_type": "code",
   "execution_count": 62,
   "metadata": {},
   "outputs": [],
   "source": [
    "def getCost(orders, order_date, cu_per_tu_item, cum_demand, disposal_cost):\n",
    "        cost = 0\n",
    "        if (orders[order_date]* cu_per_tu_item) - cum_demand > 0:\n",
    "            cost = ((orders[order_date] * cu_per_tu_item) - cum_demand) * disposal_cost\n",
    "        return cost   \n",
    "\n",
    "def getMaxOrderPenalty(orders, order_date, cu_per_tu_item, variable_cost, maximum_order_quantity_item):\n",
    "    max_order = 0\n",
    "    if orders[order_date] > maximum_order_quantity_item: \n",
    "        #max_order = ((orders[order_date] * cu_per_tu_item) - maximum_order_quantity_item) * max_order_exceed_multiplier * variable_cost\n",
    "        max_order = ((orders[order_date]) - maximum_order_quantity_item) * max_order_exceed_multiplier * variable_cost \n",
    "    return max_order "
   ]
  },
  {
   "cell_type": "code",
   "execution_count": 63,
   "metadata": {},
   "outputs": [
    {
     "name": "stdout",
     "output_type": "stream",
     "text": [
      "45955978.49999991\n",
      "Ordering 41089466.40000009\n",
      "Fixing  3950988.4000000064\n",
      "Clearance  62080.700000000026\n",
      "Max Order  853443.0000000002\n"
     ]
    }
   ],
   "source": [
    "def silverMeal(item):\n",
    "    \n",
    "    item_demand = list(demand[item].values())\n",
    "    fixed_cost = ordering_cost_fixed[item]\n",
    "    variable_cost = ordering_cost_per_tu[item]\n",
    "    cu_per_tu_item = cu_per_tu[item]\n",
    "    disposal_cost = clearing_cost_per_cu[item]\n",
    "    maximum_order_quantity_tu_item = maximum_order_quantity_tu[item]\n",
    "    life = shelf_life[item]\n",
    "    cost = 0\n",
    "    tot_disposal = 0\n",
    "    tot_fixed = 0\n",
    "    tot_ordering = 0\n",
    "    tot_max_order = 0\n",
    "    penalty = 0\n",
    "\n",
    "    orders = {}\n",
    "    order_date = 0 \n",
    "    run_complete = False\n",
    "    obj_val = 0\n",
    "    while(not run_complete):\n",
    "        if (order_date %7 == 6):\n",
    "            order_date = order_date + 1 \n",
    "            continue   \n",
    "        \n",
    "        min_cost = float('inf')\n",
    "        cum_demand = 0\n",
    "        \n",
    "        for t in range(order_date, len(item_demand)):\n",
    "            if(t%7==6 ):\n",
    "                continue\n",
    "            cum_demand += item_demand[t]\n",
    "            \n",
    "            if(t==order_date+life):\n",
    "                orders[order_date] = math.ceil(cum_demand/cu_per_tu_item)\n",
    "\n",
    "                #cost+= getCost(orders, order_date, cu_per_tu_item, cum_demand, disposal_cost) + getMaxOrderPenalty(orders, order_date, cu_per_tu_item, variable_cost, maximum_order_quantity_tu_item)\n",
    "                tot_disposal += getCost(orders, order_date, cu_per_tu_item, cum_demand, disposal_cost) \n",
    "                tot_ordering += math.ceil(cum_demand/cu_per_tu_item) * variable_cost\n",
    "                tot_fixed += fixed_cost\n",
    "                tot_max_order +=  getMaxOrderPenalty(orders, order_date, cu_per_tu_item, variable_cost, maximum_order_quantity_tu_item)\n",
    "                order_date = t + 1\n",
    "                break\n",
    "\n",
    "            cost = fixed_cost + variable_cost * math.ceil(cum_demand/cu_per_tu_item) \n",
    "            if(math.ceil(cum_demand/cu_per_tu_item) > maximum_order_quantity_tu_item):\n",
    "                #penalty = (math.ceil(cum_demand/cu_per_tu_item) - maximum_order_quantity_tu_item) * max_order_exceed_multiplier * variable_cost\n",
    "                penalty = (math.ceil(cum_demand/cu_per_tu_item) - maximum_order_quantity_tu_item) * max_order_exceed_multiplier  \n",
    "            avg_cost = (cost + penalty) / (t-order_date+1)\n",
    "            \n",
    "            if(avg_cost <= min_cost):\n",
    "                min_cost = avg_cost\n",
    "                if(t==len(item_demand)-1):\n",
    "                    \n",
    "                    orders[order_date] = math.ceil(cum_demand/cu_per_tu_item)\n",
    "\n",
    "                    #cost+= getCost(orders, order_date, cu_per_tu_item, cum_demand, disposal_cost) + getMaxOrderPenalty(orders, order_date, cu_per_tu_item,variable_cost, maximum_order_quantity_tu_item)\n",
    "                    tot_disposal += getCost(orders, order_date, cu_per_tu_item, cum_demand, disposal_cost)\n",
    "                    tot_ordering += math.ceil(cum_demand/cu_per_tu_item) * variable_cost\n",
    "                    tot_fixed += fixed_cost   \n",
    "                    tot_max_order +=  getMaxOrderPenalty(orders, order_date, cu_per_tu_item, variable_cost, maximum_order_quantity_tu_item)\n",
    "                 \n",
    "                    run_complete = True\n",
    "                    break\n",
    "\n",
    "            else:\n",
    "                orders[order_date] = math.ceil((cum_demand- item_demand[t])/cu_per_tu_item)\n",
    "\n",
    "                #cost+= getCost(orders, order_date, cu_per_tu_item, cum_demand, disposal_cost) + getMaxOrderPenalty(orders, order_date, cu_per_tu_item, variable_cost, maximum_order_quantity_tu_item)\n",
    "                tot_disposal += getCost(orders, order_date, cu_per_tu_item, cum_demand, disposal_cost)\n",
    "                tot_ordering += math.ceil((cum_demand- item_demand[t])/cu_per_tu_item) * variable_cost\n",
    "                tot_fixed += fixed_cost\n",
    "                tot_max_order +=  getMaxOrderPenalty(orders, order_date, cu_per_tu_item, variable_cost, maximum_order_quantity_tu_item)\n",
    "\n",
    "                order_date = t\n",
    "                break\n",
    "       \n",
    "        obj_val += cost\n",
    "        if(order_date > len(item_demand)-1):\n",
    "            run_complete = True\n",
    "            break\n",
    "    tot_obj_val = tot_disposal +  tot_ordering + tot_fixed + tot_max_order     \n",
    "    return (orders, tot_obj_val, tot_disposal, tot_ordering, tot_fixed, tot_max_order)\n",
    "\n",
    "obj_val = 0 \n",
    "vol = 0\n",
    "tot_disposal = 0\n",
    "tot_fixed = 0\n",
    "tot_ordering = 0\n",
    "tot_max_order = 0\n",
    "\n",
    "schedule = {}\n",
    "for item in demand.keys():\n",
    "    orders, val, disposal, ordering, fixed, max_order_p = silverMeal(item) \n",
    "    obj_val += val\n",
    "    tot_disposal += disposal\n",
    "    tot_fixed += fixed\n",
    "    tot_ordering += ordering\n",
    "    tot_max_order += max_order_p\n",
    "    for t in orders.keys():\n",
    "        if orders[t] == 0:\n",
    "            continue\n",
    "        if item not in schedule.keys():\n",
    "            schedule[item] = {}\n",
    "        if t not in schedule[item].keys():\n",
    "            schedule[item][t] = 0\n",
    "        schedule[item][t] += orders[t]\n",
    "        \n",
    "    \n",
    "    \n",
    "#print(silverMeal('00ee8964'))\n",
    "print(obj_val)\n",
    "print('Ordering',tot_ordering)\n",
    "print('Fixing ', tot_fixed)\n",
    "print('Clearance ', tot_disposal)\n",
    "print('Max Order ', tot_max_order)\n"
   ]
  },
  {
   "cell_type": "code",
   "execution_count": 64,
   "metadata": {},
   "outputs": [
    {
     "data": {
      "text/plain": [
       "0"
      ]
     },
     "execution_count": 64,
     "metadata": {},
     "output_type": "execute_result"
    }
   ],
   "source": [
    "buf_cost = 0\n",
    "vol = 0\n",
    "for time in range(len(time_indexes)):\n",
    "    if time in schedule.keys():\n",
    "        for item in schedule[time].keys():\n",
    "            vol += schedule[time][item] * cu_per_tu[item] * volume_per_cu[item]\n",
    "    \n",
    "    if time > 0:\n",
    "        for item in demand.keys():\n",
    "            if time in demand[item].keys():\n",
    "                vol -= demand[item][time] * cu_per_tu[item] * volume_per_cu[item]\n",
    "\n",
    "    if vol > warehouse_volume:\n",
    "        buf_cost += (vol - warehouse_volume) * buffer_cost\n",
    "\n",
    "buf_cost"
   ]
  },
  {
   "cell_type": "code",
   "execution_count": 65,
   "metadata": {},
   "outputs": [
    {
     "data": {
      "text/plain": [
       "45955978.49999991"
      ]
     },
     "execution_count": 65,
     "metadata": {},
     "output_type": "execute_result"
    }
   ],
   "source": [
    "obj_val + buf_cost"
   ]
  },
  {
   "cell_type": "code",
   "execution_count": null,
   "metadata": {},
   "outputs": [],
   "source": []
  }
 ],
 "metadata": {
  "kernelspec": {
   "display_name": "Python 3.9.6 64-bit",
   "language": "python",
   "name": "python3"
  },
  "language_info": {
   "codemirror_mode": {
    "name": "ipython",
    "version": 3
   },
   "file_extension": ".py",
   "mimetype": "text/x-python",
   "name": "python",
   "nbconvert_exporter": "python",
   "pygments_lexer": "ipython3",
   "version": "3.11.1"
  },
  "orig_nbformat": 4,
  "vscode": {
   "interpreter": {
    "hash": "31f2aee4e71d21fbe5cf8b01ff0e069b9275f58929596ceb00d14d90e3e16cd6"
   }
  }
 },
 "nbformat": 4,
 "nbformat_minor": 2
}
