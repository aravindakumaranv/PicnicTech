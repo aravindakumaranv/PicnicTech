{
 "cells": [
  {
   "cell_type": "code",
   "execution_count": 1,
   "metadata": {},
   "outputs": [],
   "source": [
    "import pandas as pd\n",
    "import gurobipy as gp\n",
    "import math\n",
    "import pickle as pkl\n",
    "from datetime import datetime, timedelta"
   ]
  },
  {
   "cell_type": "code",
   "execution_count": 2,
   "metadata": {},
   "outputs": [],
   "source": [
    "product_type = \"frozen\"\n",
    "num_time_periods = 7\n",
    "\n",
    "test_article = '468a73f3'"
   ]
  },
  {
   "cell_type": "code",
   "execution_count": 3,
   "metadata": {},
   "outputs": [],
   "source": [
    "article_data = pd.read_csv(\"./data/article.csv\")\n",
    "article_data = article_data[(article_data['TEMPERATURE_ZONE'] == product_type)]\n",
    "# article_data = article_data[(article_data['ARTICLE_ID'] == test_article)]"
   ]
  },
  {
   "cell_type": "code",
   "execution_count": 4,
   "metadata": {},
   "outputs": [],
   "source": [
    "# constants definitions\n",
    "if(product_type==\"frozen\"):\n",
    "    warehouse_volume = 50\n",
    "if(product_type==\"chilled\"):\n",
    "    warehouse_volume = 300\n",
    "if(product_type==\"ambient\"):\n",
    "    warehouse_volume = 900\n",
    "buffer_cost = 25\n",
    "default_max_order = 10000"
   ]
  },
  {
   "cell_type": "code",
   "execution_count": 5,
   "metadata": {},
   "outputs": [],
   "source": [
    "def createParameterMatrix(data, columns):\n",
    "    parameters = []\n",
    "    for column in columns:\n",
    "        parameters.append(data[column].to_list())\n",
    "    parameters = list(map(list, zip(*parameters)))\n",
    "    return parameters"
   ]
  },
  {
   "cell_type": "code",
   "execution_count": 6,
   "metadata": {},
   "outputs": [],
   "source": [
    "articles = article_data['ARTICLE_ID'].to_list()\n",
    "\n",
    "parameters = createParameterMatrix(\n",
    "    article_data,\n",
    "    [\n",
    "        'TEMPERATURE_ZONE',\n",
    "        'VOLUME_M3_PER_CU',\n",
    "        'MEAN_SHELF_LIFE',\n",
    "        'CU_PER_TU',\n",
    "        'ORDERING_COST_FIXED',\n",
    "        'ORDERING_COST_PER_TU',\n",
    "        'CLEARING_COST_PER_CU',\n",
    "        'MINIMUM_ORDER_QUANTITY_TU',\n",
    "        'MAXIMUM_ORDER_QUANTITY_TU'\n",
    "    ]\n",
    ")\n",
    "parameters_dict = dict(zip(articles, parameters))"
   ]
  },
  {
   "cell_type": "code",
   "execution_count": 7,
   "metadata": {},
   "outputs": [],
   "source": [
    "items, category, volume_per_cu, shelf_life, cu_per_tu, ordering_cost_fixed, ordering_cost_per_tu, clearing_cost_per_cu, minimum_order_quantity_tu, maximum_order_quantity_tu = gp.multidict(parameters_dict)"
   ]
  },
  {
   "cell_type": "code",
   "execution_count": 8,
   "metadata": {},
   "outputs": [],
   "source": [
    "forecast_data = pd.read_csv('./data/sales_'+str(num_time_periods)+'.csv')\n",
    "forecast_data = forecast_data[forecast_data['ARTICLE_ID'].isin(articles)]"
   ]
  },
  {
   "cell_type": "code",
   "execution_count": 9,
   "metadata": {},
   "outputs": [],
   "source": [
    "# Create a new dataframe with all dates\n",
    "all_dates_df = pd.DataFrame({'DATE': pd.date_range(start='2022-06-13', end='2022-06-18', freq='D')}).astype(str)\n",
    "# Group the original dataframe by item\n",
    "grouped = forecast_data.groupby('ARTICLE_ID')\n",
    "\n",
    "# Initialize an empty list to store the new dataframes\n",
    "new_dfs = []\n",
    "\n",
    "# Loop over each group\n",
    "for item, group_df in grouped:\n",
    "    \n",
    "    group_df['DATE'] = pd.to_datetime(group_df['DATE']).astype(str)\n",
    "\n",
    "    # Merge the group dataframe with the all_dates dataframe\n",
    "    merged_df = pd.merge(all_dates_df, group_df, on='DATE', how='outer')\n",
    "    merged_df['ARTICLE_ID'] = item\n",
    "    \n",
    "    # Fill in missing values\n",
    "    merged_df['PICKING_QUANTITY_CU'] = merged_df['PICKING_QUANTITY_CU'].fillna(0)\n",
    "    \n",
    "    # Sort by date and append to the list\n",
    "    new_dfs.append(merged_df.sort_values('DATE'))\n",
    "    \n",
    "# Concatenate all new dataframes into a single dataframe\n",
    "forecast_data = pd.concat(new_dfs)\n",
    "time_periods = forecast_data['DATE'].unique()\n",
    "\n",
    "time_indexes = [*range(len(time_periods))]\n",
    "date_to_index = {time_periods[i]:[*range(len(time_periods))][i] for i in time_indexes}\n",
    "index_to_date = {[*range(len(time_periods))][i]:time_periods[i] for i in time_indexes}\n",
    "\n",
    "demand = forecast_data.groupby('ARTICLE_ID').apply(lambda x: dict(zip(x['DATE'], x['PICKING_QUANTITY_CU']))).to_dict()\n",
    "for item in demand.keys():\n",
    "    demand[item] = dict((date_to_index[key], value) for (key, value) in demand[item].items())"
   ]
  },
  {
   "cell_type": "code",
   "execution_count": 10,
   "metadata": {},
   "outputs": [
    {
     "data": {
      "text/plain": [
       "{0: 5, 1: 6, 2: 0, 3: 0, 4: 0, 5: 0}"
      ]
     },
     "execution_count": 10,
     "metadata": {},
     "output_type": "execute_result"
    }
   ],
   "source": [
    "shelf_life[test_article] = 2\n",
    "cu_per_tu[test_article] = 2\n",
    "for key in demand[test_article].keys():\n",
    "    demand[test_article][key] = 0\n",
    "demand[test_article][time_indexes[0]] = 5\n",
    "demand[test_article][time_indexes[1]] = 6\n",
    "# demand[test_article][time_indexes[2]] = 1\n",
    "# demand[test_article][time_indexes[3]] = 1\n",
    "demand[test_article]"
   ]
  },
  {
   "cell_type": "code",
   "execution_count": 11,
   "metadata": {},
   "outputs": [
    {
     "name": "stdout",
     "output_type": "stream",
     "text": [
      "Set parameter Username\n",
      "Academic license - for non-commercial use only - expires 2024-05-09\n",
      "Gurobi Optimizer version 10.0.1 build v10.0.1rc0 (win64)\n",
      "\n",
      "CPU model: AMD Ryzen 5 5500U with Radeon Graphics, instruction set [SSE2|AVX|AVX2]\n",
      "Thread count: 6 physical cores, 12 logical processors, using up to 12 threads\n",
      "\n",
      "Optimize a model with 4198 rows, 10062 columns and 15008 nonzeros\n",
      "Model fingerprint: 0xd90cfb23\n",
      "Variable types: 0 continuous, 10062 integer (2514 binary)\n",
      "Coefficient statistics:\n",
      "  Matrix range     [2e-04, 2e+01]\n",
      "  Objective range  [1e-01, 3e+01]\n",
      "  Bounds range     [1e+00, 1e+00]\n",
      "  RHS range        [1e+00, 2e+02]\n",
      "Found heuristic solution: objective 5640.0000000\n",
      "Presolve removed 2434 rows and 6606 columns\n",
      "Presolve time: 0.07s\n",
      "Presolved: 1764 rows, 3456 columns, 8298 nonzeros\n",
      "Found heuristic solution: objective 5282.1000000\n",
      "Variable types: 0 continuous, 3456 integer (413 binary)\n",
      "\n",
      "Root relaxation: objective 4.651339e+03, 2243 iterations, 0.02 seconds (0.00 work units)\n",
      "\n",
      "    Nodes    |    Current Node    |     Objective Bounds      |     Work\n",
      " Expl Unexpl |  Obj  Depth IntInf | Incumbent    BestBd   Gap | It/Node Time\n",
      "\n",
      "     0     0 4651.33927    0  660 5282.10000 4651.33927  11.9%     -    0s\n",
      "H    0     0                    4982.5000000 4651.33927  6.65%     -    0s\n",
      "H    0     0                    4971.9000000 4651.33927  6.45%     -    0s\n",
      "     0     0 4710.32275    0  457 4971.90000 4710.32275  5.26%     -    0s\n",
      "H    0     0                    4949.9000000 4715.78278  4.73%     -    0s\n",
      "     0     0 4715.78278    0  456 4949.90000 4715.78278  4.73%     -    0s\n",
      "     0     0 4755.16613    0  367 4949.90000 4755.16613  3.93%     -    0s\n",
      "H    0     0                    4941.2000000 4758.11943  3.71%     -    0s\n",
      "     0     0 4758.11943    0  392 4941.20000 4758.11943  3.71%     -    0s\n",
      "     0     0 4758.11943    0  388 4941.20000 4758.11943  3.71%     -    0s\n",
      "     0     0 4800.17774    0  341 4941.20000 4800.17774  2.85%     -    0s\n",
      "H    0     0                    4934.2000000 4800.17774  2.72%     -    0s\n",
      "     0     0 4810.71031    0  255 4934.20000 4810.71031  2.50%     -    0s\n",
      "     0     0 4810.71031    0  255 4934.20000 4810.71031  2.50%     -    0s\n",
      "     0     0 4820.76550    0  253 4934.20000 4820.76550  2.30%     -    0s\n",
      "     0     0 4821.36118    0  257 4934.20000 4821.36118  2.29%     -    0s\n",
      "     0     0 4823.88409    0  255 4934.20000 4823.88409  2.24%     -    0s\n",
      "H    0     0                    4931.3000000 4823.88409  2.18%     -    0s\n",
      "     0     0 4824.15076    0  247 4931.30000 4824.15076  2.17%     -    0s\n",
      "     0     0 4824.15076    0  251 4931.30000 4824.15076  2.17%     -    0s\n",
      "     0     0 4824.73409    0  246 4931.30000 4824.73409  2.16%     -    0s\n",
      "     0     0 4824.73409    0  192 4931.30000 4824.73409  2.16%     -    0s\n",
      "     0     2 4824.73409    0  185 4931.30000 4824.73409  2.16%     -    0s\n",
      "  6458  6451 4929.70000  662   17 4931.30000 4929.70000  0.03%   1.1    5s\n",
      "\n",
      "Cutting planes:\n",
      "  Learned: 3\n",
      "  Gomory: 109\n",
      "  MIR: 554\n",
      "  StrongCG: 52\n",
      "  Flow cover: 6\n",
      "  Zero half: 113\n",
      "  Mod-K: 4\n",
      "\n",
      "Explored 6483 nodes (20381 simplex iterations) in 6.75 seconds (2.93 work units)\n",
      "Thread count was 12 (of 12 available processors)\n",
      "\n",
      "Solution count 8: 4931.3 4934.2 4941.2 ... 5640\n",
      "\n",
      "Optimal solution found (tolerance 1.00e-04)\n",
      "Best objective 4.931300000000e+03, best bound 4.931100000000e+03, gap 0.0041%\n"
     ]
    }
   ],
   "source": [
    "# model object\n",
    "m = gp.Model()\n",
    "\n",
    "# decision variables\n",
    "# Xit\n",
    "orders = m.addVars(items, time_indexes, vtype=gp.GRB.INTEGER, lb=0)\n",
    "# Yit\n",
    "ordered_boolean = m.addVars(items, time_indexes, vtype=gp.GRB.BINARY, lb=0)\n",
    "# Sit\n",
    "storage_used = m.addVars(items, time_indexes, vtype=gp.GRB.INTEGER, lb=0)\n",
    "# Zt\n",
    "buffer_storage_used = m.addVars(time_indexes, vtype=gp.GRB.INTEGER, lb=0)\n",
    "# Dit\n",
    "clearances = m.addVars(items, time_indexes, vtype=gp.GRB.INTEGER, lb=0)\n",
    "\n",
    "# objective function\n",
    "ordering_cost_per_tu_objective = gp.quicksum(ordering_cost_per_tu[item] * orders[item, t] for item in items for t in time_indexes)\n",
    "ordering_cost_fixed_objective = gp.quicksum(ordering_cost_fixed[item] * ordered_boolean[item, t] for item in items for t in time_indexes)\n",
    "buffer_storage_objective = gp.quicksum(buffer_cost * buffer_storage_used[t] for t in time_indexes)\n",
    "clearance_objective = gp.quicksum(clearing_cost_per_cu[item] * clearances[item, t] for item in items for t in time_indexes)\n",
    "\n",
    "m.setObjective(ordering_cost_per_tu_objective + ordering_cost_fixed_objective + buffer_storage_objective, sense=gp.GRB.MINIMIZE)\n",
    "\n",
    "# constraints\n",
    "# demand satisfaction\n",
    "for item in demand.keys():\n",
    "    for t in time_indexes:\n",
    "        if(t==0):\n",
    "            m.addConstr(\n",
    "                (orders[item, t] * cu_per_tu[item])\n",
    "                -\n",
    "                demand[item][t]\n",
    "                -\n",
    "                clearances[item, t]\n",
    "                >=\n",
    "                storage_used[item, t]\n",
    "            )\n",
    "        else:\n",
    "            m.addConstr(\n",
    "                (orders[item, t] * cu_per_tu[item])\n",
    "                +\n",
    "                storage_used[item, t-1]\n",
    "                -\n",
    "                demand[item][t]\n",
    "                -\n",
    "                clearances[item, t]\n",
    "                >=\n",
    "                storage_used[item, t]\n",
    "            )\n",
    "\n",
    "# inventory volume constraint\n",
    "for t in time_indexes:\n",
    "    if(t==0):\n",
    "        m.addConstr(\n",
    "            gp.quicksum(\n",
    "                volume_per_cu[item] * \n",
    "                (\n",
    "                    (cu_per_tu[item] * orders[item, t])\n",
    "                )\n",
    "                for item in items\n",
    "            )\n",
    "            <=\n",
    "            warehouse_volume\n",
    "            +\n",
    "            buffer_storage_used[t]\n",
    "        )\n",
    "    else:\n",
    "        m.addConstr(\n",
    "            gp.quicksum(\n",
    "                volume_per_cu[item] *\n",
    "                (\n",
    "                    storage_used[item,t-1]\n",
    "                    +\n",
    "                    (cu_per_tu[item] * orders[item, t])\n",
    "                )\n",
    "                for item in items\n",
    "            )\n",
    "            <=\n",
    "            warehouse_volume\n",
    "            +\n",
    "            buffer_storage_used[t]\n",
    "        )\n",
    "\n",
    "# min/max constraints (linking too)\n",
    "for item in demand.keys():\n",
    "    for t in time_indexes:\n",
    "        m.addConstr(\n",
    "            orders[item, t]\n",
    "            >=\n",
    "            minimum_order_quantity_tu[item] * ordered_boolean[item, t]\n",
    "        )\n",
    "        #TODO: max constraint\n",
    "\n",
    "for item in demand.keys():\n",
    "    for t in time_indexes:\n",
    "        life = shelf_life[item]\n",
    "        if(t >= life):\n",
    "            m.addConstr(\n",
    "                clearances[item, t]\n",
    "                >=\n",
    "                gp.quicksum(\n",
    "                    cu_per_tu[item] * orders[item, t1] for t1 in time_indexes[:t-life]\n",
    "                )\n",
    "                -\n",
    "                gp.quicksum(\n",
    "                    demand[item][t1] for t1 in time_indexes[:t]\n",
    "                )\n",
    "                -\n",
    "                gp.quicksum(\n",
    "                    clearances[item, t1] for t1 in time_indexes[:t-1]\n",
    "                )\n",
    "            )\n",
    "\n",
    "m.optimize()"
   ]
  },
  {
   "cell_type": "code",
   "execution_count": 12,
   "metadata": {},
   "outputs": [
    {
     "name": "stdout",
     "output_type": "stream",
     "text": [
      "<gurobi.Var C7548 (value -0.0)>\n",
      "<gurobi.Var C7549 (value -0.0)>\n",
      "<gurobi.Var C7550 (value 1.0)>\n",
      "<gurobi.Var C7551 (value -0.0)>\n",
      "<gurobi.Var C7552 (value -0.0)>\n",
      "<gurobi.Var C7553 (value 0.0)>\n"
     ]
    }
   ],
   "source": [
    "for t in time_indexes:\n",
    "      print(clearances[test_article,t])"
   ]
  },
  {
   "cell_type": "code",
   "execution_count": 13,
   "metadata": {},
   "outputs": [
    {
     "name": "stdout",
     "output_type": "stream",
     "text": [
      "0\n",
      "Order:  3.0\n",
      "Demand:  5\n",
      "Storage:  1.0\n",
      "\n",
      "1\n",
      "Order:  3.0\n",
      "Demand:  6\n",
      "Storage:  1.0\n",
      "\n",
      "2\n",
      "Order:  -0.0\n",
      "Demand:  0\n",
      "Storage:  -0.0\n",
      "\n",
      "3\n",
      "Order:  -0.0\n",
      "Demand:  0\n",
      "Storage:  -0.0\n",
      "\n",
      "4\n",
      "Order:  -0.0\n",
      "Demand:  0\n",
      "Storage:  -0.0\n",
      "\n",
      "5\n",
      "Order:  -0.0\n",
      "Demand:  0\n",
      "Storage:  -0.0\n",
      "\n"
     ]
    }
   ],
   "source": [
    "for t in time_indexes:\n",
    "    print(t)\n",
    "    print(\"Order: \", orders[test_article,t].X)\n",
    "    print(\"Demand: \", demand[test_article][t])\n",
    "    print(\"Storage: \", storage_used[test_article,t].X) \n",
    "    print()\n"
   ]
  },
  {
   "cell_type": "code",
   "execution_count": null,
   "metadata": {},
   "outputs": [],
   "source": []
  }
 ],
 "metadata": {
  "kernelspec": {
   "display_name": "Python 3 (ipykernel)",
   "language": "python",
   "name": "python3"
  },
  "language_info": {
   "codemirror_mode": {
    "name": "ipython",
    "version": 3
   },
   "file_extension": ".py",
   "mimetype": "text/x-python",
   "name": "python",
   "nbconvert_exporter": "python",
   "pygments_lexer": "ipython3",
   "version": "3.9.13"
  },
  "vscode": {
   "interpreter": {
    "hash": "31f2aee4e71d21fbe5cf8b01ff0e069b9275f58929596ceb00d14d90e3e16cd6"
   }
  }
 },
 "nbformat": 4,
 "nbformat_minor": 2
}
