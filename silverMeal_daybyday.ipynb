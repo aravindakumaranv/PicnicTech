{
 "cells": [
  {
   "cell_type": "code",
   "execution_count": 1,
   "metadata": {},
   "outputs": [],
   "source": [
    "import pandas as pd\n",
    "import gurobipy as gp\n",
    "import math\n",
    "import pickle as pkl\n",
    "from datetime import datetime, timedelta"
   ]
  },
  {
   "cell_type": "code",
   "execution_count": 2,
   "metadata": {},
   "outputs": [],
   "source": [
    "product_type = \"ambient\" #frozen chilled ambient \n",
    "num_time_periods = 7\n",
    "storage_type=\"constrained\" #standard constrained relaxed \n",
    "#Test in one article\n",
    "test_article = \"468a73f3\"\n",
    "M = 2000"
   ]
  },
  {
   "cell_type": "code",
   "execution_count": 3,
   "metadata": {},
   "outputs": [],
   "source": [
    "article_data = pd.read_csv(\"./data/article.csv\")\n",
    "article_data = article_data[(article_data['TEMPERATURE_ZONE'] == product_type)]"
   ]
  },
  {
   "cell_type": "code",
   "execution_count": 4,
   "metadata": {},
   "outputs": [],
   "source": [
    "# constants definitions\n",
    "if(product_type==\"frozen\"):\n",
    "    if(storage_type==\"standard\"):\n",
    "        warehouse_volume = 30\n",
    "    if(storage_type==\"constrained\"):\n",
    "        warehouse_volume = 20\n",
    "    if(storage_type==\"relaxed\"):\n",
    "        warehouse_volume = 50\n",
    "if(product_type==\"chilled\"):\n",
    "    if(storage_type==\"standard\"):\n",
    "        warehouse_volume = 250\n",
    "    if(storage_type==\"constrained\"):\n",
    "        warehouse_volume = 180\n",
    "    if(storage_type==\"relaxed\"):\n",
    "        warehouse_volume = 300\n",
    "if(product_type==\"ambient\"):\n",
    "    if(storage_type==\"standard\"):\n",
    "        warehouse_volume = 700\n",
    "    if(storage_type==\"constrained\"):\n",
    "        warehouse_volume = 500\n",
    "    if(storage_type==\"relaxed\"):\n",
    "        warehouse_volume = 900\n",
    "buffer_cost_per_m3 = 25\n",
    "default_max_order = 10000\n",
    "max_order_exceed_multiplier = 1.5"
   ]
  },
  {
   "cell_type": "code",
   "execution_count": 5,
   "metadata": {},
   "outputs": [],
   "source": [
    "def createParameterMatrix(data, columns):\n",
    "    parameters = []\n",
    "    for column in columns:\n",
    "        parameters.append(data[column].to_list())\n",
    "    parameters = list(map(list, zip(*parameters)))\n",
    "    return parameters"
   ]
  },
  {
   "cell_type": "code",
   "execution_count": 6,
   "metadata": {},
   "outputs": [],
   "source": [
    "articles = article_data['ARTICLE_ID'].to_list()\n",
    "\n",
    "parameters = createParameterMatrix(\n",
    "    article_data,\n",
    "    [\n",
    "        'TEMPERATURE_ZONE',\n",
    "        'VOLUME_M3_PER_CU',\n",
    "        'MEAN_SHELF_LIFE',\n",
    "        'CU_PER_TU',\n",
    "        'ORDERING_COST_FIXED',\n",
    "        'ORDERING_COST_PER_TU',\n",
    "        'CLEARING_COST_PER_CU',\n",
    "        'MINIMUM_ORDER_QUANTITY_TU',\n",
    "        'MAXIMUM_ORDER_QUANTITY_TU'\n",
    "    ]\n",
    ")\n",
    "parameters_dict = dict(zip(articles, parameters))"
   ]
  },
  {
   "cell_type": "code",
   "execution_count": 7,
   "metadata": {},
   "outputs": [],
   "source": [
    "items, category, volume_per_cu, shelf_life, cu_per_tu, ordering_cost_fixed, ordering_cost_per_tu, clearing_cost_per_cu, minimum_order_quantity_tu, maximum_order_quantity_tu = gp.multidict(parameters_dict)"
   ]
  },
  {
   "cell_type": "code",
   "execution_count": 8,
   "metadata": {},
   "outputs": [],
   "source": [
    "forecast_data = pd.read_csv('./data/sales_'+str(num_time_periods)+'.csv')\n",
    "forecast_data = forecast_data[forecast_data['ARTICLE_ID'].isin(articles)]"
   ]
  },
  {
   "cell_type": "code",
   "execution_count": 9,
   "metadata": {},
   "outputs": [],
   "source": [
    "# Create a new dataframe with all dates\n",
    "all_dates_df = pd.DataFrame({'DATE': pd.date_range(start=min(forecast_data['DATE']), end=max(forecast_data['DATE']), freq='D')}).astype(str)\n",
    "# Group the original dataframe by item\n",
    "grouped = forecast_data.groupby('ARTICLE_ID')\n",
    "\n",
    "# Initialize an empty list to store the new dataframes\n",
    "new_dfs = []\n",
    "\n",
    "# Loop over each group\n",
    "for item, group_df in grouped:\n",
    "    \n",
    "    group_df['DATE'] = pd.to_datetime(group_df['DATE']).astype(str)\n",
    "\n",
    "    # Merge the group dataframe with the all_dates dataframe\n",
    "    merged_df = pd.merge(all_dates_df, group_df, on='DATE', how='outer')\n",
    "    merged_df['ARTICLE_ID'] = item\n",
    "    \n",
    "    # Fill in missing values\n",
    "    merged_df['PICKING_QUANTITY_CU'] = merged_df['PICKING_QUANTITY_CU'].fillna(0)\n",
    "    \n",
    "    # Sort by date and append to the list\n",
    "    new_dfs.append(merged_df.sort_values('DATE'))\n",
    "    \n",
    "# Concatenate all new dataframes into a single dataframe\n",
    "forecast_data = pd.concat(new_dfs)\n",
    "time_periods = forecast_data['DATE'].unique()\n",
    "\n",
    "time_indexes = [*range(len(time_periods))]\n",
    "date_to_index = {time_periods[i]:[*range(len(time_periods))][i] for i in time_indexes}\n",
    "index_to_date = {[*range(len(time_periods))][i]:time_periods[i] for i in time_indexes}"
   ]
  },
  {
   "attachments": {},
   "cell_type": "markdown",
   "metadata": {},
   "source": [
    "#### Heuristic"
   ]
  },
  {
   "cell_type": "code",
   "execution_count": 10,
   "metadata": {},
   "outputs": [],
   "source": [
    "demand = forecast_data.groupby('DATE').apply(lambda x: dict(zip(x['ARTICLE_ID'], x['PICKING_QUANTITY_CU']))).to_dict()\n",
    "demand = dict((date_to_index[key],value) for (key,value) in demand.items())"
   ]
  },
  {
   "cell_type": "code",
   "execution_count": 11,
   "metadata": {},
   "outputs": [],
   "source": [
    "class CostMatrixCell:\n",
    "    def __init__(self) -> None:\n",
    "        self.orders = {}\n",
    "        self.order_date = None\n",
    "        self.period_end = None\n",
    "        self.cost = 0\n",
    "        self.avg_cost = 0\n",
    "        self.extra_orders = {}\n",
    "\n",
    "        self.clearance_cost = 0\n",
    "        self.buffer_cost = 0\n",
    "        self.max_order_cost = 0\n",
    "        self.fixed_cost = 0\n",
    "        self.per_tu_cost = 0\n",
    "\n",
    "class Order:\n",
    "    def __init__(self) -> None:\n",
    "        self.item = None\n",
    "        self.quantity_tu = None\n",
    "        self.date = None"
   ]
  },
  {
   "cell_type": "code",
   "execution_count": 12,
   "metadata": {},
   "outputs": [],
   "source": [
    "cost_dict = {\n",
    "    'fixed':0,\n",
    "    'per_tu':0,\n",
    "    'clearance':0,\n",
    "    'buffer':0,\n",
    "    'max_order_penalty':0,\n",
    "    'total':0\n",
    "}"
   ]
  },
  {
   "cell_type": "code",
   "execution_count": 13,
   "metadata": {},
   "outputs": [
    {
     "data": {
      "text/plain": [
       "{'fixed': 120212.7999999999,\n",
       " 'per_tu': 740290.199999998,\n",
       " 'clearance': 54168.00000000004,\n",
       " 'buffer': 0,\n",
       " 'max_order_penalty': 7423.799999999999,\n",
       " 'total': 922094.7999999996}"
      ]
     },
     "execution_count": 13,
     "metadata": {},
     "output_type": "execute_result"
    }
   ],
   "source": [
    "n = len(demand.keys())\n",
    "cost_matrix = [[CostMatrixCell() for __ in range(n)] for _ in range(n)]\n",
    "for i in range(n):\n",
    "    for j in range(n):\n",
    "        if(i>j):\n",
    "            cost_matrix[i][j] = None\n",
    "        else:\n",
    "            cost_matrix[i][j].order_date = i\n",
    "            cost_matrix[i][j].period_end = j\n",
    "\n",
    "def getOrders(cell):\n",
    "    clearance_cost = 0\n",
    "    for t in range(cell.order_date, cell.period_end + 1):\n",
    "        for item in demand[t].keys():\n",
    "            if(item not in cell.orders.keys()):\n",
    "                cell.orders[item] = 0\n",
    "            if(cell.order_date + shelf_life[item] < t):\n",
    "                # item cannot be ordered on order_date because it would go bad by t\n",
    "                if(t not in cell.extra_orders.keys()):\n",
    "                    cell.extra_orders[t] = {}\n",
    "                cell.extra_orders[t][item] = math.ceil(demand[t][item] / cu_per_tu[item])\n",
    "                clearance_cost += ((math.ceil(demand[t][item] / cu_per_tu[item]) * cu_per_tu[item]) - demand[t][item]) * clearing_cost_per_cu[item]\n",
    "            else:   \n",
    "                cell.orders[item] += demand[t][item]\n",
    "                # cell.orders[item] += math.ceil(demand[t][item] / cu_per_tu[item])\n",
    "    for item in cell.orders.keys():\n",
    "        cell.orders[item] = math.ceil(cell.orders[item]/cu_per_tu[item])\n",
    "        clearance_cost += ((math.ceil(demand[t][item] / cu_per_tu[item]) * cu_per_tu[item]) - demand[t][item]) * clearing_cost_per_cu[item]\n",
    "\n",
    "    cell.clearance_cost = clearance_cost\n",
    "\n",
    "def fetchExtraVolume(cell, t):\n",
    "    extra_volume = 0\n",
    "    if(t in cell.extra_orders.keys()):\n",
    "        for item in cell.extra_orders[t].keys():\n",
    "            extra_volume += cell.extra_orders[t][item] * cu_per_tu[item] * volume_per_cu[item] \n",
    "    return extra_volume\n",
    "            \n",
    "def getCost(cell):\n",
    "    getOrders(cell)\n",
    "    cost = cell.clearance_cost\n",
    "    volume = 0\n",
    "\n",
    "    fixed_cost = 0\n",
    "    per_tu_cost = 0\n",
    "    buffer_cost = 0\n",
    "    max_order_cost = 0\n",
    "\n",
    "    for item in cell.orders.keys():\n",
    "        # Fixed and per tu cost for items\n",
    "        cost += (ordering_cost_per_tu[item] * cell.orders[item]) + ordering_cost_fixed[item]\n",
    "        fixed_cost += ordering_cost_fixed[item]\n",
    "        per_tu_cost += ordering_cost_per_tu[item] * cell.orders[item]\n",
    "\n",
    "        # Max order penalty added\n",
    "        if(cell.orders[item] > maximum_order_quantity_tu[item]):\n",
    "            cost += max_order_exceed_multiplier * ordering_cost_per_tu[item] * (cell.orders[item] - maximum_order_quantity_tu[item])\n",
    "            max_order_cost += max_order_exceed_multiplier * ordering_cost_per_tu[item] * (cell.orders[item] - maximum_order_quantity_tu[item])\n",
    "\n",
    "        # Add costs for extra orders\n",
    "        for extra_order_date in cell.extra_orders.keys():\n",
    "            for extra_item in cell.extra_orders[extra_order_date].keys():\n",
    "                cost += (ordering_cost_per_tu[extra_item] * cell.extra_orders[extra_order_date][extra_item]) + ordering_cost_fixed[extra_item]\n",
    "                fixed_cost += ordering_cost_fixed[extra_item]\n",
    "                per_tu_cost += ordering_cost_per_tu[extra_item] * cell.extra_orders[extra_order_date][extra_item]\n",
    "                \n",
    "                # Max order penalty for extra orders\n",
    "                if(cell.extra_orders[extra_order_date][extra_item] > maximum_order_quantity_tu[extra_item]):\n",
    "                    cost += max_order_exceed_multiplier * ordering_cost_per_tu[extra_item] * (cell.extra_orders[extra_order_date][extra_item] - maximum_order_quantity_tu[extra_item])    \n",
    "                    max_order_cost += max_order_exceed_multiplier * ordering_cost_per_tu[extra_item] * (cell.extra_orders[extra_order_date][extra_item] - maximum_order_quantity_tu[extra_item])    \n",
    "\n",
    "        # Keep track of volume\n",
    "        volume += cell.orders[item] * cu_per_tu[item] * volume_per_cu[item]\n",
    "    \n",
    "    # Checking for extra volume and adding buffer cost\n",
    "    for t in range(cell.order_date,cell.period_end+1):\n",
    "        if(volume + fetchExtraVolume(cell, t) > warehouse_volume):\n",
    "            cost += (volume + fetchExtraVolume(cell, t) - warehouse_volume) * buffer_cost_per_m3\n",
    "            buffer_cost += (volume + fetchExtraVolume(cell, t) - warehouse_volume) * buffer_cost_per_m3\n",
    "\n",
    "            demand_volume = 0\n",
    "            for item in demand[t].keys():\n",
    "                demand_volume += volume_per_cu[item] * demand[t][item]\n",
    "            # Removing volume of demand sold that day\n",
    "            volume -= demand_volume\n",
    "\n",
    "            # Adding volume of extra items from that day\n",
    "            volume += fetchExtraVolume(cell, t)\n",
    "        else:\n",
    "            break\n",
    "\n",
    "    cell.cost = cost\n",
    "    cell.avg_cost = cost / (cell.period_end - cell.order_date + 1)\n",
    "\n",
    "    cell.buffer_cost = buffer_cost\n",
    "    cell.max_order_cost = max_order_cost\n",
    "    cell.fixed_cost = fixed_cost\n",
    "    cell.per_tu_cost = per_tu_cost\n",
    "\n",
    "order_date = 0\n",
    "end_reached = False\n",
    "obj_val = 0\n",
    "schedule = {}\n",
    "\n",
    "while(True):\n",
    "    # Skipping ordering on sundays\n",
    "    if(order_date%7==6):\n",
    "        order_date += 1\n",
    "        continue\n",
    "\n",
    "    # Find date *until* which you want to order\n",
    "    min_cost = float('inf')\n",
    "    for t in range(order_date,n):\n",
    "        # Skip checking demand for sundays\n",
    "        if(t%7==6):\n",
    "            continue\n",
    "\n",
    "        schedule[order_date] = {}\n",
    "        getCost(cost_matrix[order_date][t])\n",
    "\n",
    "        if(cost_matrix[order_date][t].avg_cost < min_cost):\n",
    "            min_cost = cost_matrix[order_date][t].avg_cost\n",
    "            # If looking at ordering until last day. Make the order\n",
    "            if(t==n-1):\n",
    "                schedule[order_date] = cost_matrix[order_date][t].orders\n",
    "                end_reached = True\n",
    "                obj_val += cost_matrix[order_date][t].cost\n",
    "\n",
    "                cost_dict['buffer'] += cost_matrix[order_date][t].buffer_cost\n",
    "                cost_dict['clearance'] += cost_matrix[order_date][t].clearance_cost\n",
    "                cost_dict['fixed'] += cost_matrix[order_date][t].fixed_cost\n",
    "                cost_dict['per_tu'] += cost_matrix[order_date][t].per_tu_cost\n",
    "                cost_dict['max_order_penalty'] += cost_matrix[order_date][t].max_order_cost\n",
    "                break\n",
    "            \n",
    "        # If cost increases, make order until previous day\n",
    "        else:\n",
    "            schedule[order_date] = cost_matrix[order_date][t-1].orders\n",
    "            obj_val += cost_matrix[order_date][t-1].cost\n",
    "\n",
    "            cost_dict['buffer'] += cost_matrix[order_date][t-1].buffer_cost\n",
    "            cost_dict['clearance'] += cost_matrix[order_date][t-1].clearance_cost\n",
    "            cost_dict['fixed'] += cost_matrix[order_date][t-1].fixed_cost\n",
    "            cost_dict['per_tu'] += cost_matrix[order_date][t-1].per_tu_cost\n",
    "            cost_dict['max_order_penalty'] += cost_matrix[order_date][t-1].max_order_cost\n",
    "\n",
    "            # Place next order starting from today\n",
    "            order_date = t\n",
    "            break\n",
    "    \n",
    "    if(order_date >= n or end_reached):\n",
    "        break\n",
    "\n",
    "cost_dict['total'] = obj_val\n",
    "cost_dict"
   ]
  },
  {
   "cell_type": "code",
   "execution_count": 14,
   "metadata": {},
   "outputs": [],
   "source": [
    "result_dict = {}\n",
    "\n",
    "for day, articles in schedule.items():\n",
    "    for article, quantity in articles.items():\n",
    "        if article in result_dict:\n",
    "            result_dict[article][day] = quantity\n",
    "        else:\n",
    "            result_dict[article] = {day: quantity}\n",
    "schedule = result_dict"
   ]
  },
  {
   "cell_type": "code",
   "execution_count": 15,
   "metadata": {},
   "outputs": [],
   "source": [
    "buf_cost = 0\n",
    "vol = 0\n",
    "time_indexes\n",
    "volumes = {}\n",
    "\n",
    "for time in range(len(time_indexes)):\n",
    "    for item in schedule:\n",
    "        if time in schedule[item].keys():\n",
    "            vol += schedule[item][time] * cu_per_tu[item] * volume_per_cu[item]\n",
    "\n",
    "    if time > 0:\n",
    "        for item in demand.keys():\n",
    "            if time in demand[item].keys():\n",
    "                vol -= demand[item][time] * volume_per_cu[item]\n",
    "\n",
    "    volumes[time] = vol"
   ]
  },
  {
   "cell_type": "code",
   "execution_count": 16,
   "metadata": {},
   "outputs": [],
   "source": [
    "def neighbourhoodOperator1(schedule, obj_val):\n",
    "    max_improvement = obj_val\n",
    "    cost = obj_val\n",
    "    modified_schedule = {}\n",
    "    day_wise_orders = {}\n",
    "\n",
    "    buffer_penalty_tot = 0\n",
    "    max_order_penalty_tot = 0\n",
    "    fixed_ordering_cost_tot = 0 \n",
    "    schedule_imp = schedule\n",
    "\n",
    "    count = 0\n",
    "    iterator = 0\n",
    "    MAX_ITER = 100\n",
    "    MAX_REPEAT = 3\n",
    "    prev_max_improvement = 0\n",
    "\n",
    "    while count < MAX_REPEAT and iterator < MAX_ITER:\n",
    "        for item in schedule_imp:\n",
    "            buffer_penalty = 0\n",
    "            max_order_penalty = 0 \n",
    "            cost_improvement = 0\n",
    "            modified_orders = {}\n",
    "            # Check if the item has a second order date\n",
    "            if len(schedule_imp[item]) > 1:\n",
    "                order_days = list(schedule_imp[item].keys())\n",
    "                for i in range (0,len(order_days)-1, 2):\n",
    "                    day1 = i\n",
    "                    day2 = i +1\n",
    "                        \n",
    "                    if order_days[day2] - order_days[day1] <= shelf_life[item]:\n",
    "                        tot_orders = schedule_imp[item][order_days[day1]]+ schedule_imp[item][order_days[day2]]\n",
    "                        vol = tot_orders * cu_per_tu[item] * volume_per_cu[item]\n",
    "                        if vol + volumes[day1] > warehouse_volume:\n",
    "                            buffer_penalty += buffer_cost_per_m3 * (vol + volumes[day1] - warehouse_volume)\n",
    "                        if tot_orders > maximum_order_quantity_tu[item]:\n",
    "                            max_order_penalty += ( tot_orders - maximum_order_quantity_tu[item]) * max_order_exceed_multiplier * ordering_cost_per_tu[item]\n",
    "                        delta = - ordering_cost_fixed[item] + buffer_penalty + max_order_penalty \n",
    "                        if delta < 0:\n",
    "                            cost += delta\n",
    "                            fixed_ordering_cost_tot += ordering_cost_fixed[item] \n",
    "                            buffer_penalty_tot += buffer_penalty\n",
    "                            max_order_penalty_tot += max_order_penalty\n",
    "                            modified_orders[day1] = tot_orders\n",
    "                            volumes[day1] += vol\n",
    "                        else:\n",
    "                            modified_orders[order_days[day1]] = schedule_imp[item][order_days[day1]]\n",
    "                            modified_orders[order_days[day2]] = schedule_imp[item][order_days[day2]]\n",
    "                modified_schedule[item] = modified_orders\n",
    "            \n",
    "            else: \n",
    "                if len(schedule[item]) == 1 :\n",
    "                    modified_schedule[item] = schedule_imp[item]\n",
    "                else:\n",
    "                    continue\n",
    "\n",
    "\n",
    "            if cost!=0 and cost < max_improvement:\n",
    "                max_improvement = cost\n",
    "        \n",
    "        print(\"Buffer penalty paid\", buffer_penalty_tot)\n",
    "        print(\"max order penalty paid\", max_order_penalty_tot)\n",
    "        print(\"fixed cost reduced by\", fixed_ordering_cost_tot)\n",
    "        schedule_imp = modified_schedule\n",
    "        obj_val = max_improvement\n",
    "        iterator +=1\n",
    "\n",
    "        print(max_improvement)\n",
    "        if(max_improvement==prev_max_improvement):\n",
    "            count+=1\n",
    "        prev_max_improvement = max_improvement\n",
    "\n",
    "    return schedule, obj_val, buffer_penalty_tot, max_order_penalty_tot, fixed_ordering_cost_tot"
   ]
  },
  {
   "cell_type": "code",
   "execution_count": 17,
   "metadata": {},
   "outputs": [
    {
     "name": "stdout",
     "output_type": "stream",
     "text": [
      "Buffer penalty paid 307.88448304929403\n",
      "max order penalty paid 1.5\n",
      "fixed cost reduced by 8897.9\n",
      "913506.2844830491\n",
      "Buffer penalty paid 307.88448304929403\n",
      "max order penalty paid 1.5\n",
      "fixed cost reduced by 8897.9\n",
      "913506.2844830491\n",
      "Buffer penalty paid 307.88448304929403\n",
      "max order penalty paid 1.5\n",
      "fixed cost reduced by 8897.9\n",
      "913506.2844830491\n",
      "Buffer penalty paid 307.88448304929403\n",
      "max order penalty paid 1.5\n",
      "fixed cost reduced by 8897.9\n",
      "913506.2844830491\n"
     ]
    },
    {
     "data": {
      "text/plain": [
       "{'fixed': 111314.8999999999,\n",
       " 'per_tu': 740290.199999998,\n",
       " 'clearance': 54168.00000000004,\n",
       " 'buffer': 307.88448304929403,\n",
       " 'max_order_penalty': 7425.299999999999,\n",
       " 'total': 913506.2844830491}"
      ]
     },
     "execution_count": 17,
     "metadata": {},
     "output_type": "execute_result"
    }
   ],
   "source": [
    "schedule, obj_val, buffer_cost_delta, max_order_penalty_delta, fixed_cost_delta  = neighbourhoodOperator1(schedule, obj_val)\n",
    "cost_dict['buffer'] += buffer_cost_delta\n",
    "cost_dict['max_order_penalty'] += max_order_penalty_delta\n",
    "cost_dict['fixed'] -= fixed_cost_delta\n",
    "cost_dict['total'] = obj_val\n",
    "cost_dict"
   ]
  },
  {
   "cell_type": "code",
   "execution_count": 18,
   "metadata": {},
   "outputs": [],
   "source": [
    "backup_schedule = schedule.copy()"
   ]
  },
  {
   "cell_type": "code",
   "execution_count": 19,
   "metadata": {},
   "outputs": [],
   "source": [
    "schedule = backup_schedule.copy()"
   ]
  },
  {
   "cell_type": "code",
   "execution_count": 20,
   "metadata": {},
   "outputs": [],
   "source": [
    "for item in schedule.keys():\n",
    "    for day in schedule[item].keys():\n",
    "        if(schedule[item][day] < 0):\n",
    "            print(\"CRAP!\")"
   ]
  },
  {
   "cell_type": "code",
   "execution_count": 21,
   "metadata": {},
   "outputs": [],
   "source": [
    "def transposeScheduleToDayFirst(schedule):\n",
    "    result_dict = {}\n",
    "    for day, articles in schedule.items():\n",
    "        for article, quantity in articles.items():\n",
    "            if article in result_dict:\n",
    "                result_dict[article][day] = quantity\n",
    "            else:\n",
    "                result_dict[article] = {day: quantity}\n",
    "    return result_dict\n",
    "\n",
    "def transposeScheduleToItemFirst(schedule):\n",
    "    result_dict = {}\n",
    "    for article, days in schedule.items():\n",
    "        for day, quantity in days.items():\n",
    "            if day in result_dict:\n",
    "                result_dict[day][article] = quantity\n",
    "            else:\n",
    "                result_dict[day] = {article: quantity}\n",
    "    return result_dict"
   ]
  },
  {
   "cell_type": "code",
   "execution_count": 22,
   "metadata": {},
   "outputs": [
    {
     "data": {
      "text/plain": [
       "4"
      ]
     },
     "execution_count": 22,
     "metadata": {},
     "output_type": "execute_result"
    }
   ],
   "source": [
    "shelf_life['59e744cc']"
   ]
  },
  {
   "cell_type": "code",
   "execution_count": 23,
   "metadata": {},
   "outputs": [
    {
     "name": "stdout",
     "output_type": "stream",
     "text": [
      "0 25.0\n",
      "1 20.0\n",
      "2 23.0\n",
      "3 36.0\n",
      "4 35.0\n",
      "5 14.0\n"
     ]
    },
    {
     "data": {
      "text/plain": [
       "153.0"
      ]
     },
     "execution_count": 23,
     "metadata": {},
     "output_type": "execute_result"
    }
   ],
   "source": [
    "summ = 0\n",
    "for day in demand.keys():\n",
    "    if('59e744cc' in demand[day].keys()):\n",
    "        summ += demand[day]['59e744cc']\n",
    "        print(day, demand[day]['59e744cc'])\n",
    "summ"
   ]
  },
  {
   "cell_type": "code",
   "execution_count": 24,
   "metadata": {},
   "outputs": [],
   "source": [
    "# test_schedule = schedule.copy()\n",
    "# # test_schedule = transposeScheduleToDayFirst({'bd82f3b0':test_schedule['bd82f3b0']})\n",
    "# test_schedule = transposeScheduleToDayFirst({'59e744cc':test_schedule['59e744cc']})\n",
    "# articles = ['59e744cc']\n",
    "# test_schedule"
   ]
  },
  {
   "cell_type": "code",
   "execution_count": 25,
   "metadata": {},
   "outputs": [],
   "source": [
    "new_clearance_cost = 0\n",
    "ordering_cost_per_tu_saved = 0\n",
    "\n",
    "# Add clearance cost\n",
    "# If I ever have to throw away equal to or more than a TU's worth, then I can just reduce order\n",
    "def removeExpired(inv,life,item):\n",
    "    global ordering_cost_per_tu_saved\n",
    "    global new_clearance_cost\n",
    "    \n",
    "    tu_saved = 0\n",
    "    # if inventory has items from days which are now too old\n",
    "    if(len(inv)>life):\n",
    "        amount_cleared = inv[0]\n",
    "\n",
    "        tu_saved = amount_cleared//cu_per_tu[item]\n",
    "        # ordering cost reduced here\n",
    "        ordering_cost_per_tu_saved += tu_saved * ordering_cost_per_tu[item]\n",
    "\n",
    "        amount_inevitably_cleared = amount_cleared%cu_per_tu[item]\n",
    "        # clearance cost recalculated here\n",
    "        new_clearance_cost += amount_inevitably_cleared*clearing_cost_per_cu[item]\n",
    "        \n",
    "        # remove days which are now too old\n",
    "        inv = inv[-life:]\n",
    "    \n",
    "    return inv, tu_saved\n",
    "\n",
    "def addDay(inv,ordered):\n",
    "    inv.append(ordered)\n",
    "    return inv\n",
    "\n",
    "# how much of the current demand can be satisfied from items in inventory\n",
    "def satisfyFromInventory(inv, dem):\n",
    "    for day in range(len(inv)):\n",
    "        if(dem==0):\n",
    "            break\n",
    "        if(inv[day] <= dem):\n",
    "            dem -= inv[day]\n",
    "            inv[day] = 0\n",
    "        else:\n",
    "            inv[day] -= dem\n",
    "            dem = 0\n",
    "    return inv\n",
    "\n",
    "def updateInventory(inv,item,t,ordered):\n",
    "    life = shelf_life[item]\n",
    "    dem = demand[t][item]\n",
    "    # first the orders of the new day are added to the inventory\n",
    "    # and then the total inventory is used to satisfy the demand\n",
    "    # This would mean that the demand cannot go unsatisfied from\n",
    "    # the items in the inventory\n",
    "    inv = addDay(inv, ordered)\n",
    "    inv, tu_saved = removeExpired(inv,life,item)\n",
    "    inv = satisfyFromInventory(inv, dem)\n",
    "    return inv, tu_saved\n",
    "\n",
    "def calculateMaxOrderPenalty(schedule):\n",
    "    max_order_penalty = 0\n",
    "    for day in schedule.keys():\n",
    "        for item in schedule[day].keys():\n",
    "            if(schedule[day][item] > maximum_order_quantity_tu[item]):\n",
    "                max_order_penalty += (schedule[day][item] - maximum_order_quantity_tu[item]) * max_order_exceed_multiplier * ordering_cost_per_tu[item]\n",
    "    return max_order_penalty\n",
    "\n",
    "def neighbourhoodOperator2(schedule):\n",
    "    # dictionary of format {'item':['q left on earliest possible','q left on earliest possible + 1',...,'q left today']}\n",
    "    inventory = {}\n",
    "\n",
    "    for t in time_indexes:\n",
    "        for item in articles:\n",
    "\n",
    "            if item not in inventory.keys():\n",
    "                inventory[item] = []\n",
    "\n",
    "            # if there was no order for an item in a particular day, then the order was 0\n",
    "            if(t in schedule.keys() and item in schedule[t].keys()):\n",
    "                ordered = schedule[t][item] * cu_per_tu[item]\n",
    "            else:\n",
    "                ordered = 0\n",
    "\n",
    "            # update the inventory according to what has been ordered today for item\n",
    "            inventory[item],tu_saved = updateInventory(inventory[item], item, t, ordered)\n",
    "            \n",
    "            # Removing excess TUs from the schedule. On day t, we remove the excess from day t-shelf life\n",
    "            if(t-shelf_life[item] in schedule.keys() and item in schedule[t-shelf_life[item]].keys()):\n",
    "                if(t>=shelf_life[item]):\n",
    "                    schedule[t-shelf_life[item]][item] -= tu_saved\n",
    "\n",
    "                \n",
    "    print(\"Clearance cost: \", new_clearance_cost)\n",
    "    print(\"Ordering cost per TU saved: \", ordering_cost_per_tu_saved)\n",
    "\n",
    "    new_max_order_penalty = calculateMaxOrderPenalty(schedule)\n",
    "\n",
    "    return schedule, new_clearance_cost, ordering_cost_per_tu_saved, new_max_order_penalty"
   ]
  },
  {
   "cell_type": "code",
   "execution_count": 26,
   "metadata": {},
   "outputs": [
    {
     "name": "stdout",
     "output_type": "stream",
     "text": [
      "Clearance cost:  585.4999999999999\n",
      "Ordering cost per TU saved:  18683.500000000004\n"
     ]
    }
   ],
   "source": [
    "schedule = transposeScheduleToDayFirst(schedule)\n",
    "schedule, new_clearance_cost, per_tu_delta, new_max_order_penalty = neighbourhoodOperator2(schedule)\n",
    "cost_dict['clearance'] = new_clearance_cost\n",
    "cost_dict['max_order_penalty'] = new_max_order_penalty\n",
    "cost_dict['per_tu'] -= per_tu_delta\n",
    "cost_dict['total'] = cost_dict['fixed'] + cost_dict['per_tu'] + cost_dict['buffer'] + cost_dict['clearance'] + cost_dict['max_order_penalty']"
   ]
  },
  {
   "cell_type": "code",
   "execution_count": 27,
   "metadata": {},
   "outputs": [
    {
     "data": {
      "text/plain": [
       "{'fixed': 111314.8999999999,\n",
       " 'per_tu': 721606.699999998,\n",
       " 'clearance': 585.4999999999999,\n",
       " 'buffer': 307.88448304929403,\n",
       " 'max_order_penalty': 7423.799999999999,\n",
       " 'total': 841238.7844830472}"
      ]
     },
     "execution_count": 27,
     "metadata": {},
     "output_type": "execute_result"
    }
   ],
   "source": [
    "cost_dict"
   ]
  }
 ],
 "metadata": {
  "kernelspec": {
   "display_name": "Python 3.9.6 64-bit",
   "language": "python",
   "name": "python3"
  },
  "language_info": {
   "codemirror_mode": {
    "name": "ipython",
    "version": 3
   },
   "file_extension": ".py",
   "mimetype": "text/x-python",
   "name": "python",
   "nbconvert_exporter": "python",
   "pygments_lexer": "ipython3",
   "version": "3.10.2"
  },
  "orig_nbformat": 4,
  "vscode": {
   "interpreter": {
    "hash": "31f2aee4e71d21fbe5cf8b01ff0e069b9275f58929596ceb00d14d90e3e16cd6"
   }
  }
 },
 "nbformat": 4,
 "nbformat_minor": 2
}
