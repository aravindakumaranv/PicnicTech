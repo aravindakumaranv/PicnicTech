{
 "cells": [
  {
   "cell_type": "code",
   "execution_count": 238,
   "metadata": {},
   "outputs": [],
   "source": [
    "import pandas as pd\n",
    "import gurobipy as gp\n",
    "import math\n",
    "import pickle as pkl\n",
    "from datetime import datetime, timedelta"
   ]
  },
  {
   "cell_type": "code",
   "execution_count": 239,
   "metadata": {},
   "outputs": [],
   "source": [
    "product_type = \"frozen\"\n",
    "num_time_periods = 7"
   ]
  },
  {
   "cell_type": "code",
   "execution_count": 240,
   "metadata": {},
   "outputs": [],
   "source": [
    "article_data = pd.read_csv(\"./data/article.csv\")\n",
    "article_data = article_data[(article_data['TEMPERATURE_ZONE'] == product_type)]"
   ]
  },
  {
   "cell_type": "code",
   "execution_count": 241,
   "metadata": {},
   "outputs": [],
   "source": [
    "# constants definitions\n",
    "if(product_type==\"frozen\"):\n",
    "    warehouse_volume = 50\n",
    "if(product_type==\"chilled\"):\n",
    "    warehouse_volume = 300\n",
    "if(product_type==\"ambient\"):\n",
    "    warehouse_volume = 900\n",
    "buffer_cost = 25\n",
    "default_max_order = 50"
   ]
  },
  {
   "cell_type": "code",
   "execution_count": 242,
   "metadata": {},
   "outputs": [],
   "source": [
    "def createParameterMatrix(data, columns):\n",
    "    parameters = []\n",
    "    for column in columns:\n",
    "        parameters.append(data[column].to_list())\n",
    "    parameters = list(map(list, zip(*parameters)))\n",
    "    return parameters"
   ]
  },
  {
   "cell_type": "code",
   "execution_count": 243,
   "metadata": {},
   "outputs": [],
   "source": [
    "articles = article_data['ARTICLE_ID'].to_list()\n",
    "\n",
    "parameters = createParameterMatrix(\n",
    "    article_data,\n",
    "    [\n",
    "        'TEMPERATURE_ZONE',\n",
    "        'VOLUME_M3_PER_CU',\n",
    "        'MEAN_SHELF_LIFE',\n",
    "        'CU_PER_TU',\n",
    "        'ORDERING_COST_FIXED',\n",
    "        'ORDERING_COST_PER_TU',\n",
    "        'CLEARING_COST_PER_CU',\n",
    "        'MINIMUM_ORDER_QUANTITY_TU',\n",
    "        'MAXIMUM_ORDER_QUANTITY_TU'\n",
    "    ]\n",
    ")\n",
    "parameters_dict = dict(zip(articles, parameters))"
   ]
  },
  {
   "cell_type": "code",
   "execution_count": 244,
   "metadata": {},
   "outputs": [],
   "source": [
    "items, category, volume_per_cu, shelf_life, cu_per_tu, ordering_cost_fixed, ordering_cost_per_tu, clearing_cost_per_cu, minimum_order_quantity_tu, maximum_order_quantity_tu = gp.multidict(parameters_dict)"
   ]
  },
  {
   "cell_type": "code",
   "execution_count": 245,
   "metadata": {},
   "outputs": [],
   "source": [
    "forecast_data = pd.read_csv('./data/sales_'+str(num_time_periods)+'.csv')\n",
    "forecast_data = forecast_data[forecast_data['ARTICLE_ID'].isin(articles)]"
   ]
  },
  {
   "cell_type": "code",
   "execution_count": 246,
   "metadata": {},
   "outputs": [],
   "source": [
    "# Create a new dataframe with all dates\n",
    "all_dates_df = pd.DataFrame({'DATE': pd.date_range(start=min(forecast_data['DATE']), end=max(forecast_data['DATE']), freq='D')}).astype(str)\n",
    "# Group the original dataframe by item\n",
    "grouped = forecast_data.groupby('ARTICLE_ID')\n",
    "\n",
    "# Initialize an empty list to store the new dataframes\n",
    "new_dfs = []\n",
    "\n",
    "# Loop over each group\n",
    "for item, group_df in grouped:\n",
    "    \n",
    "    group_df['DATE'] = pd.to_datetime(group_df['DATE']).astype(str)\n",
    "\n",
    "    # Merge the group dataframe with the all_dates dataframe\n",
    "    merged_df = pd.merge(all_dates_df, group_df, on='DATE', how='outer')\n",
    "    merged_df['ARTICLE_ID'] = item\n",
    "    \n",
    "    # Fill in missing values\n",
    "    merged_df['PICKING_QUANTITY_CU'] = merged_df['PICKING_QUANTITY_CU'].fillna(0)\n",
    "    \n",
    "    # Sort by date and append to the list\n",
    "    new_dfs.append(merged_df.sort_values('DATE'))\n",
    "    \n",
    "# Concatenate all new dataframes into a single dataframe\n",
    "forecast_data = pd.concat(new_dfs)\n",
    "time_periods = forecast_data['DATE'].unique()\n",
    "\n",
    "time_indexes = [*range(len(time_periods))]\n",
    "date_to_index = {time_periods[i]:[*range(len(time_periods))][i] for i in time_indexes}\n",
    "index_to_date = {[*range(len(time_periods))][i]:time_periods[i] for i in time_indexes}"
   ]
  },
  {
   "attachments": {},
   "cell_type": "markdown",
   "metadata": {},
   "source": [
    "#### Heuristic"
   ]
  },
  {
   "cell_type": "code",
   "execution_count": 247,
   "metadata": {},
   "outputs": [],
   "source": [
    "demand = forecast_data.groupby('DATE').apply(lambda x: dict(zip(x['ARTICLE_ID'], x['PICKING_QUANTITY_CU']))).to_dict()\n",
    "demand = dict((date_to_index[key],value) for (key,value) in demand.items())"
   ]
  },
  {
   "cell_type": "code",
   "execution_count": 248,
   "metadata": {},
   "outputs": [],
   "source": [
    "# test_article = '00ee8964'\n",
    "# for t in demand.keys():\n",
    "#     demand[t][test_article] = 0\n",
    "# demand[3][test_article] = 5\n",
    "# shelf_life[test_article] = 1\n",
    "# cu_per_tu[test_article] = 1\n",
    "# # warehouse_volume = 1"
   ]
  },
  {
   "cell_type": "code",
   "execution_count": 249,
   "metadata": {},
   "outputs": [],
   "source": [
    "class CostMatrixCell:\n",
    "    def __init__(self) -> None:\n",
    "        self.orders = {}\n",
    "        self.order_date = None\n",
    "        self.period_end = None\n",
    "        self.cost = 0\n",
    "        self.avg_cost = 0\n",
    "        self.extra_orders = {}\n",
    "        self.clearance_cost = 0\n",
    "\n",
    "class Order:\n",
    "    def __init__(self) -> None:\n",
    "        self.item = None\n",
    "        self.quantity_tu = None\n",
    "        self.date = None"
   ]
  },
  {
   "cell_type": "code",
   "execution_count": 250,
   "metadata": {},
   "outputs": [
    {
     "data": {
      "text/plain": [
       "6616.199999999997"
      ]
     },
     "execution_count": 250,
     "metadata": {},
     "output_type": "execute_result"
    }
   ],
   "source": [
    "n = len(demand.keys())\n",
    "cost_matrix = [[CostMatrixCell() for __ in range(n)] for _ in range(n)]\n",
    "for i in range(n):\n",
    "    for j in range(n):\n",
    "        if(i>j):\n",
    "            cost_matrix[i][j] = None\n",
    "        else:\n",
    "            cost_matrix[i][j].order_date = i\n",
    "            cost_matrix[i][j].period_end = j\n",
    "\n",
    "def getOrders(cell):\n",
    "    clearance_cost = 0\n",
    "    for t in range(cell.order_date, cell.period_end + 1):\n",
    "        for item in demand[t].keys():\n",
    "            if(item not in cell.orders.keys()):\n",
    "                cell.orders[item] = 0\n",
    "            if(cell.order_date + shelf_life[item] < t):\n",
    "                # item cannot be ordered on order_date because it would go bad by t\n",
    "                if(t not in cell.extra_orders.keys()):\n",
    "                    cell.extra_orders[t] = {}\n",
    "                cell.extra_orders[t][item] = math.ceil(demand[t][item] / cu_per_tu[item])\n",
    "                clearance_cost += ((math.ceil(demand[t][item] / cu_per_tu[item]) * cu_per_tu[item]) - demand[t][item]) * clearing_cost_per_cu[item]\n",
    "            else:   \n",
    "                cell.orders[item] += math.ceil(demand[t][item] / cu_per_tu[item])\n",
    "    cell.clearance_cost = clearance_cost\n",
    "\n",
    "def fetchExtraVolume(cell, t):\n",
    "    extra_volume = 0\n",
    "    if(t in cell.extra_orders.keys()):\n",
    "        for item in cell.extra_orders[t].keys():\n",
    "            extra_volume += cell.extra_orders[t][item] * cu_per_tu[item] * volume_per_cu[item] \n",
    "    return extra_volume\n",
    "            \n",
    "def getCost(cell):\n",
    "    getOrders(cell)\n",
    "    cost = cell.clearance_cost\n",
    "    volume = 0\n",
    "    for item in cell.orders.keys():\n",
    "        life = shelf_life[item]\n",
    "        cost += (ordering_cost_per_tu[item] * cell.orders[item]) + ordering_cost_fixed[item]\n",
    "        volume += cell.orders[item] * cu_per_tu[item] * volume_per_cu[item]\n",
    "    for t in range(cell.order_date,cell.period_end+1):\n",
    "        if(volume + fetchExtraVolume(cell, t) > warehouse_volume):\n",
    "            # CHECK\n",
    "            cost += (volume + fetchExtraVolume(cell, t) - warehouse_volume) * buffer_cost\n",
    "            demand_volume = 0\n",
    "            for item in demand[t].keys():\n",
    "                demand_volume += volume_per_cu[item] * demand[t][item]\n",
    "            volume -= demand_volume\n",
    "            # CHECK\n",
    "            volume += fetchExtraVolume(cell, t)\n",
    "        else:\n",
    "            break\n",
    "    \n",
    "    cell.cost = cost\n",
    "    cell.avg_cost = cost / (cell.period_end - cell.order_date + 1) \n",
    "\n",
    "order_date = 0\n",
    "end_reached = False\n",
    "obj_val = 0\n",
    "while(True):\n",
    "    min_cost = float('inf')\n",
    "    for t in range(order_date,n):\n",
    "        getCost(cost_matrix[order_date][t])\n",
    "        if(cost_matrix[order_date][t].avg_cost < min_cost):\n",
    "            min_cost = cost_matrix[order_date][t].avg_cost\n",
    "            if(t==n-1):\n",
    "                end_reached = True\n",
    "                break\n",
    "        else:\n",
    "            order_date = t\n",
    "            break\n",
    "    obj_val += cost_matrix[order_date][t].cost\n",
    "    if(order_date >= n or end_reached):\n",
    "        break\n",
    "\n",
    "obj_val"
   ]
  },
  {
   "cell_type": "code",
   "execution_count": 251,
   "metadata": {},
   "outputs": [
    {
     "name": "stdout",
     "output_type": "stream",
     "text": [
      "{0: {'00ee8964': 19, '010c48db': 17, '015eb098': 14, '019f5beb': 83, '020b50b0': 83, '03436da5': 19, '038bb02c': 13, '04112e43': 17, '04828ea6': 23, '050daac5': 13, '05ffd974': 221, '0744ee79': 14, '0793a340': 22, '097bbc43': 245, '0983d839': 32, '09e397f8': 117, '0b1a45e0': 13, '0ba6590b': 43, '0e611aba': 14, '1017897f': 466, '105e43d9': 24, '106ac8f0': 419, '10f2b453': 62, '111b2434': 14, '11545bca': 49, '126334a5': 29, '12c460b7': 39, '12cf1bca': 55, '13541e66': 223, '1377878b': 50, '138278a7': 9, '13becd5f': 22, '148ed136': 20, '15b0e7a5': 16, '17f9fecb': 18, '1814bccd': 10, '189067f1': 56, '196c247b': 59, '1a30c679': 26, '1c939a8e': 32, '1c96fbe0': 13, '1ccd89f6': 41, '1d34848b': 67, '1d4d730b': 25, '1e6e2355': 41, '1f15ae34': 13, '1f782edd': 13, '1f9d7d64': 50, '227e7261': 40, '230872dd': 291, '2410d366': 17, '2423482a': 13, '25b50b2a': 62, '26fa73fc': 20, '27c511b5': 17, '2a71fdad': 13, '2ab442df': 162, '2af749f6': 13, '2b6aadc0': 31, '2b950121': 31, '2cd380af': 21, '2d54eaba': 468, '2d82f35e': 13, '2daf6632': 96, '2deeace4': 14, '2ea93642': 99, '2f479fa5': 39, '2f821a2e': 138, '3038bf57': 34, '3197925f': 14, '327dfe80': 19, '337f1013': 21, '3448c6a4': 15, '346ae478': 22, '34ece327': 56, '3538c106': 36, '359fe15b': 37, '35d1f0a1': 13, '35d760ee': 25, '39a1af6c': 17, '3ad61aa5': 13, '3b2c5740': 41, '3bd76e22': 13, '3c88aa42': 13, '3d4b5fb5': 23, '3ed84832': 16, '40d671c4': 42, '4259488b': 33, '4385ba0d': 13, '43951deb': 30, '43a7945a': 13, '43baa09a': 17, '43bcacd0': 83, '44c369a4': 15, '45ae7390': 78, '4647e48b': 59, '468a73f3': 879, '47afad28': 16, '47f7977c': 38, '4869283c': 32, '4912dda2': 381, '493893d4': 27, '49533a36': 30, '499d4776': 486, '499ff4b3': 31, '4a9ec1ae': 21, '4c2860cd': 298, '4dc673f8': 13, '4e64ddf6': 13, '50b96f4c': 26, '513888ed': 13, '51b0a89a': 22, '5280d290': 13, '52c5bfab': 13, '53589d5b': 14, '5419a2bf': 17, '556dd7f3': 44, '559424ed': 34, '57cb1756': 13, '58180eaf': 31, '58499bdc': 33, '593d4b92': 52, '59adc3aa': 14, '5a3bdc6c': 22, '5be424a4': 13, '5c02c0bc': 42, '5d147e07': 96, '5e3b367f': 53, '5fdf9844': 14, '6036f4f1': 22, '60450f9b': 6, '60b36990': 13, '60cbd211': 24, '60e52d56': 13, '6145e3ae': 26, '61567e8b': 13, '638eb97e': 48, '64833c1f': 13, '6530a238': 33, '6547bcba': 14, '66284ea2': 42, '66677590': 13, '67d49050': 27, '68311c41': 114, '68425ae4': 19, '68f96516': 22, '692f924e': 14, '697fed03': 27, '69eb77f2': 23, '6af85b32': 33, '6c5696de': 13, '6dff1c84': 105, '6e41535e': 13, '6f3d3fce': 12, '6f94eebe': 18, '7021316a': 73, '70a0edd1': 13, '70bfecb1': 22, '70c26ece': 319, '71397201': 31, '720955f3': 20, '733f1731': 13, '73415789': 58, '73b3203d': 77, '741e7d4a': 18, '7465367d': 29, '7508fd61': 20, '75a2af63': 14, '761fcc1e': 47, '764f7047': 23, '76600e3f': 63, '76a67630': 28, '781f2cb5': 13, '7830269d': 58, '792df819': 259, '7a6e56eb': 13, '7b76c02f': 52, '7c3794d5': 13, '7c4648b9': 101, '7c8d94d6': 60, '7f16aeab': 13, '7f4d8743': 30, '7f734ba7': 35, '80b76dc1': 35, '80cc8d1b': 83, '81400607': 13, '81758a5d': 13, '81ece612': 496, '827bc52e': 13, '82ebc2dd': 13, '8339c92a': 73, '83a916cd': 17, '84293966': 33, '84893de1': 1, '84daaf7c': 73, '85e04ca4': 8, '86fd0043': 99, '875a176c': 13, '8767d052': 135, '87bc979c': 24, '87dd8b2e': 159, '88c42841': 13, '8a91486b': 324, '8ba80700': 34, '8bbcb1a0': 27, '8d8a6a0f': 36, '8e205b36': 29, '8e65ab12': 29, '91767bcd': 8, '91fb2407': 21, '91fe9420': 14, '9214b8e6': 4, '9364caed': 13, '938f7d75': 14, '95c4f6b8': 59, '96504106': 35, '9675ef02': 67, '96a73844': 39, '96fbafab': 75, '9718a0ea': 47, '9759153f': 14, '982dc667': 13, '983e2396': 24, '99f86a8f': 16, '9a03cea6': 32, '9a4a3e42': 62, '9d9741b4': 35, '9e28d50b': 66, '9ec54e71': 23, 'a08773e9': 47, 'a1136423': 13, 'a19b2ac5': 33, 'a2b43535': 9, 'a32ee9e0': 27, 'a3a20752': 13, 'a3d520ba': 47, 'a3d6f092': 13, 'a4a11255': 13, 'a52f963a': 27, 'a670e30d': 79, 'a7d093ce': 49, 'a801b574': 28, 'a82fc331': 32, 'a98513e1': 101, 'aa130fcb': 41, 'ac696906': 18, 'ad5782cc': 13, 'ad634451': 31, 'ae39e448': 13, 'af101a86': 13, 'b13b307a': 17, 'b1722e6e': 55, 'b20783c2': 43, 'b294630c': 39, 'b3d59839': 8, 'b41a720d': 162, 'b43301d5': 13, 'b4387f22': 37, 'b6724cd0': 22, 'b673380a': 13, 'b688c1a1': 13, 'b70207f6': 36, 'b8a11df5': 16, 'b9276e4b': 32, 'b9ad0c6a': 56, 'ba8d7c6d': 13, 'badff242': 23, 'bb41e272': 13, 'bb8b17cb': 13, 'bd574fe0': 36, 'bedc5c28': 13, 'bf6f0956': 32, 'bf7aae10': 4, 'c0f0e87a': 23, 'c148f52c': 134, 'c1bea219': 178, 'c25097ef': 6, 'c28c3b5d': 161, 'c47954c7': 18, 'c48c227c': 14, 'c5e0c974': 27, 'c7807b31': 23, 'c8706bb9': 16, 'c936ca6b': 53, 'c958c1bb': 13, 'c96d122f': 90, 'c9883091': 242, 'c9dafa61': 32, 'c9ef05bb': 40, 'cb004daf': 14, 'cb7de5f3': 13, 'ccb3985c': 22, 'cfc511cb': 135, 'cfe4dde3': 33, 'd0d666f6': 21, 'd349d9c1': 43, 'd3522cdb': 14, 'd396d0ba': 357, 'd4132dce': 97, 'd44ecf7a': 22, 'd45dd417': 21, 'd50b255e': 62, 'd6c34b14': 17, 'd7d05dc1': 14, 'd8d111cd': 17, 'd97aefab': 17, 'da2ec153': 42, 'dac901a3': 23, 'db2786e8': 43, 'dc61d0e2': 13, 'df254538': 53, 'df3f05a0': 13, 'e0cfdaa5': 10, 'e270732d': 338, 'e36ac6f2': 26, 'e394e81a': 32, 'e3efda8c': 13, 'e425a2dd': 13, 'e44956e4': 34, 'e4dbe3a3': 135, 'e71736a4': 293, 'e96aad87': 30, 'ea83ef91': 22, 'ebb9e98f': 23, 'ecb0e972': 26, 'ef069d31': 21, 'ef4a6b04': 14, 'f011e1ed': 87, 'f0a1495d': 21, 'f0c4a676': 354, 'f148359b': 153, 'f1c782c9': 41, 'f23c0c99': 13, 'f26e52df': 105, 'f364ca54': 39, 'f3b855c8': 13, 'f4e4521c': 44, 'f5a9d9d9': 27, 'f800eb86': 31, 'f8d14758': 18, 'f925b005': 23, 'fa2a3dba': 18, 'fac43423': 13, 'fb5fdd03': 30, 'fe882888': 13, 'fea8d9f0': 13, 'feea3867': 32, 'ff7f13b3': 44, 'ffc3d18a': 8}, 1: {}, 2: {}, 3: {}, 4: {'00ee8964': 7, '010c48db': 5, '015eb098': 5, '019f5beb': 23, '020b50b0': 19, '03436da5': 5, '038bb02c': 3, '04112e43': 3, '04828ea6': 5, '050daac5': 3, '05ffd974': 43, '0744ee79': 5, '0793a340': 3, '097bbc43': 54, '0983d839': 7, '09e397f8': 20, '0b1a45e0': 3, '0ba6590b': 11, '0e611aba': 5, '1017897f': 59, '105e43d9': 5, '106ac8f0': 66, '10f2b453': 12, '111b2434': 5, '11545bca': 9, '126334a5': 5, '12c460b7': 12, '12cf1bca': 15, '13541e66': 55, '1377878b': 14, '138278a7': 0, '13becd5f': 3, '148ed136': 5, '15b0e7a5': 3, '17f9fecb': 3, '1814bccd': 4, '189067f1': 8, '196c247b': 3, '1a30c679': 5, '1c939a8e': 10, '1c96fbe0': 2, '1ccd89f6': 12, '1d34848b': 19, '1d4d730b': 7, '1e6e2355': 7, '1f15ae34': 3, '1f782edd': 3, '1f9d7d64': 11, '227e7261': 11, '230872dd': 58, '2410d366': 5, '2423482a': 3, '25b50b2a': 28, '26fa73fc': 3, '27c511b5': 5, '2a71fdad': 3, '2ab442df': 31, '2af749f6': 3, '2b6aadc0': 8, '2b950121': 7, '2cd380af': 5, '2d54eaba': 64, '2d82f35e': 3, '2daf6632': 21, '2deeace4': 5, '2ea93642': 18, '2f479fa5': 22, '2f821a2e': 49, '3038bf57': 6, '3197925f': 4, '327dfe80': 5, '337f1013': 5, '3448c6a4': 7, '346ae478': 5, '34ece327': 18, '3538c106': 7, '359fe15b': 10, '35d1f0a1': 3, '35d760ee': 10, '39a1af6c': 6, '3ad61aa5': 3, '3b2c5740': 10, '3bd76e22': 3, '3c88aa42': 3, '3d4b5fb5': 9, '3ed84832': 3, '40d671c4': 9, '4259488b': 14, '4385ba0d': 3, '43951deb': 5, '43a7945a': 3, '43baa09a': 3, '43bcacd0': 25, '44c369a4': 7, '45ae7390': 16, '4647e48b': 15, '468a73f3': 288, '47afad28': 3, '47f7977c': 9, '4869283c': 13, '4912dda2': 73, '493893d4': 7, '49533a36': 8, '499d4776': 86, '499ff4b3': 7, '4a9ec1ae': 5, '4c2860cd': 68, '4dc673f8': 3, '4e64ddf6': 3, '50b96f4c': 5, '513888ed': 3, '51b0a89a': 5, '5280d290': 3, '52c5bfab': 3, '53589d5b': 5, '5419a2bf': 5, '556dd7f3': 9, '559424ed': 7, '57cb1756': 3, '58180eaf': 10, '58499bdc': 5, '593d4b92': 12, '59adc3aa': 5, '5a3bdc6c': 5, '5be424a4': 3, '5c02c0bc': 9, '5d147e07': 21, '5e3b367f': 28, '5fdf9844': 5, '6036f4f1': 3, '60450f9b': 5, '60b36990': 3, '60cbd211': 8, '60e52d56': 3, '6145e3ae': 6, '61567e8b': 3, '638eb97e': 11, '64833c1f': 3, '6530a238': 5, '6547bcba': 5, '66284ea2': 12, '66677590': 3, '67d49050': 7, '68311c41': 32, '68425ae4': 5, '68f96516': 3, '692f924e': 5, '697fed03': 7, '69eb77f2': 7, '6af85b32': 3, '6c5696de': 2, '6dff1c84': 22, '6e41535e': 3, '6f3d3fce': 0, '6f94eebe': 3, '7021316a': 17, '70a0edd1': 3, '70bfecb1': 3, '70c26ece': 89, '71397201': 8, '720955f3': 5, '733f1731': 3, '73415789': 10, '73b3203d': 17, '741e7d4a': 5, '7465367d': 7, '7508fd61': 7, '75a2af63': 5, '761fcc1e': 11, '764f7047': 12, '76600e3f': 14, '76a67630': 5, '781f2cb5': 3, '7830269d': 14, '792df819': 49, '7a6e56eb': 3, '7b76c02f': 8, '7c3794d5': 3, '7c4648b9': 26, '7c8d94d6': 18, '7f16aeab': 3, '7f4d8743': 7, '7f734ba7': 5, '80b76dc1': 5, '80cc8d1b': 22, '81400607': 3, '81758a5d': 2, '81ece612': 141, '827bc52e': 2, '82ebc2dd': 3, '8339c92a': 13, '83a916cd': 3, '84293966': 7, '84893de1': 3, '84daaf7c': 11, '85e04ca4': 3, '86fd0043': 27, '875a176c': 3, '8767d052': 37, '87bc979c': 7, '87dd8b2e': 21, '88c42841': 3, '8a91486b': 58, '8ba80700': 8, '8bbcb1a0': 7, '8d8a6a0f': 7, '8e205b36': 5, '8e65ab12': 5, '91767bcd': 3, '91fb2407': 3, '91fe9420': 5, '9214b8e6': 3, '9364caed': 3, '938f7d75': 5, '95c4f6b8': 14, '96504106': 3, '9675ef02': 17, '96a73844': 8, '96fbafab': 20, '9718a0ea': 15, '9759153f': 5, '982dc667': 3, '983e2396': 9, '99f86a8f': 3, '9a03cea6': 12, '9a4a3e42': 15, '9d9741b4': 8, '9e28d50b': 18, '9ec54e71': 5, 'a08773e9': 11, 'a1136423': 3, 'a19b2ac5': 16, 'a2b43535': 0, 'a32ee9e0': 7, 'a3a20752': 3, 'a3d520ba': 9, 'a3d6f092': 3, 'a4a11255': 3, 'a52f963a': 7, 'a670e30d': 14, 'a7d093ce': 15, 'a801b574': 7, 'a82fc331': 8, 'a98513e1': 29, 'aa130fcb': 12, 'ac696906': 3, 'ad5782cc': 3, 'ad634451': 5, 'ae39e448': 3, 'af101a86': 3, 'b13b307a': 3, 'b1722e6e': 17, 'b20783c2': 7, 'b294630c': 7, 'b3d59839': 3, 'b41a720d': 49, 'b43301d5': 3, 'b4387f22': 7, 'b6724cd0': 3, 'b673380a': 3, 'b688c1a1': 3, 'b70207f6': 11, 'b8a11df5': 3, 'b9276e4b': 7, 'b9ad0c6a': 14, 'ba8d7c6d': 3, 'badff242': 7, 'bb41e272': 2, 'bb8b17cb': 3, 'bd574fe0': 7, 'bedc5c28': 3, 'bf6f0956': 7, 'bf7aae10': 3, 'c0f0e87a': 5, 'c148f52c': 36, 'c1bea219': 33, 'c25097ef': 3, 'c28c3b5d': 33, 'c47954c7': 5, 'c48c227c': 5, 'c5e0c974': 7, 'c7807b31': 7, 'c8706bb9': 3, 'c936ca6b': 10, 'c958c1bb': 3, 'c96d122f': 11, 'c9883091': 25, 'c9dafa61': 9, 'c9ef05bb': 11, 'cb004daf': 5, 'cb7de5f3': 3, 'ccb3985c': 3, 'cfc511cb': 39, 'cfe4dde3': 11, 'd0d666f6': 4, 'd349d9c1': 16, 'd3522cdb': 5, 'd396d0ba': 54, 'd4132dce': 27, 'd44ecf7a': 5, 'd45dd417': 3, 'd50b255e': 14, 'd6c34b14': 5, 'd7d05dc1': 5, 'd8d111cd': 3, 'd97aefab': 3, 'da2ec153': 14, 'dac901a3': 7, 'db2786e8': 8, 'dc61d0e2': 3, 'df254538': 9, 'df3f05a0': 3, 'e0cfdaa5': 5, 'e270732d': 63, 'e36ac6f2': 4, 'e394e81a': 9, 'e3efda8c': 3, 'e425a2dd': 3, 'e44956e4': 9, 'e4dbe3a3': 30, 'e71736a4': 38, 'e96aad87': 5, 'ea83ef91': 6, 'ebb9e98f': 5, 'ecb0e972': 5, 'ef069d31': 5, 'ef4a6b04': 5, 'f011e1ed': 10, 'f0a1495d': 3, 'f0c4a676': 99, 'f148359b': 33, 'f1c782c9': 6, 'f23c0c99': 3, 'f26e52df': 28, 'f364ca54': 10, 'f3b855c8': 3, 'f4e4521c': 8, 'f5a9d9d9': 6, 'f800eb86': 9, 'f8d14758': 3, 'f925b005': 5, 'fa2a3dba': 7, 'fac43423': 3, 'fb5fdd03': 6, 'fe882888': 3, 'fea8d9f0': 3, 'feea3867': 10, 'ff7f13b3': 4, 'ffc3d18a': 3}, 5: {}}\n"
     ]
    }
   ],
   "source": [
    "def getSchedule():\n",
    "    schedule = {}\n",
    "    for i in range(len(cost_matrix)):\n",
    "        for j in range(len(cost_matrix[i])):\n",
    "            cell = cost_matrix[i][j]\n",
    "            if(type(cell)==CostMatrixCell):\n",
    "\n",
    "                if(cell.order_date not in schedule.keys()):\n",
    "                    schedule[cell.order_date] = {}\n",
    "\n",
    "                for item in cell.orders.keys():\n",
    "                    if(item not in schedule[cell.order_date].keys()):\n",
    "                        schedule[cell.order_date][item] = 0\n",
    "                    schedule[cell.order_date][item] += cell.orders[item]\n",
    "\n",
    "                for extra_date in cell.extra_orders.keys():\n",
    "                    if(extra_date not in schedule.keys()):\n",
    "                        schedule[extra_date] = {}\n",
    "                    \n",
    "                    for extra_item in cell.extra_orders[extra_date].keys():\n",
    "                        if(extra_item not in schedule[extra_date].keys()):\n",
    "                            schedule[extra_date][extra_item] = 0\n",
    "                        schedule[extra_date][extra_item] += cell.extra_orders[extra_date][extra_item]\n",
    "\n",
    "    return schedule\n",
    "\n",
    "print(getSchedule())"
   ]
  }
 ],
 "metadata": {
  "kernelspec": {
   "display_name": "virtualEnv",
   "language": "python",
   "name": "python3"
  },
  "language_info": {
   "codemirror_mode": {
    "name": "ipython",
    "version": 3
   },
   "file_extension": ".py",
   "mimetype": "text/x-python",
   "name": "python",
   "nbconvert_exporter": "python",
   "pygments_lexer": "ipython3",
   "version": "3.10.2"
  },
  "orig_nbformat": 4
 },
 "nbformat": 4,
 "nbformat_minor": 2
}
