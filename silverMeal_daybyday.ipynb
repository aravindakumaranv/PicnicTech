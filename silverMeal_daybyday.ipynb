{
 "cells": [
  {
   "cell_type": "code",
   "execution_count": 112,
   "metadata": {},
   "outputs": [],
   "source": [
    "import pandas as pd\n",
    "import gurobipy as gp\n",
    "import math\n",
    "import pickle as pkl\n",
    "from datetime import datetime, timedelta"
   ]
  },
  {
   "cell_type": "code",
   "execution_count": 113,
   "metadata": {},
   "outputs": [],
   "source": [
    "product_type = \"frozen\"\n",
    "num_time_periods = 365"
   ]
  },
  {
   "cell_type": "code",
   "execution_count": 114,
   "metadata": {},
   "outputs": [],
   "source": [
    "article_data = pd.read_csv(\"./data/article.csv\")\n",
    "article_data = article_data[(article_data['TEMPERATURE_ZONE'] == product_type)]"
   ]
  },
  {
   "cell_type": "code",
   "execution_count": 115,
   "metadata": {},
   "outputs": [],
   "source": [
    "# constants definitions\n",
    "if(product_type==\"frozen\"):\n",
    "    warehouse_volume = 50\n",
    "if(product_type==\"chilled\"):\n",
    "    warehouse_volume = 300\n",
    "if(product_type==\"ambient\"):\n",
    "    warehouse_volume = 900\n",
    "buffer_cost = 25\n",
    "default_max_order = 10000"
   ]
  },
  {
   "cell_type": "code",
   "execution_count": 116,
   "metadata": {},
   "outputs": [],
   "source": [
    "def createParameterMatrix(data, columns):\n",
    "    parameters = []\n",
    "    for column in columns:\n",
    "        parameters.append(data[column].to_list())\n",
    "    parameters = list(map(list, zip(*parameters)))\n",
    "    return parameters"
   ]
  },
  {
   "cell_type": "code",
   "execution_count": 117,
   "metadata": {},
   "outputs": [],
   "source": [
    "articles = article_data['ARTICLE_ID'].to_list()\n",
    "\n",
    "parameters = createParameterMatrix(\n",
    "    article_data,\n",
    "    [\n",
    "        'TEMPERATURE_ZONE',\n",
    "        'VOLUME_M3_PER_CU',\n",
    "        'MEAN_SHELF_LIFE',\n",
    "        'CU_PER_TU',\n",
    "        'ORDERING_COST_FIXED',\n",
    "        'ORDERING_COST_PER_TU',\n",
    "        'CLEARING_COST_PER_CU',\n",
    "        'MINIMUM_ORDER_QUANTITY_TU',\n",
    "        'MAXIMUM_ORDER_QUANTITY_TU'\n",
    "    ]\n",
    ")\n",
    "parameters_dict = dict(zip(articles, parameters))"
   ]
  },
  {
   "cell_type": "code",
   "execution_count": 118,
   "metadata": {},
   "outputs": [],
   "source": [
    "items, category, volume_per_cu, shelf_life, cu_per_tu, ordering_cost_fixed, ordering_cost_per_tu, clearing_cost_per_cu, minimum_order_quantity_tu, maximum_order_quantity_tu = gp.multidict(parameters_dict)"
   ]
  },
  {
   "cell_type": "code",
   "execution_count": 119,
   "metadata": {},
   "outputs": [],
   "source": [
    "forecast_data = pd.read_csv('./data/sales_'+str(num_time_periods)+'.csv')\n",
    "forecast_data = forecast_data[forecast_data['ARTICLE_ID'].isin(articles)]"
   ]
  },
  {
   "cell_type": "code",
   "execution_count": 120,
   "metadata": {},
   "outputs": [],
   "source": [
    "# Create a new dataframe with all dates\n",
    "all_dates_df = pd.DataFrame({'DATE': pd.date_range(start=min(forecast_data['DATE']), end=max(forecast_data['DATE']), freq='D')}).astype(str)\n",
    "# Group the original dataframe by item\n",
    "grouped = forecast_data.groupby('ARTICLE_ID')\n",
    "\n",
    "# Initialize an empty list to store the new dataframes\n",
    "new_dfs = []\n",
    "\n",
    "# Loop over each group\n",
    "for item, group_df in grouped:\n",
    "    \n",
    "    group_df['DATE'] = pd.to_datetime(group_df['DATE']).astype(str)\n",
    "\n",
    "    # Merge the group dataframe with the all_dates dataframe\n",
    "    merged_df = pd.merge(all_dates_df, group_df, on='DATE', how='outer')\n",
    "    merged_df['ARTICLE_ID'] = item\n",
    "    \n",
    "    # Fill in missing values\n",
    "    merged_df['PICKING_QUANTITY_CU'] = merged_df['PICKING_QUANTITY_CU'].fillna(0)\n",
    "    \n",
    "    # Sort by date and append to the list\n",
    "    new_dfs.append(merged_df.sort_values('DATE'))\n",
    "    \n",
    "# Concatenate all new dataframes into a single dataframe\n",
    "forecast_data = pd.concat(new_dfs)\n",
    "time_periods = forecast_data['DATE'].unique()\n",
    "\n",
    "time_indexes = [*range(len(time_periods))]\n",
    "date_to_index = {time_periods[i]:[*range(len(time_periods))][i] for i in time_indexes}\n",
    "index_to_date = {[*range(len(time_periods))][i]:time_periods[i] for i in time_indexes}"
   ]
  },
  {
   "attachments": {},
   "cell_type": "markdown",
   "metadata": {},
   "source": [
    "#### Heuristic"
   ]
  },
  {
   "cell_type": "code",
   "execution_count": 121,
   "metadata": {},
   "outputs": [],
   "source": [
    "demand = forecast_data.groupby('DATE').apply(lambda x: dict(zip(x['ARTICLE_ID'], x['PICKING_QUANTITY_CU']))).to_dict()\n",
    "demand = dict((date_to_index[key],value) for (key,value) in demand.items())"
   ]
  },
  {
   "cell_type": "code",
   "execution_count": 122,
   "metadata": {},
   "outputs": [],
   "source": [
    "class CostMatrixCell:\n",
    "    def __init__(self) -> None:\n",
    "        self.orders = {}\n",
    "        self.order_date = None\n",
    "        self.period_end = None\n",
    "        self.cost = 0\n",
    "        self.avg_cost = 0\n",
    "        self.extra_orders = {}\n",
    "        self.clearance_cost = 0\n",
    "\n",
    "class Order:\n",
    "    def __init__(self) -> None:\n",
    "        self.item = None\n",
    "        self.quantity_tu = None\n",
    "        self.date = None"
   ]
  },
  {
   "cell_type": "code",
   "execution_count": 124,
   "metadata": {},
   "outputs": [
    {
     "data": {
      "text/plain": [
       "8234.999999999998"
      ]
     },
     "execution_count": 124,
     "metadata": {},
     "output_type": "execute_result"
    }
   ],
   "source": [
    "n = len(demand.keys())\n",
    "cost_matrix = [[CostMatrixCell() for __ in range(n)] for _ in range(n)]\n",
    "for i in range(n):\n",
    "    for j in range(n):\n",
    "        if(i>j):\n",
    "            cost_matrix[i][j] = None\n",
    "        else:\n",
    "            cost_matrix[i][j].order_date = i\n",
    "            cost_matrix[i][j].period_end = j\n",
    "\n",
    "def getOrders(cell):\n",
    "    clearance_cost = 0\n",
    "    for t in range(cell.order_date, cell.period_end + 1):\n",
    "        for item in demand[t].keys():\n",
    "            if(item not in cell.orders.keys()):\n",
    "                cell.orders[item] = 0\n",
    "            if(cell.order_date + shelf_life[item] < t):\n",
    "                # item cannot be ordered on order_date because it would go bad by t\n",
    "                if(t not in cell.extra_orders.keys()):\n",
    "                    cell.extra_orders[t] = {}\n",
    "                cell.extra_orders[t][item] = math.ceil(demand[t][item] / cu_per_tu[item])\n",
    "                clearance_cost += ((math.ceil(demand[t][item] / cu_per_tu[item]) * cu_per_tu[item]) - demand[t][item]) * clearing_cost_per_cu[item]\n",
    "            else:   \n",
    "                cell.orders[item] += math.ceil(demand[t][item] / cu_per_tu[item])\n",
    "    cell.clearance_cost = clearance_cost\n",
    "\n",
    "def fetchExtraVolume(cell, t):\n",
    "    extra_volume = 0\n",
    "    if(t in cell.extra_orders.keys()):\n",
    "        for item in cell.extra_orders[t].keys():\n",
    "            extra_volume += cell.extra_orders[t][item] * cu_per_tu[item] * volume_per_cu[item] \n",
    "    return extra_volume\n",
    "            \n",
    "def getCost(cell):\n",
    "    getOrders(cell)\n",
    "    cost = cell.clearance_cost\n",
    "    volume = 0\n",
    "    for item in cell.orders.keys():\n",
    "        life = shelf_life[item]\n",
    "        cost += (ordering_cost_per_tu[item] * cell.orders[item]) + ordering_cost_fixed[item]\n",
    "        volume += cell.orders[item] * cu_per_tu[item] * volume_per_cu[item]\n",
    "    buffer_cost = 0\n",
    "    for t in range(cell.order_date,cell.period_end+1):\n",
    "        if(volume > warehouse_volume):\n",
    "            # CHECK\n",
    "            cost += (volume + fetchExtraVolume(cell, t) - warehouse_volume) * buffer_cost\n",
    "            demand_volume = 0\n",
    "            for item in demand[t].keys():\n",
    "                demand_volume += volume_per_cu[item] * demand[t][item]\n",
    "            volume -= demand_volume\n",
    "            # CHECK\n",
    "            volume += fetchExtraVolume(cell, t)\n",
    "        else:\n",
    "            break\n",
    "    \n",
    "    cell.cost = cost\n",
    "    cell.avg_cost = cost / (cell.period_end - cell.order_date + 1) \n",
    "\n",
    "order_date = 0\n",
    "end_reached = False\n",
    "obj_val = 0\n",
    "while(True):\n",
    "    min_cost = float('inf')\n",
    "    for t in range(order_date,n):\n",
    "        getCost(cost_matrix[order_date][t])\n",
    "        if(cost_matrix[order_date][t].avg_cost < min_cost):\n",
    "            min_cost = cost_matrix[order_date][t].avg_cost\n",
    "            if(t==n-1):\n",
    "                end_reached = True\n",
    "                break\n",
    "        else:\n",
    "            order_date = t\n",
    "            break\n",
    "    obj_val += cost_matrix[order_date][t].cost\n",
    "    if(order_date >= n or end_reached):\n",
    "        break\n",
    "\n",
    "obj_val"
   ]
  },
  {
   "cell_type": "code",
   "execution_count": 18,
   "metadata": {},
   "outputs": [
    {
     "name": "stdout",
     "output_type": "stream",
     "text": [
      "{0: {'00ee8964': 27, '010c48db': 24, '015eb098': 20, '019f5beb': 114, '020b50b0': 113, '03436da5': 26, '038bb02c': 18, '04112e43': 23, '04828ea6': 31, '050daac5': 18, '05ffd974': 301, '0744ee79': 20, '0793a340': 29, '097bbc43': 334, '0983d839': 43, '09e397f8': 157, '0b1a45e0': 18, '0ba6590b': 60, '0e611aba': 20, '1017897f': 612, '105e43d9': 32, '106ac8f0': 561, '10f2b453': 83, '111b2434': 20, '11545bca': 65, '126334a5': 39, '12c460b7': 55, '12cf1bca': 76, '13541e66': 303, '1377878b': 69, '138278a7': 11, '13becd5f': 29, '148ed136': 28, '15b0e7a5': 22, '17f9fecb': 24, '1814bccd': 15, '189067f1': 75, '196c247b': 75, '1a30c679': 35, '1c939a8e': 45, '1c96fbe0': 17, '1ccd89f6': 57, '1d34848b': 93, '1d4d730b': 34, '1e6e2355': 54, '1f15ae34': 18, '1f782edd': 18, '1f9d7d64': 69, '227e7261': 56, '230872dd': 389, '2410d366': 24, '2423482a': 18, '25b50b2a': 91, '26fa73fc': 27, '27c511b5': 24, '2a71fdad': 18, '2ab442df': 218, '2af749f6': 18, '2b6aadc0': 43, '2b950121': 42, '2cd380af': 29, '2d54eaba': 613, '2d82f35e': 18, '2daf6632': 130, '2deeace4': 20, '2ea93642': 132, '2f479fa5': 60, '2f821a2e': 198, '3038bf57': 46, '3197925f': 19, '327dfe80': 26, '337f1013': 29, '3448c6a4': 22, '346ae478': 30, '34ece327': 78, '3538c106': 48, '359fe15b': 51, '35d1f0a1': 18, '35d760ee': 36, '39a1af6c': 25, '3ad61aa5': 18, '3b2c5740': 56, '3bd76e22': 18, '3c88aa42': 18, '3d4b5fb5': 33, '3ed84832': 22, '40d671c4': 56, '4259488b': 47, '4385ba0d': 18, '43951deb': 40, '43a7945a': 18, '43baa09a': 23, '43bcacd0': 117, '44c369a4': 22, '45ae7390': 107, '4647e48b': 82, '468a73f3': 1234, '47afad28': 22, '47f7977c': 52, '4869283c': 47, '4912dda2': 513, '493893d4': 37, '49533a36': 42, '499d4776': 641, '499ff4b3': 42, '4a9ec1ae': 29, '4c2860cd': 401, '4dc673f8': 18, '4e64ddf6': 18, '50b96f4c': 35, '513888ed': 18, '51b0a89a': 30, '5280d290': 18, '52c5bfab': 18, '53589d5b': 20, '5419a2bf': 24, '556dd7f3': 59, '559424ed': 46, '57cb1756': 18, '58180eaf': 44, '58499bdc': 44, '593d4b92': 69, '59adc3aa': 20, '5a3bdc6c': 30, '5be424a4': 18, '5c02c0bc': 56, '5d147e07': 130, '5e3b367f': 81, '5fdf9844': 20, '6036f4f1': 29, '60450f9b': 10, '60b36990': 18, '60cbd211': 34, '60e52d56': 18, '6145e3ae': 36, '61567e8b': 18, '638eb97e': 66, '64833c1f': 18, '6530a238': 43, '6547bcba': 20, '66284ea2': 58, '66677590': 18, '67d49050': 37, '68311c41': 157, '68425ae4': 26, '68f96516': 29, '692f924e': 20, '697fed03': 37, '69eb77f2': 32, '6af85b32': 43, '6c5696de': 17, '6dff1c84': 141, '6e41535e': 18, '6f3d3fce': 15, '6f94eebe': 24, '7021316a': 99, '70a0edd1': 18, '70bfecb1': 29, '70c26ece': 442, '71397201': 43, '720955f3': 28, '733f1731': 18, '73415789': 77, '73b3203d': 104, '741e7d4a': 25, '7465367d': 39, '7508fd61': 28, '75a2af63': 20, '761fcc1e': 64, '764f7047': 35, '76600e3f': 84, '76a67630': 37, '781f2cb5': 18, '7830269d': 79, '792df819': 354, '7a6e56eb': 18, '7b76c02f': 69, '7c3794d5': 18, '7c4648b9': 139, '7c8d94d6': 83, '7f16aeab': 18, '7f4d8743': 42, '7f734ba7': 46, '80b76dc1': 46, '80cc8d1b': 113, '81400607': 18, '81758a5d': 17, '81ece612': 685, '827bc52e': 17, '82ebc2dd': 18, '8339c92a': 100, '83a916cd': 23, '84293966': 44, '84893de1': 3, '84daaf7c': 96, '85e04ca4': 12, '86fd0043': 139, '875a176c': 18, '8767d052': 185, '87bc979c': 33, '87dd8b2e': 210, '88c42841': 18, '8a91486b': 435, '8ba80700': 47, '8bbcb1a0': 37, '8d8a6a0f': 48, '8e205b36': 39, '8e65ab12': 39, '91767bcd': 12, '91fb2407': 28, '91fe9420': 20, '9214b8e6': 7, '9364caed': 18, '938f7d75': 20, '95c4f6b8': 80, '96504106': 45, '9675ef02': 91, '96a73844': 53, '96fbafab': 104, '9718a0ea': 66, '9759153f': 20, '982dc667': 18, '983e2396': 34, '99f86a8f': 22, '9a03cea6': 46, '9a4a3e42': 85, '9d9741b4': 48, '9e28d50b': 92, '9ec54e71': 31, 'a08773e9': 63, 'a1136423': 18, 'a19b2ac5': 49, 'a2b43535': 11, 'a32ee9e0': 37, 'a3a20752': 18, 'a3d520ba': 63, 'a3d6f092': 18, 'a4a11255': 18, 'a52f963a': 37, 'a670e30d': 105, 'a7d093ce': 69, 'a801b574': 38, 'a82fc331': 44, 'a98513e1': 143, 'aa130fcb': 57, 'ac696906': 24, 'ad5782cc': 18, 'ad634451': 41, 'ae39e448': 18, 'af101a86': 18, 'b13b307a': 23, 'b1722e6e': 77, 'b20783c2': 57, 'b294630c': 52, 'b3d59839': 12, 'b41a720d': 225, 'b43301d5': 18, 'b4387f22': 49, 'b6724cd0': 29, 'b673380a': 18, 'b688c1a1': 18, 'b70207f6': 50, 'b8a11df5': 22, 'b9276e4b': 43, 'b9ad0c6a': 78, 'ba8d7c6d': 18, 'badff242': 32, 'bb41e272': 17, 'bb8b17cb': 18, 'bd574fe0': 48, 'bedc5c28': 18, 'bf6f0956': 43, 'bf7aae10': 7, 'c0f0e87a': 31, 'c148f52c': 186, 'c1bea219': 239, 'c25097ef': 9, 'c28c3b5d': 216, 'c47954c7': 25, 'c48c227c': 20, 'c5e0c974': 37, 'c7807b31': 32, 'c8706bb9': 22, 'c936ca6b': 71, 'c958c1bb': 18, 'c96d122f': 119, 'c9883091': 317, 'c9dafa61': 44, 'c9ef05bb': 54, 'cb004daf': 20, 'cb7de5f3': 18, 'ccb3985c': 29, 'cfc511cb': 188, 'cfe4dde3': 46, 'd0d666f6': 29, 'd349d9c1': 61, 'd3522cdb': 20, 'd396d0ba': 470, 'd4132dce': 136, 'd44ecf7a': 30, 'd45dd417': 28, 'd50b255e': 84, 'd6c34b14': 24, 'd7d05dc1': 20, 'd8d111cd': 23, 'd97aefab': 23, 'da2ec153': 59, 'dac901a3': 32, 'db2786e8': 58, 'dc61d0e2': 18, 'df254538': 71, 'df3f05a0': 18, 'e0cfdaa5': 15, 'e270732d': 457, 'e36ac6f2': 34, 'e394e81a': 44, 'e3efda8c': 18, 'e425a2dd': 18, 'e44956e4': 47, 'e4dbe3a3': 183, 'e71736a4': 385, 'e96aad87': 40, 'ea83ef91': 31, 'ebb9e98f': 31, 'ecb0e972': 35, 'ef069d31': 29, 'ef4a6b04': 20, 'f011e1ed': 113, 'f0a1495d': 28, 'f0c4a676': 488, 'f148359b': 206, 'f1c782c9': 56, 'f23c0c99': 18, 'f26e52df': 144, 'f364ca54': 54, 'f3b855c8': 18, 'f4e4521c': 59, 'f5a9d9d9': 37, 'f800eb86': 43, 'f8d14758': 24, 'f925b005': 31, 'fa2a3dba': 26, 'fac43423': 18, 'fb5fdd03': 41, 'fe882888': 18, 'fea8d9f0': 18, 'feea3867': 45, 'ff7f13b3': 56, 'ffc3d18a': 12}, 1: {}, 2: {}, 3: {}, 4: {}, 5: {}}\n"
     ]
    }
   ],
   "source": [
    "def getSchedule():\n",
    "    schedule = {}\n",
    "    for i in range(len(cost_matrix)):\n",
    "        for j in range(len(cost_matrix[i])):\n",
    "            cell = cost_matrix[i][j]\n",
    "            if(type(cell)==CostMatrixCell):\n",
    "                if(cell.order_date not in schedule.keys()):\n",
    "                    schedule[cell.order_date] = {}\n",
    "                for item in cell.orders.keys():\n",
    "                    if(item not in schedule[cell.order_date].keys()):\n",
    "                        schedule[cell.order_date][item] = 0\n",
    "                    schedule[cell.order_date][item] += cell.orders[item]\n",
    "    return schedule\n",
    "\n",
    "    pass\n",
    "\n",
    "print(getSchedule())"
   ]
  }
 ],
 "metadata": {
  "kernelspec": {
   "display_name": "virtualEnv",
   "language": "python",
   "name": "python3"
  },
  "language_info": {
   "codemirror_mode": {
    "name": "ipython",
    "version": 3
   },
   "file_extension": ".py",
   "mimetype": "text/x-python",
   "name": "python",
   "nbconvert_exporter": "python",
   "pygments_lexer": "ipython3",
   "version": "3.10.2"
  },
  "orig_nbformat": 4
 },
 "nbformat": 4,
 "nbformat_minor": 2
}
