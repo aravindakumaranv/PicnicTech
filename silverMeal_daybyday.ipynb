{
 "cells": [
  {
   "cell_type": "code",
   "execution_count": 2,
   "metadata": {},
   "outputs": [],
   "source": [
    "import pandas as pd\n",
    "import gurobipy as gp\n",
    "import math\n",
    "import pickle as pkl\n",
    "from datetime import datetime, timedelta"
   ]
  },
  {
   "cell_type": "code",
   "execution_count": 3,
   "metadata": {},
   "outputs": [],
   "source": [
    "product_type = \"frozen\"\n",
    "num_time_periods = 7\n",
    "\n",
    "test_article = '468a73f3'"
   ]
  },
  {
   "cell_type": "code",
   "execution_count": 4,
   "metadata": {},
   "outputs": [],
   "source": [
    "article_data = pd.read_csv(\"./data/article.csv\")\n",
    "article_data = article_data[(article_data['TEMPERATURE_ZONE'] == product_type)]\n",
    "# article_data = article_data[(article_data['ARTICLE_ID'] == test_article)]"
   ]
  },
  {
   "cell_type": "code",
   "execution_count": 5,
   "metadata": {},
   "outputs": [],
   "source": [
    "# constants definitions\n",
    "if(product_type==\"frozen\"):\n",
    "    warehouse_volume = 50\n",
    "if(product_type==\"chilled\"):\n",
    "    warehouse_volume = 300\n",
    "if(product_type==\"ambient\"):\n",
    "    warehouse_volume = 900\n",
    "buffer_cost = 25\n",
    "default_max_order = 10000"
   ]
  },
  {
   "cell_type": "code",
   "execution_count": 6,
   "metadata": {},
   "outputs": [],
   "source": [
    "def createParameterMatrix(data, columns):\n",
    "    parameters = []\n",
    "    for column in columns:\n",
    "        parameters.append(data[column].to_list())\n",
    "    parameters = list(map(list, zip(*parameters)))\n",
    "    return parameters"
   ]
  },
  {
   "cell_type": "code",
   "execution_count": 7,
   "metadata": {},
   "outputs": [],
   "source": [
    "articles = article_data['ARTICLE_ID'].to_list()\n",
    "\n",
    "parameters = createParameterMatrix(\n",
    "    article_data,\n",
    "    [\n",
    "        'TEMPERATURE_ZONE',\n",
    "        'VOLUME_M3_PER_CU',\n",
    "        'MEAN_SHELF_LIFE',\n",
    "        'CU_PER_TU',\n",
    "        'ORDERING_COST_FIXED',\n",
    "        'ORDERING_COST_PER_TU',\n",
    "        'CLEARING_COST_PER_CU',\n",
    "        'MINIMUM_ORDER_QUANTITY_TU',\n",
    "        'MAXIMUM_ORDER_QUANTITY_TU'\n",
    "    ]\n",
    ")\n",
    "parameters_dict = dict(zip(articles, parameters))"
   ]
  },
  {
   "cell_type": "code",
   "execution_count": 8,
   "metadata": {},
   "outputs": [],
   "source": [
    "items, category, volume_per_cu, shelf_life, cu_per_tu, ordering_cost_fixed, ordering_cost_per_tu, clearing_cost_per_cu, minimum_order_quantity_tu, maximum_order_quantity_tu = gp.multidict(parameters_dict)"
   ]
  },
  {
   "cell_type": "code",
   "execution_count": 9,
   "metadata": {},
   "outputs": [],
   "source": [
    "forecast_data = pd.read_csv('./data/sales_'+str(num_time_periods)+'.csv')\n",
    "forecast_data = forecast_data[forecast_data['ARTICLE_ID'].isin(articles)]"
   ]
  },
  {
   "cell_type": "code",
   "execution_count": 10,
   "metadata": {},
   "outputs": [],
   "source": [
    "# Create a new dataframe with all dates\n",
    "all_dates_df = pd.DataFrame({'DATE': pd.date_range(start='2022-06-13', end='2022-06-18', freq='D')}).astype(str)\n",
    "# Group the original dataframe by item\n",
    "grouped = forecast_data.groupby('ARTICLE_ID')\n",
    "\n",
    "# Initialize an empty list to store the new dataframes\n",
    "new_dfs = []\n",
    "\n",
    "# Loop over each group\n",
    "for item, group_df in grouped:\n",
    "    \n",
    "    group_df['DATE'] = pd.to_datetime(group_df['DATE']).astype(str)\n",
    "\n",
    "    # Merge the group dataframe with the all_dates dataframe\n",
    "    merged_df = pd.merge(all_dates_df, group_df, on='DATE', how='outer')\n",
    "    merged_df['ARTICLE_ID'] = item\n",
    "    \n",
    "    # Fill in missing values\n",
    "    merged_df['PICKING_QUANTITY_CU'] = merged_df['PICKING_QUANTITY_CU'].fillna(0)\n",
    "    \n",
    "    # Sort by date and append to the list\n",
    "    new_dfs.append(merged_df.sort_values('DATE'))\n",
    "    \n",
    "# Concatenate all new dataframes into a single dataframe\n",
    "forecast_data = pd.concat(new_dfs)\n",
    "time_periods = forecast_data['DATE'].unique()\n",
    "\n",
    "time_indexes = [*range(len(time_periods))]\n",
    "date_to_index = {time_periods[i]:[*range(len(time_periods))][i] for i in time_indexes}\n",
    "index_to_date = {[*range(len(time_periods))][i]:time_periods[i] for i in time_indexes}\n",
    "\n",
    "# demand = forecast_data.groupby('DATE').apply(lambda x: dict(zip(x['ARTICLE_ID'], x['PICKING_QUANTITY_CU']))).to_dict()\n",
    "# demand = dict((date_to_index[key],value) for (key,value) in demand.items())\n",
    "\n",
    "# demand = forecast_data.groupby('ARTICLE_ID').apply(lambda x: dict(zip(x['DATE'], x['PICKING_QUANTITY_CU']))).to_dict()\n",
    "# for item in demand.keys():\n",
    "#     demand[item] = dict((date_to_index[key], value) for (key, value) in demand[item].items())"
   ]
  },
  {
   "attachments": {},
   "cell_type": "markdown",
   "metadata": {},
   "source": [
    "#### Heuristic"
   ]
  },
  {
   "cell_type": "code",
   "execution_count": 11,
   "metadata": {},
   "outputs": [],
   "source": [
    "demand = forecast_data.groupby('DATE').apply(lambda x: dict(zip(x['ARTICLE_ID'], x['PICKING_QUANTITY_CU']))).to_dict()\n",
    "demand = dict((date_to_index[key],value) for (key,value) in demand.items())"
   ]
  },
  {
   "attachments": {},
   "cell_type": "markdown",
   "metadata": {},
   "source": [
    "#### Method 1"
   ]
  },
  {
   "cell_type": "code",
   "execution_count": 12,
   "metadata": {},
   "outputs": [],
   "source": [
    "class CostMatrixCell:\n",
    "    def __init__(self) -> None:\n",
    "        self.orders = {}\n",
    "        self.order_date = None\n",
    "        self.period_end = None\n",
    "        self.cost = None\n",
    "        self.avg_cost = None\n",
    "        self.extra_orders = {}\n",
    "        self.clearance_cost = None\n",
    "\n",
    "class Order:\n",
    "    def __init__(self) -> None:\n",
    "        self.item = None\n",
    "        self.quantity_tu = None\n",
    "        self.date = None\n",
    "\n",
    "# class ExtraOrder:\n",
    "#     def __init__(self) -> None:\n",
    "#         self.orders = {}\n",
    "#         self.order_date = None\n",
    "#         self.period_end = None\n"
   ]
  },
  {
   "cell_type": "code",
   "execution_count": 16,
   "metadata": {},
   "outputs": [
    {
     "data": {
      "text/plain": [
       "10310.499999999996"
      ]
     },
     "execution_count": 16,
     "metadata": {},
     "output_type": "execute_result"
    }
   ],
   "source": [
    "n = len(demand.keys())\n",
    "cost_matrix = [[CostMatrixCell() for __ in range(n)] for _ in range(n)]\n",
    "for i in range(n):\n",
    "    for j in range(n):\n",
    "        if(i>j):\n",
    "            cost_matrix[i][j] = None\n",
    "        else:\n",
    "            cost_matrix[i][j].order_date = i\n",
    "            cost_matrix[i][j].period_end = j\n",
    "\n",
    "def getOrders(cell):\n",
    "    clearance_cost = 0\n",
    "    for t in range(cell.order_date, cell.period_end + 1):\n",
    "        for item in demand[t].keys():\n",
    "            if(item not in cell.orders.keys()):\n",
    "                cell.orders[item] = 0\n",
    "            if(cell.order_date + shelf_life[item] < t):\n",
    "                # item cannot be ordered on order_date because it would go bad by t\n",
    "                if(t not in cell.extra_orders.keys()):\n",
    "                    cell.extra_orders[t] = {}\n",
    "                cell.extra_orders[t][item] = math.ceil(demand[t][item] / cu_per_tu[item])\n",
    "                clearance_cost += ((math.ceil(demand[t][item] / cu_per_tu[item]) * cu_per_tu[item]) - demand[t][item]) * clearing_cost_per_cu[item]\n",
    "            else:   \n",
    "                cell.orders[item] += math.ceil(demand[t][item] / cu_per_tu[item])\n",
    "    cell.clearance_cost = clearance_cost\n",
    "\n",
    "def fetchExtraVolume(cell, t):\n",
    "    extra_volume = 0\n",
    "    if(t in cell.extra_orders.keys()):\n",
    "        for item in cell.extra_orders[t].keys():\n",
    "            extra_volume += cell.extra_orders[t][item] * cu_per_tu[item] * volume_per_cu[item] \n",
    "    return extra_volume\n",
    "            \n",
    "def getCost(cell):\n",
    "    getOrders(cell)\n",
    "    cost = cell.clearance_cost\n",
    "    volume = 0\n",
    "    for item in cell.orders.keys():\n",
    "        life = shelf_life[item]\n",
    "        cost += (ordering_cost_per_tu[item] * cell.orders[item]) + ordering_cost_fixed[item]\n",
    "        volume += cell.orders[item] * cu_per_tu[item] * volume_per_cu[item]\n",
    "    buffer_cost = 0\n",
    "    for t in range(cell.order_date,cell.period_end+1):\n",
    "        if(volume > warehouse_volume):\n",
    "            # CHECK\n",
    "            cost += (volume + fetchExtraVolume(cell, t) - warehouse_volume) * buffer_cost\n",
    "            demand_volume = 0\n",
    "            for item in demand[t].keys():\n",
    "                demand_volume += volume_per_cu[item] * demand[t][item]\n",
    "            volume -= demand_volume\n",
    "            # CHECK\n",
    "            volume += fetchExtraVolume(cell, t)\n",
    "        else:\n",
    "            break\n",
    "    \n",
    "    cell.cost = cost\n",
    "    cell.avg_cost = cost / (cell.period_end - cell.order_date + 1) \n",
    "\n",
    "order_date = 0\n",
    "end_reached = False\n",
    "obj_val = 0\n",
    "while(True):\n",
    "    min_cost = float('inf')\n",
    "    for t in range(order_date,n):\n",
    "        getCost(cost_matrix[order_date][t])\n",
    "        if(cost_matrix[order_date][t].avg_cost < min_cost):\n",
    "            min_cost = cost_matrix[order_date][t].avg_cost\n",
    "            if(t==n-1):\n",
    "                end_reached = True\n",
    "                break\n",
    "        else:\n",
    "            order_date = t\n",
    "            break\n",
    "    obj_val += cost_matrix[order_date][t].cost\n",
    "    if(order_date >= n or end_reached):\n",
    "        break\n",
    "\n",
    "obj_val"
   ]
  },
  {
   "cell_type": "code",
   "execution_count": null,
   "metadata": {},
   "outputs": [],
   "source": [
    "# for i in range(n):\n",
    "#     for j in range(n):\n",
    "#         if(type(cost_matrix[i][j])==CostMatrixCell):\n",
    "#             getCost(cost_matrix[i][j])\n",
    "\n",
    "# def getFirstMin(costs,first_index):\n",
    "#     i = first_index\n",
    "#     while(i < len(costs)-1 and costs[i].avg_cost > costs[i+1].avg_cost):\n",
    "#         i = i+1\n",
    "#     return (costs[i], i)\n",
    "\n",
    "# obj_val = 0\n",
    "# first_index = 0\n",
    "# for i in range(n):\n",
    "#     if(getFirstMin(cost_matrix[i], first_index)[1]+1 > n-1):\n",
    "#         obj_val += getFirstMin(cost_matrix[i], first_index)[0].cost\n",
    "#         break\n",
    "#     obj_val += getFirstMin(cost_matrix[i], first_index)[0].cost\n",
    "#     first_index = getFirstMin(cost_matrix[i], first_index)[1]+1"
   ]
  }
 ],
 "metadata": {
  "kernelspec": {
   "display_name": "virtualEnv",
   "language": "python",
   "name": "python3"
  },
  "language_info": {
   "codemirror_mode": {
    "name": "ipython",
    "version": 3
   },
   "file_extension": ".py",
   "mimetype": "text/x-python",
   "name": "python",
   "nbconvert_exporter": "python",
   "pygments_lexer": "ipython3",
   "version": "3.10.2"
  },
  "orig_nbformat": 4
 },
 "nbformat": 4,
 "nbformat_minor": 2
}
