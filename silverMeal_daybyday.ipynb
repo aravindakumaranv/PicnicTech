{
 "cells": [
  {
   "cell_type": "code",
   "execution_count": 61,
   "metadata": {},
   "outputs": [],
   "source": [
    "import pandas as pd\n",
    "import gurobipy as gp\n",
    "import math\n",
    "import pickle as pkl\n",
    "from datetime import datetime, timedelta"
   ]
  },
  {
   "cell_type": "code",
   "execution_count": 62,
   "metadata": {},
   "outputs": [],
   "source": [
    "product_type = \"chilled\"\n",
    "num_time_periods = 365"
   ]
  },
  {
   "cell_type": "code",
   "execution_count": 63,
   "metadata": {},
   "outputs": [],
   "source": [
    "article_data = pd.read_csv(\"./data/article.csv\")\n",
    "article_data = article_data[(article_data['TEMPERATURE_ZONE'] == product_type)]\n",
    "article_data = article_data.head(465)"
   ]
  },
  {
   "cell_type": "code",
   "execution_count": 64,
   "metadata": {},
   "outputs": [],
   "source": [
    "# constants definitions\n",
    "if(product_type==\"frozen\"):\n",
    "    warehouse_volume = 20\n",
    "if(product_type==\"chilled\"):\n",
    "    warehouse_volume = 300\n",
    "if(product_type==\"ambient\"):\n",
    "    warehouse_volume = 900\n",
    "buffer_cost = 25\n",
    "default_max_order = 50\n",
    "max_order_exceed_multiplier = 1.5"
   ]
  },
  {
   "cell_type": "code",
   "execution_count": 65,
   "metadata": {},
   "outputs": [],
   "source": [
    "def createParameterMatrix(data, columns):\n",
    "    parameters = []\n",
    "    for column in columns:\n",
    "        parameters.append(data[column].to_list())\n",
    "    parameters = list(map(list, zip(*parameters)))\n",
    "    return parameters"
   ]
  },
  {
   "cell_type": "code",
   "execution_count": 66,
   "metadata": {},
   "outputs": [],
   "source": [
    "articles = article_data['ARTICLE_ID'].to_list()\n",
    "\n",
    "parameters = createParameterMatrix(\n",
    "    article_data,\n",
    "    [\n",
    "        'TEMPERATURE_ZONE',\n",
    "        'VOLUME_M3_PER_CU',\n",
    "        'MEAN_SHELF_LIFE',\n",
    "        'CU_PER_TU',\n",
    "        'ORDERING_COST_FIXED',\n",
    "        'ORDERING_COST_PER_TU',\n",
    "        'CLEARING_COST_PER_CU',\n",
    "        'MINIMUM_ORDER_QUANTITY_TU',\n",
    "        'MAXIMUM_ORDER_QUANTITY_TU'\n",
    "    ]\n",
    ")\n",
    "parameters_dict = dict(zip(articles, parameters))"
   ]
  },
  {
   "cell_type": "code",
   "execution_count": 67,
   "metadata": {},
   "outputs": [],
   "source": [
    "items, category, volume_per_cu, shelf_life, cu_per_tu, ordering_cost_fixed, ordering_cost_per_tu, clearing_cost_per_cu, minimum_order_quantity_tu, maximum_order_quantity_tu = gp.multidict(parameters_dict)"
   ]
  },
  {
   "cell_type": "code",
   "execution_count": 68,
   "metadata": {},
   "outputs": [],
   "source": [
    "forecast_data = pd.read_csv('./data/sales_'+str(num_time_periods)+'.csv')\n",
    "forecast_data = forecast_data[forecast_data['ARTICLE_ID'].isin(articles)]"
   ]
  },
  {
   "cell_type": "code",
   "execution_count": 69,
   "metadata": {},
   "outputs": [],
   "source": [
    "# Create a new dataframe with all dates\n",
    "all_dates_df = pd.DataFrame({'DATE': pd.date_range(start=min(forecast_data['DATE']), end=max(forecast_data['DATE']), freq='D')}).astype(str)\n",
    "# Group the original dataframe by item\n",
    "grouped = forecast_data.groupby('ARTICLE_ID')\n",
    "\n",
    "# Initialize an empty list to store the new dataframes\n",
    "new_dfs = []\n",
    "\n",
    "# Loop over each group\n",
    "for item, group_df in grouped:\n",
    "    \n",
    "    group_df['DATE'] = pd.to_datetime(group_df['DATE']).astype(str)\n",
    "\n",
    "    # Merge the group dataframe with the all_dates dataframe\n",
    "    merged_df = pd.merge(all_dates_df, group_df, on='DATE', how='outer')\n",
    "    merged_df['ARTICLE_ID'] = item\n",
    "    \n",
    "    # Fill in missing values\n",
    "    merged_df['PICKING_QUANTITY_CU'] = merged_df['PICKING_QUANTITY_CU'].fillna(0)\n",
    "    \n",
    "    # Sort by date and append to the list\n",
    "    new_dfs.append(merged_df.sort_values('DATE'))\n",
    "    \n",
    "# Concatenate all new dataframes into a single dataframe\n",
    "forecast_data = pd.concat(new_dfs)\n",
    "time_periods = forecast_data['DATE'].unique()\n",
    "\n",
    "time_indexes = [*range(len(time_periods))]\n",
    "date_to_index = {time_periods[i]:[*range(len(time_periods))][i] for i in time_indexes}\n",
    "index_to_date = {[*range(len(time_periods))][i]:time_periods[i] for i in time_indexes}"
   ]
  },
  {
   "attachments": {},
   "cell_type": "markdown",
   "metadata": {},
   "source": [
    "#### Heuristic"
   ]
  },
  {
   "cell_type": "code",
   "execution_count": 70,
   "metadata": {},
   "outputs": [],
   "source": [
    "demand = forecast_data.groupby('DATE').apply(lambda x: dict(zip(x['ARTICLE_ID'], x['PICKING_QUANTITY_CU']))).to_dict()\n",
    "demand = dict((date_to_index[key],value) for (key,value) in demand.items())"
   ]
  },
  {
   "cell_type": "code",
   "execution_count": 71,
   "metadata": {},
   "outputs": [],
   "source": [
    "class CostMatrixCell:\n",
    "    def __init__(self) -> None:\n",
    "        self.orders = {}\n",
    "        self.order_date = None\n",
    "        self.period_end = None\n",
    "        self.cost = 0\n",
    "        self.avg_cost = 0\n",
    "        self.extra_orders = {}\n",
    "        self.clearance_cost = 0\n",
    "\n",
    "class Order:\n",
    "    def __init__(self) -> None:\n",
    "        self.item = None\n",
    "        self.quantity_tu = None\n",
    "        self.date = None"
   ]
  },
  {
   "cell_type": "code",
   "execution_count": 72,
   "metadata": {},
   "outputs": [
    {
     "data": {
      "text/plain": [
       "907201.8999999999"
      ]
     },
     "execution_count": 72,
     "metadata": {},
     "output_type": "execute_result"
    }
   ],
   "source": [
    "n = len(demand.keys())\n",
    "cost_matrix = [[CostMatrixCell() for __ in range(n)] for _ in range(n)]\n",
    "for i in range(n):\n",
    "    for j in range(n):\n",
    "        if(i>j):\n",
    "            cost_matrix[i][j] = None\n",
    "        else:\n",
    "            cost_matrix[i][j].order_date = i\n",
    "            cost_matrix[i][j].period_end = j\n",
    "\n",
    "def getOrders(cell):\n",
    "    clearance_cost = 0\n",
    "    for t in range(cell.order_date, cell.period_end + 1):\n",
    "        for item in demand[t].keys():\n",
    "            if(item not in cell.orders.keys()):\n",
    "                cell.orders[item] = 0\n",
    "            if(cell.order_date + shelf_life[item] < t):\n",
    "                # item cannot be ordered on order_date because it would go bad by t\n",
    "                if(t not in cell.extra_orders.keys()):\n",
    "                    cell.extra_orders[t] = {}\n",
    "                cell.extra_orders[t][item] = math.ceil(demand[t][item] / cu_per_tu[item])\n",
    "                clearance_cost += ((math.ceil(demand[t][item] / cu_per_tu[item]) * cu_per_tu[item]) - demand[t][item]) * clearing_cost_per_cu[item]\n",
    "            else:   \n",
    "                cell.orders[item] += demand[t][item]\n",
    "                # cell.orders[item] += math.ceil(demand[t][item] / cu_per_tu[item])\n",
    "    for item in cell.orders.keys():\n",
    "        cell.orders[item] = math.ceil(cell.orders[item]/cu_per_tu[item])\n",
    "    cell.clearance_cost = clearance_cost\n",
    "\n",
    "def fetchExtraVolume(cell, t):\n",
    "    extra_volume = 0\n",
    "    if(t in cell.extra_orders.keys()):\n",
    "        for item in cell.extra_orders[t].keys():\n",
    "            extra_volume += cell.extra_orders[t][item] * cu_per_tu[item] * volume_per_cu[item] \n",
    "    return extra_volume\n",
    "            \n",
    "def getCost(cell):\n",
    "    buff_cost = 0\n",
    "    getOrders(cell)\n",
    "    cost = cell.clearance_cost\n",
    "    volume = 0\n",
    "    for item in cell.orders.keys():\n",
    "        cost += (ordering_cost_per_tu[item] * cell.orders[item]) + ordering_cost_fixed[item]\n",
    "        if(cell.orders[item] > maximum_order_quantity_tu[item]):\n",
    "            cost += max_order_exceed_multiplier * ordering_cost_per_tu[item] * (cell.orders[item] - maximum_order_quantity_tu[item])\n",
    "        for extra_order_date in cell.extra_orders.keys():\n",
    "            for extra_item in cell.extra_orders[extra_order_date].keys():\n",
    "                cost += (ordering_cost_per_tu[extra_item] * cell.extra_orders[extra_order_date][extra_item]) + ordering_cost_fixed[extra_item]\n",
    "                if(cell.extra_orders[extra_order_date][extra_item] > maximum_order_quantity_tu[extra_item]):\n",
    "                    cost += max_order_exceed_multiplier * ordering_cost_per_tu[extra_item] * (cell.extra_orders[extra_order_date][extra_item] - maximum_order_quantity_tu[extra_item])    \n",
    "        volume += cell.orders[item] * cu_per_tu[item] * volume_per_cu[item]\n",
    "    flag = False\n",
    "    for t in range(cell.order_date,cell.period_end+1):\n",
    "        if(volume + fetchExtraVolume(cell, t) > warehouse_volume):\n",
    "            # CHECK\n",
    "            cost += (volume + fetchExtraVolume(cell, t) - warehouse_volume) * buffer_cost\n",
    "            demand_volume = 0\n",
    "            for item in demand[t].keys():\n",
    "                demand_volume += volume_per_cu[item] * demand[t][item]\n",
    "            volume -= demand_volume\n",
    "            # CHECK\n",
    "            volume += fetchExtraVolume(cell, t)\n",
    "        else:\n",
    "            break\n",
    "\n",
    "    cell.cost = cost\n",
    "    cell.avg_cost = cost / (cell.period_end - cell.order_date + 1)\n",
    "    return buff_cost\n",
    "\n",
    "total_buffer_cost = 0\n",
    "order_date = 0\n",
    "end_reached = False\n",
    "obj_val = 0\n",
    "schedule = {}\n",
    "while(True):\n",
    "    if(order_date%7==6):\n",
    "        order_date += 1\n",
    "        continue\n",
    "    min_cost = float('inf')\n",
    "    for t in range(order_date,n):\n",
    "        if(t%7==6):\n",
    "            continue\n",
    "        schedule[order_date] = {}\n",
    "        total_buffer_cost = getCost(cost_matrix[order_date][t])\n",
    "        if(cost_matrix[order_date][t].avg_cost < min_cost):\n",
    "            min_cost = cost_matrix[order_date][t].avg_cost\n",
    "            if(t==n-1):\n",
    "                schedule[order_date] = cost_matrix[order_date][t].orders\n",
    "                end_reached = True\n",
    "                obj_val += cost_matrix[order_date][t].cost\n",
    "                break\n",
    "        else:\n",
    "            schedule[order_date] = cost_matrix[order_date][t-1].orders\n",
    "            obj_val += cost_matrix[order_date][t-1].cost\n",
    "            order_date = t\n",
    "            break\n",
    "    if(order_date >= n or end_reached):\n",
    "        break\n",
    "# print(schedule)\n",
    "obj_val"
   ]
  },
  {
   "cell_type": "code",
   "execution_count": null,
   "metadata": {},
   "outputs": [],
   "source": []
  }
 ],
 "metadata": {
  "kernelspec": {
   "display_name": "virtualEnv",
   "language": "python",
   "name": "python3"
  },
  "language_info": {
   "codemirror_mode": {
    "name": "ipython",
    "version": 3
   },
   "file_extension": ".py",
   "mimetype": "text/x-python",
   "name": "python",
   "nbconvert_exporter": "python",
   "pygments_lexer": "ipython3",
   "version": "3.10.2"
  },
  "orig_nbformat": 4
 },
 "nbformat": 4,
 "nbformat_minor": 2
}
