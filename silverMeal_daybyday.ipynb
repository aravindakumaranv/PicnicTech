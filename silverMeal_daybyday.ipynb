{
 "cells": [
  {
   "cell_type": "code",
   "execution_count": 28,
   "metadata": {},
   "outputs": [],
   "source": [
    "import pandas as pd\n",
    "import gurobipy as gp\n",
    "import math\n",
    "import pickle as pkl\n",
    "from datetime import datetime, timedelta"
   ]
  },
  {
   "cell_type": "code",
   "execution_count": 29,
   "metadata": {},
   "outputs": [],
   "source": [
    "product_type = \"frozen\"\n",
    "num_time_periods = 7"
   ]
  },
  {
   "cell_type": "code",
   "execution_count": 30,
   "metadata": {},
   "outputs": [],
   "source": [
    "article_data = pd.read_csv(\"./data/article.csv\")\n",
    "article_data = article_data[(article_data['TEMPERATURE_ZONE'] == product_type)]"
   ]
  },
  {
   "cell_type": "code",
   "execution_count": 31,
   "metadata": {},
   "outputs": [],
   "source": [
    "# constants definitions\n",
    "if(product_type==\"frozen\"):\n",
    "    warehouse_volume = 30\n",
    "if(product_type==\"chilled\"):\n",
    "    warehouse_volume = 300\n",
    "if(product_type==\"ambient\"):\n",
    "    warehouse_volume = 900\n",
    "buffer_cost = 25\n",
    "default_max_order = 50"
   ]
  },
  {
   "cell_type": "code",
   "execution_count": 32,
   "metadata": {},
   "outputs": [],
   "source": [
    "def createParameterMatrix(data, columns):\n",
    "    parameters = []\n",
    "    for column in columns:\n",
    "        parameters.append(data[column].to_list())\n",
    "    parameters = list(map(list, zip(*parameters)))\n",
    "    return parameters"
   ]
  },
  {
   "cell_type": "code",
   "execution_count": 33,
   "metadata": {},
   "outputs": [],
   "source": [
    "articles = article_data['ARTICLE_ID'].to_list()\n",
    "\n",
    "parameters = createParameterMatrix(\n",
    "    article_data,\n",
    "    [\n",
    "        'TEMPERATURE_ZONE',\n",
    "        'VOLUME_M3_PER_CU',\n",
    "        'MEAN_SHELF_LIFE',\n",
    "        'CU_PER_TU',\n",
    "        'ORDERING_COST_FIXED',\n",
    "        'ORDERING_COST_PER_TU',\n",
    "        'CLEARING_COST_PER_CU',\n",
    "        'MINIMUM_ORDER_QUANTITY_TU',\n",
    "        'MAXIMUM_ORDER_QUANTITY_TU'\n",
    "    ]\n",
    ")\n",
    "parameters_dict = dict(zip(articles, parameters))"
   ]
  },
  {
   "cell_type": "code",
   "execution_count": 34,
   "metadata": {},
   "outputs": [],
   "source": [
    "items, category, volume_per_cu, shelf_life, cu_per_tu, ordering_cost_fixed, ordering_cost_per_tu, clearing_cost_per_cu, minimum_order_quantity_tu, maximum_order_quantity_tu = gp.multidict(parameters_dict)"
   ]
  },
  {
   "cell_type": "code",
   "execution_count": 35,
   "metadata": {},
   "outputs": [],
   "source": [
    "forecast_data = pd.read_csv('./data/sales_'+str(num_time_periods)+'.csv')\n",
    "forecast_data = forecast_data[forecast_data['ARTICLE_ID'].isin(articles)]"
   ]
  },
  {
   "cell_type": "code",
   "execution_count": 36,
   "metadata": {},
   "outputs": [],
   "source": [
    "# Create a new dataframe with all dates\n",
    "all_dates_df = pd.DataFrame({'DATE': pd.date_range(start=min(forecast_data['DATE']), end=max(forecast_data['DATE']), freq='D')}).astype(str)\n",
    "# Group the original dataframe by item\n",
    "grouped = forecast_data.groupby('ARTICLE_ID')\n",
    "\n",
    "# Initialize an empty list to store the new dataframes\n",
    "new_dfs = []\n",
    "\n",
    "# Loop over each group\n",
    "for item, group_df in grouped:\n",
    "    \n",
    "    group_df['DATE'] = pd.to_datetime(group_df['DATE']).astype(str)\n",
    "\n",
    "    # Merge the group dataframe with the all_dates dataframe\n",
    "    merged_df = pd.merge(all_dates_df, group_df, on='DATE', how='outer')\n",
    "    merged_df['ARTICLE_ID'] = item\n",
    "    \n",
    "    # Fill in missing values\n",
    "    merged_df['PICKING_QUANTITY_CU'] = merged_df['PICKING_QUANTITY_CU'].fillna(0)\n",
    "    \n",
    "    # Sort by date and append to the list\n",
    "    new_dfs.append(merged_df.sort_values('DATE'))\n",
    "    \n",
    "# Concatenate all new dataframes into a single dataframe\n",
    "forecast_data = pd.concat(new_dfs)\n",
    "time_periods = forecast_data['DATE'].unique()\n",
    "\n",
    "time_indexes = [*range(len(time_periods))]\n",
    "date_to_index = {time_periods[i]:[*range(len(time_periods))][i] for i in time_indexes}\n",
    "index_to_date = {[*range(len(time_periods))][i]:time_periods[i] for i in time_indexes}"
   ]
  },
  {
   "attachments": {},
   "cell_type": "markdown",
   "metadata": {},
   "source": [
    "#### Heuristic"
   ]
  },
  {
   "cell_type": "code",
   "execution_count": 37,
   "metadata": {},
   "outputs": [],
   "source": [
    "demand = forecast_data.groupby('DATE').apply(lambda x: dict(zip(x['ARTICLE_ID'], x['PICKING_QUANTITY_CU']))).to_dict()\n",
    "demand = dict((date_to_index[key],value) for (key,value) in demand.items())"
   ]
  },
  {
   "cell_type": "code",
   "execution_count": 38,
   "metadata": {},
   "outputs": [],
   "source": [
    "# demand = {0:{'00ee8964':2},1:{'00ee8964':3},2:{'00ee8964':30},3:{'00ee8964':5},4:{'00ee8964':3},5:{'00ee8964':10}}\n",
    "# ordering_cost_fixed = {'00ee8964':10}\n",
    "# ordering_cost_per_tu = {'00ee8964':1}\n",
    "# cu_per_tu = {'00ee8964':1}\n",
    "# shelf_life = {'00ee8964':2}\n",
    "# clearing_cost_per_cu = {'00ee8964':0}"
   ]
  },
  {
   "cell_type": "code",
   "execution_count": 39,
   "metadata": {},
   "outputs": [],
   "source": [
    "class CostMatrixCell:\n",
    "    def __init__(self) -> None:\n",
    "        self.orders = {}\n",
    "        self.order_date = None\n",
    "        self.period_end = None\n",
    "        self.cost = 0\n",
    "        self.avg_cost = 0\n",
    "        self.extra_orders = {}\n",
    "        self.clearance_cost = 0\n",
    "\n",
    "class Order:\n",
    "    def __init__(self) -> None:\n",
    "        self.item = None\n",
    "        self.quantity_tu = None\n",
    "        self.date = None"
   ]
  },
  {
   "cell_type": "code",
   "execution_count": 40,
   "metadata": {},
   "outputs": [
    {
     "name": "stdout",
     "output_type": "stream",
     "text": [
      "{0: {'00ee8964': 4, '010c48db': 3, '015eb098': 2, '019f5beb': 18, '020b50b0': 18, '03436da5': 4, '038bb02c': 1, '04112e43': 3, '04828ea6': 3, '050daac5': 2, '05ffd974': 53, '0744ee79': 2, '0793a340': 4, '097bbc43': 57, '0983d839': 6, '09e397f8': 26, '0b1a45e0': 1, '0ba6590b': 8, '0e611aba': 2, '1017897f': 112, '105e43d9': 4, '106ac8f0': 99, '10f2b453': 12, '111b2434': 2, '11545bca': 10, '126334a5': 6, '12c460b7': 8, '12cf1bca': 11, '13541e66': 51, '1377878b': 10, '138278a7': 1, '13becd5f': 3, '148ed136': 4, '15b0e7a5': 3, '17f9fecb': 3, '1814bccd': 1, '189067f1': 12, '196c247b': 14, '1a30c679': 5, '1c939a8e': 6, '1c96fbe0': 3, '1ccd89f6': 8, '1d34848b': 14, '1d4d730b': 5, '1e6e2355': 8, '1f15ae34': 1, '1f782edd': 2, '1f9d7d64': 12, '227e7261': 8, '230872dd': 65, '2410d366': 4, '2423482a': 3, '25b50b2a': 13, '26fa73fc': 5, '27c511b5': 3, '2a71fdad': 3, '2ab442df': 37, '2af749f6': 2, '2b6aadc0': 7, '2b950121': 7, '2cd380af': 4, '2d54eaba': 108, '2d82f35e': 2, '2daf6632': 21, '2deeace4': 2, '2ea93642': 21, '2f479fa5': 7, '2f821a2e': 29, '3038bf57': 7, '3197925f': 2, '327dfe80': 3, '337f1013': 5, '3448c6a4': 3, '346ae478': 4, '34ece327': 11, '3538c106': 7, '359fe15b': 6, '35d1f0a1': 2, '35d760ee': 4, '39a1af6c': 3, '3ad61aa5': 2, '3b2c5740': 8, '3bd76e22': 2, '3c88aa42': 2, '3d4b5fb5': 4, '3ed84832': 3, '40d671c4': 8, '4259488b': 7, '4385ba0d': 2, '43951deb': 6, '43a7945a': 2, '43baa09a': 4, '43bcacd0': 19, '44c369a4': 3, '45ae7390': 18, '4647e48b': 13, '468a73f3': 195, '47afad28': 3, '47f7977c': 7, '4869283c': 6, '4912dda2': 90, '493893d4': 6, '49533a36': 7, '499d4776': 110, '499ff4b3': 6, '4a9ec1ae': 4, '4c2860cd': 65, '4dc673f8': 2, '4e64ddf6': 1, '50b96f4c': 5, '513888ed': 1, '51b0a89a': 4, '5280d290': 2, '52c5bfab': 2, '53589d5b': 2, '5419a2bf': 3, '556dd7f3': 9, '559424ed': 6, '57cb1756': 2, '58180eaf': 7, '58499bdc': 6, '593d4b92': 10, '59adc3aa': 2, '5a3bdc6c': 4, '5be424a4': 2, '5c02c0bc': 7, '5d147e07': 20, '5e3b367f': 11, '5fdf9844': 2, '6036f4f1': 4, '60450f9b': 1, '60b36990': 1, '60cbd211': 5, '60e52d56': 2, '6145e3ae': 5, '61567e8b': 2, '638eb97e': 11, '64833c1f': 2, '6530a238': 6, '6547bcba': 2, '66284ea2': 8, '66677590': 1, '67d49050': 4, '68311c41': 23, '68425ae4': 3, '68f96516': 4, '692f924e': 2, '697fed03': 6, '69eb77f2': 5, '6af85b32': 6, '6c5696de': 1, '6dff1c84': 22, '6e41535e': 2, '6f3d3fce': 1, '6f94eebe': 4, '7021316a': 15, '70a0edd1': 2, '70bfecb1': 4, '70c26ece': 71, '71397201': 6, '720955f3': 4, '733f1731': 2, '73415789': 12, '73b3203d': 15, '741e7d4a': 3, '7465367d': 5, '7508fd61': 3, '75a2af63': 2, '761fcc1e': 9, '764f7047': 5, '76600e3f': 12, '76a67630': 5, '781f2cb5': 3, '7830269d': 12, '792df819': 64, '7a6e56eb': 2, '7b76c02f': 11, '7c3794d5': 2, '7c4648b9': 24, '7c8d94d6': 11, '7f16aeab': 1, '7f4d8743': 6, '7f734ba7': 6, '80b76dc1': 8, '80cc8d1b': 16, '81400607': 2, '81758a5d': 1, '81ece612': 109, '827bc52e': 2, '82ebc2dd': 2, '8339c92a': 17, '83a916cd': 3, '84293966': 7, '84893de1': 0, '84daaf7c': 16, '85e04ca4': 1, '86fd0043': 22, '875a176c': 3, '8767d052': 29, '87bc979c': 5, '87dd8b2e': 35, '88c42841': 2, '8a91486b': 77, '8ba80700': 7, '8bbcb1a0': 5, '8d8a6a0f': 6, '8e205b36': 6, '8e65ab12': 6, '91767bcd': 1, '91fb2407': 4, '91fe9420': 2, '9214b8e6': 1, '9364caed': 3, '938f7d75': 2, '95c4f6b8': 12, '96504106': 7, '9675ef02': 14, '96a73844': 8, '96fbafab': 17, '9718a0ea': 10, '9759153f': 2, '982dc667': 1, '983e2396': 4, '99f86a8f': 2, '9a03cea6': 7, '9a4a3e42': 13, '9d9741b4': 7, '9e28d50b': 15, '9ec54e71': 3, 'a08773e9': 9, 'a1136423': 1, 'a19b2ac5': 7, 'a2b43535': 1, 'a32ee9e0': 5, 'a3a20752': 2, 'a3d520ba': 10, 'a3d6f092': 2, 'a4a11255': 2, 'a52f963a': 5, 'a670e30d': 17, 'a7d093ce': 10, 'a801b574': 4, 'a82fc331': 6, 'a98513e1': 23, 'aa130fcb': 7, 'ac696906': 3, 'ad5782cc': 2, 'ad634451': 5, 'ae39e448': 2, 'af101a86': 3, 'b13b307a': 3, 'b1722e6e': 11, 'b20783c2': 9, 'b294630c': 8, 'b3d59839': 1, 'b41a720d': 33, 'b43301d5': 1, 'b4387f22': 8, 'b6724cd0': 4, 'b673380a': 2, 'b688c1a1': 2, 'b70207f6': 6, 'b8a11df5': 3, 'b9276e4b': 6, 'b9ad0c6a': 12, 'ba8d7c6d': 2, 'badff242': 4, 'bb41e272': 2, 'bb8b17cb': 1, 'bd574fe0': 6, 'bedc5c28': 2, 'bf6f0956': 5, 'bf7aae10': 1, 'c0f0e87a': 4, 'c148f52c': 30, 'c1bea219': 41, 'c25097ef': 1, 'c28c3b5d': 36, 'c47954c7': 2, 'c48c227c': 3, 'c5e0c974': 5, 'c7807b31': 4, 'c8706bb9': 2, 'c936ca6b': 11, 'c958c1bb': 1, 'c96d122f': 22, 'c9883091': 58, 'c9dafa61': 6, 'c9ef05bb': 7, 'cb004daf': 2, 'cb7de5f3': 2, 'ccb3985c': 4, 'cfc511cb': 30, 'cfe4dde3': 7, 'd0d666f6': 5, 'd349d9c1': 8, 'd3522cdb': 3, 'd396d0ba': 84, 'd4132dce': 23, 'd44ecf7a': 4, 'd45dd417': 4, 'd50b255e': 13, 'd6c34b14': 4, 'd7d05dc1': 2, 'd8d111cd': 3, 'd97aefab': 2, 'da2ec153': 8, 'dac901a3': 4, 'db2786e8': 9, 'dc61d0e2': 1, 'df254538': 11, 'df3f05a0': 2, 'e0cfdaa5': 2, 'e270732d': 80, 'e36ac6f2': 4, 'e394e81a': 7, 'e3efda8c': 1, 'e425a2dd': 1, 'e44956e4': 8, 'e4dbe3a3': 30, 'e71736a4': 72, 'e96aad87': 6, 'ea83ef91': 4, 'ebb9e98f': 4, 'ecb0e972': 5, 'ef069d31': 4, 'ef4a6b04': 2, 'f011e1ed': 20, 'f0a1495d': 5, 'f0c4a676': 75, 'f148359b': 33, 'f1c782c9': 9, 'f23c0c99': 2, 'f26e52df': 23, 'f364ca54': 8, 'f3b855c8': 2, 'f4e4521c': 9, 'f5a9d9d9': 6, 'f800eb86': 7, 'f8d14758': 3, 'f925b005': 4, 'fa2a3dba': 3, 'fac43423': 2, 'fb5fdd03': 6, 'fe882888': 1, 'fea8d9f0': 2, 'feea3867': 7, 'ff7f13b3': 8, 'ffc3d18a': 1}, 4: {'00ee8964': 3, '010c48db': 2, '015eb098': 2, '019f5beb': 13, '020b50b0': 11, '03436da5': 2, '038bb02c': 1, '04112e43': 1, '04828ea6': 2, '050daac5': 1, '05ffd974': 26, '0744ee79': 2, '0793a340': 1, '097bbc43': 32, '0983d839': 4, '09e397f8': 13, '0b1a45e0': 1, '0ba6590b': 7, '0e611aba': 2, '1017897f': 33, '105e43d9': 3, '106ac8f0': 43, '10f2b453': 6, '111b2434': 2, '11545bca': 5, '126334a5': 3, '12c460b7': 6, '12cf1bca': 8, '13541e66': 29, '1377878b': 8, '138278a7': 0, '13becd5f': 1, '148ed136': 3, '15b0e7a5': 1, '17f9fecb': 2, '1814bccd': 2, '189067f1': 5, '196c247b': 2, '1a30c679': 2, '1c939a8e': 5, '1c96fbe0': 1, '1ccd89f6': 6, '1d34848b': 11, '1d4d730b': 3, '1e6e2355': 4, '1f15ae34': 1, '1f782edd': 2, '1f9d7d64': 6, '227e7261': 6, '230872dd': 33, '2410d366': 3, '2423482a': 1, '25b50b2a': 16, '26fa73fc': 2, '27c511b5': 3, '2a71fdad': 2, '2ab442df': 19, '2af749f6': 1, '2b6aadc0': 4, '2b950121': 4, '2cd380af': 2, '2d54eaba': 37, '2d82f35e': 1, '2daf6632': 11, '2deeace4': 2, '2ea93642': 10, '2f479fa5': 12, '2f821a2e': 30, '3038bf57': 3, '3197925f': 2, '327dfe80': 3, '337f1013': 2, '3448c6a4': 4, '346ae478': 3, '34ece327': 10, '3538c106': 4, '359fe15b': 6, '35d1f0a1': 1, '35d760ee': 5, '39a1af6c': 4, '3ad61aa5': 1, '3b2c5740': 5, '3bd76e22': 1, '3c88aa42': 1, '3d4b5fb5': 4, '3ed84832': 2, '40d671c4': 5, '4259488b': 7, '4385ba0d': 1, '43951deb': 3, '43a7945a': 2, '43baa09a': 2, '43bcacd0': 15, '44c369a4': 4, '45ae7390': 11, '4647e48b': 8, '468a73f3': 160, '47afad28': 1, '47f7977c': 5, '4869283c': 8, '4912dda2': 42, '493893d4': 4, '49533a36': 4, '499d4776': 44, '499ff4b3': 3, '4a9ec1ae': 2, '4c2860cd': 36, '4dc673f8': 1, '4e64ddf6': 1, '50b96f4c': 3, '513888ed': 1, '51b0a89a': 2, '5280d290': 2, '52c5bfab': 2, '53589d5b': 2, '5419a2bf': 3, '556dd7f3': 5, '559424ed': 4, '57cb1756': 1, '58180eaf': 5, '58499bdc': 2, '593d4b92': 6, '59adc3aa': 2, '5a3bdc6c': 3, '5be424a4': 2, '5c02c0bc': 5, '5d147e07': 12, '5e3b367f': 17, '5fdf9844': 2, '6036f4f1': 2, '60450f9b': 3, '60b36990': 1, '60cbd211': 4, '60e52d56': 1, '6145e3ae': 4, '61567e8b': 1, '638eb97e': 7, '64833c1f': 2, '6530a238': 3, '6547bcba': 2, '66284ea2': 7, '66677590': 1, '67d49050': 4, '68311c41': 19, '68425ae4': 2, '68f96516': 1, '692f924e': 2, '697fed03': 3, '69eb77f2': 3, '6af85b32': 1, '6c5696de': 1, '6dff1c84': 12, '6e41535e': 1, '6f3d3fce': 0, '6f94eebe': 2, '7021316a': 9, '70a0edd1': 2, '70bfecb1': 2, '70c26ece': 52, '71397201': 4, '720955f3': 2, '733f1731': 1, '73415789': 6, '73b3203d': 10, '741e7d4a': 2, '7465367d': 3, '7508fd61': 4, '75a2af63': 2, '761fcc1e': 6, '764f7047': 6, '76600e3f': 8, '76a67630': 3, '781f2cb5': 1, '7830269d': 7, '792df819': 31, '7a6e56eb': 1, '7b76c02f': 4, '7c3794d5': 2, '7c4648b9': 14, '7c8d94d6': 9, '7f16aeab': 1, '7f4d8743': 4, '7f734ba7': 3, '80b76dc1': 3, '80cc8d1b': 11, '81400607': 1, '81758a5d': 1, '81ece612': 80, '827bc52e': 1, '82ebc2dd': 2, '8339c92a': 8, '83a916cd': 1, '84293966': 4, '84893de1': 1, '84daaf7c': 6, '85e04ca4': 1, '86fd0043': 16, '875a176c': 1, '8767d052': 19, '87bc979c': 3, '87dd8b2e': 15, '88c42841': 2, '8a91486b': 34, '8ba80700': 5, '8bbcb1a0': 4, '8d8a6a0f': 4, '8e205b36': 3, '8e65ab12': 2, '91767bcd': 1, '91fb2407': 1, '91fe9420': 2, '9214b8e6': 2, '9364caed': 2, '938f7d75': 2, '95c4f6b8': 8, '96504106': 2, '9675ef02': 9, '96a73844': 4, '96fbafab': 12, '9718a0ea': 9, '9759153f': 2, '982dc667': 1, '983e2396': 5, '99f86a8f': 1, '9a03cea6': 6, '9a4a3e42': 8, '9d9741b4': 4, '9e28d50b': 10, '9ec54e71': 2, 'a08773e9': 6, 'a1136423': 1, 'a19b2ac5': 8, 'a2b43535': 0, 'a32ee9e0': 4, 'a3a20752': 1, 'a3d520ba': 5, 'a3d6f092': 1, 'a4a11255': 1, 'a52f963a': 4, 'a670e30d': 8, 'a7d093ce': 8, 'a801b574': 4, 'a82fc331': 5, 'a98513e1': 17, 'aa130fcb': 6, 'ac696906': 2, 'ad5782cc': 1, 'ad634451': 2, 'ae39e448': 2, 'af101a86': 1, 'b13b307a': 2, 'b1722e6e': 9, 'b20783c2': 4, 'b294630c': 4, 'b3d59839': 1, 'b41a720d': 28, 'b43301d5': 1, 'b4387f22': 3, 'b6724cd0': 2, 'b673380a': 2, 'b688c1a1': 1, 'b70207f6': 6, 'b8a11df5': 2, 'b9276e4b': 4, 'b9ad0c6a': 8, 'ba8d7c6d': 2, 'badff242': 3, 'bb41e272': 1, 'bb8b17cb': 1, 'bd574fe0': 3, 'bedc5c28': 2, 'bf6f0956': 3, 'bf7aae10': 1, 'c0f0e87a': 3, 'c148f52c': 20, 'c1bea219': 19, 'c25097ef': 1, 'c28c3b5d': 18, 'c47954c7': 2, 'c48c227c': 2, 'c5e0c974': 3, 'c7807b31': 4, 'c8706bb9': 1, 'c936ca6b': 7, 'c958c1bb': 1, 'c96d122f': 6, 'c9883091': 17, 'c9dafa61': 4, 'c9ef05bb': 6, 'cb004daf': 2, 'cb7de5f3': 1, 'ccb3985c': 2, 'cfc511cb': 23, 'cfe4dde3': 6, 'd0d666f6': 3, 'd349d9c1': 8, 'd3522cdb': 2, 'd396d0ba': 29, 'd4132dce': 16, 'd44ecf7a': 2, 'd45dd417': 2, 'd50b255e': 7, 'd6c34b14': 3, 'd7d05dc1': 2, 'd8d111cd': 2, 'd97aefab': 1, 'da2ec153': 7, 'dac901a3': 4, 'db2786e8': 4, 'dc61d0e2': 1, 'df254538': 5, 'df3f05a0': 1, 'e0cfdaa5': 3, 'e270732d': 39, 'e36ac6f2': 2, 'e394e81a': 5, 'e3efda8c': 1, 'e425a2dd': 1, 'e44956e4': 5, 'e4dbe3a3': 17, 'e71736a4': 20, 'e96aad87': 3, 'ea83ef91': 4, 'ebb9e98f': 2, 'ecb0e972': 2, 'ef069d31': 2, 'ef4a6b04': 2, 'f011e1ed': 6, 'f0a1495d': 1, 'f0c4a676': 59, 'f148359b': 19, 'f1c782c9': 5, 'f23c0c99': 1, 'f26e52df': 16, 'f364ca54': 5, 'f3b855c8': 2, 'f4e4521c': 4, 'f5a9d9d9': 4, 'f800eb86': 5, 'f8d14758': 1, 'f925b005': 3, 'fa2a3dba': 4, 'fac43423': 2, 'fb5fdd03': 4, 'fe882888': 1, 'fea8d9f0': 1, 'feea3867': 6, 'ff7f13b3': 2, 'ffc3d18a': 2}}\n"
     ]
    },
    {
     "data": {
      "text/plain": [
       "14079.815069475007"
      ]
     },
     "execution_count": 40,
     "metadata": {},
     "output_type": "execute_result"
    }
   ],
   "source": [
    "n = len(demand.keys())\n",
    "cost_matrix = [[CostMatrixCell() for __ in range(n)] for _ in range(n)]\n",
    "for i in range(n):\n",
    "    for j in range(n):\n",
    "        if(i>j):\n",
    "            cost_matrix[i][j] = None\n",
    "        else:\n",
    "            cost_matrix[i][j].order_date = i\n",
    "            cost_matrix[i][j].period_end = j\n",
    "\n",
    "def getOrders(cell):\n",
    "    clearance_cost = 0\n",
    "    for t in range(cell.order_date, cell.period_end + 1):\n",
    "        for item in demand[t].keys():\n",
    "            if(item not in cell.orders.keys()):\n",
    "                cell.orders[item] = 0\n",
    "            if(cell.order_date + shelf_life[item] < t):\n",
    "                # item cannot be ordered on order_date because it would go bad by t\n",
    "                if(t not in cell.extra_orders.keys()):\n",
    "                    cell.extra_orders[t] = {}\n",
    "                cell.extra_orders[t][item] = math.ceil(demand[t][item] / cu_per_tu[item])\n",
    "                clearance_cost += ((math.ceil(demand[t][item] / cu_per_tu[item]) * cu_per_tu[item]) - demand[t][item]) * clearing_cost_per_cu[item]\n",
    "            else:   \n",
    "                cell.orders[item] += demand[t][item]\n",
    "                # cell.orders[item] += math.ceil(demand[t][item] / cu_per_tu[item])\n",
    "    for item in cell.orders.keys():\n",
    "        cell.orders[item] = math.ceil(cell.orders[item]/cu_per_tu[item])\n",
    "    cell.clearance_cost = clearance_cost\n",
    "\n",
    "def fetchExtraVolume(cell, t):\n",
    "    extra_volume = 0\n",
    "    if(t in cell.extra_orders.keys()):\n",
    "        for item in cell.extra_orders[t].keys():\n",
    "            extra_volume += cell.extra_orders[t][item] * cu_per_tu[item] * volume_per_cu[item] \n",
    "    return extra_volume\n",
    "            \n",
    "def getCost(cell):\n",
    "    getOrders(cell)\n",
    "    cost = cell.clearance_cost\n",
    "    volume = 0\n",
    "    for item in cell.orders.keys():\n",
    "        cost += (ordering_cost_per_tu[item] * cell.orders[item]) + ordering_cost_fixed[item]\n",
    "        for extra_order_date in cell.extra_orders.keys():\n",
    "            for extra_item in cell.extra_orders[extra_order_date].keys():\n",
    "                cost += (ordering_cost_per_tu[item] * cell.orders[item]) + ordering_cost_fixed[item]\n",
    "        volume += cell.orders[item] * cu_per_tu[item] * volume_per_cu[item]\n",
    "    for t in range(cell.order_date,cell.period_end+1):\n",
    "        if(volume + fetchExtraVolume(cell, t) > warehouse_volume):\n",
    "            # CHECK\n",
    "            cost += (volume + fetchExtraVolume(cell, t) - warehouse_volume) * buffer_cost\n",
    "            demand_volume = 0\n",
    "            for item in demand[t].keys():\n",
    "                demand_volume += volume_per_cu[item] * demand[t][item]\n",
    "            volume -= demand_volume\n",
    "            # CHECK\n",
    "            volume += fetchExtraVolume(cell, t)\n",
    "        else:\n",
    "            break\n",
    "    \n",
    "    cell.cost = cost\n",
    "    cell.avg_cost = cost / (cell.period_end - cell.order_date + 1) \n",
    "\n",
    "order_date = 0\n",
    "end_reached = False\n",
    "obj_val = 0\n",
    "schedule = {}\n",
    "while(True):\n",
    "    min_cost = float('inf')\n",
    "    for t in range(order_date,n):\n",
    "        schedule[order_date] = {}\n",
    "        getCost(cost_matrix[order_date][t])\n",
    "        if(cost_matrix[order_date][t].avg_cost < min_cost):\n",
    "            min_cost = cost_matrix[order_date][t].avg_cost\n",
    "            if(t==n-1):\n",
    "                schedule[order_date] = cost_matrix[order_date][t].orders\n",
    "                end_reached = True\n",
    "                obj_val += cost_matrix[order_date][t].cost\n",
    "                break\n",
    "        else:\n",
    "            schedule[order_date] = cost_matrix[order_date][t-1].orders\n",
    "            obj_val += cost_matrix[order_date][t-1].cost\n",
    "            order_date = t\n",
    "            break\n",
    "    if(order_date >= n or end_reached):\n",
    "        break\n",
    "print(schedule)\n",
    "obj_val"
   ]
  }
 ],
 "metadata": {
  "kernelspec": {
   "display_name": "virtualEnv",
   "language": "python",
   "name": "python3"
  },
  "language_info": {
   "codemirror_mode": {
    "name": "ipython",
    "version": 3
   },
   "file_extension": ".py",
   "mimetype": "text/x-python",
   "name": "python",
   "nbconvert_exporter": "python",
   "pygments_lexer": "ipython3",
   "version": "3.10.2"
  },
  "orig_nbformat": 4
 },
 "nbformat": 4,
 "nbformat_minor": 2
}
