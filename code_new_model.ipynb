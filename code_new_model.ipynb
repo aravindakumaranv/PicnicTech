{
 "cells": [
  {
   "cell_type": "code",
   "execution_count": 221,
   "metadata": {},
   "outputs": [],
   "source": [
    "import pandas as pd\n",
    "import gurobipy as gp\n",
    "import math\n",
    "import pickle as pkl\n",
    "from datetime import datetime, timedelta"
   ]
  },
  {
   "cell_type": "code",
   "execution_count": 222,
   "metadata": {},
   "outputs": [],
   "source": [
    "product_type = \"frozen\"\n",
    "num_time_periods = 7"
   ]
  },
  {
   "cell_type": "code",
   "execution_count": 223,
   "metadata": {},
   "outputs": [],
   "source": [
    "article_data = pd.read_csv(\"./data/article.csv\")\n",
    "article_data = article_data[(article_data['TEMPERATURE_ZONE'] == product_type)]"
   ]
  },
  {
   "cell_type": "code",
   "execution_count": 224,
   "metadata": {},
   "outputs": [],
   "source": [
    "# constants definitions\n",
    "if(product_type==\"frozen\"):\n",
    "    warehouse_volume = 50\n",
    "if(product_type==\"chilled\"):\n",
    "    warehouse_volume = 300\n",
    "if(product_type==\"ambient\"):\n",
    "    warehouse_volume = 900\n",
    "buffer_cost = 25\n",
    "default_max_order = 10000"
   ]
  },
  {
   "cell_type": "code",
   "execution_count": 225,
   "metadata": {},
   "outputs": [],
   "source": [
    "def createParameterMatrix(data, columns):\n",
    "    parameters = []\n",
    "    for column in columns:\n",
    "        parameters.append(data[column].to_list())\n",
    "    parameters = list(map(list, zip(*parameters)))\n",
    "    return parameters"
   ]
  },
  {
   "cell_type": "code",
   "execution_count": 226,
   "metadata": {},
   "outputs": [],
   "source": [
    "articles = article_data['ARTICLE_ID'].to_list()\n",
    "\n",
    "parameters = createParameterMatrix(\n",
    "    article_data,\n",
    "    [\n",
    "        'TEMPERATURE_ZONE',\n",
    "        'VOLUME_M3_PER_CU',\n",
    "        'MEAN_SHELF_LIFE',\n",
    "        'CU_PER_TU',\n",
    "        'ORDERING_COST_FIXED',\n",
    "        'ORDERING_COST_PER_TU',\n",
    "        'CLEARING_COST_PER_CU',\n",
    "        'MINIMUM_ORDER_QUANTITY_TU',\n",
    "        'MAXIMUM_ORDER_QUANTITY_TU'\n",
    "    ]\n",
    ")\n",
    "parameters_dict = dict(zip(articles, parameters))"
   ]
  },
  {
   "cell_type": "code",
   "execution_count": 227,
   "metadata": {},
   "outputs": [],
   "source": [
    "items, category, volume_per_cu, shelf_life, cu_per_tu, ordering_cost_fixed, ordering_cost_per_tu, clearing_cost_per_cu, minimum_order_quantity_tu, maximum_order_quantity_tu = gp.multidict(parameters_dict)"
   ]
  },
  {
   "cell_type": "code",
   "execution_count": 228,
   "metadata": {},
   "outputs": [],
   "source": [
    "forecast_data = pd.read_csv('./data/sales_'+str(num_time_periods)+'.csv')\n",
    "forecast_data = forecast_data[forecast_data['ARTICLE_ID'].isin(articles)]"
   ]
  },
  {
   "cell_type": "code",
   "execution_count": 229,
   "metadata": {},
   "outputs": [],
   "source": [
    "# Create a new dataframe with all dates\n",
    "all_dates_df = pd.DataFrame({'DATE': pd.date_range(start='2022-06-13', end='2022-06-18', freq='D')}).astype(str)\n",
    "# Group the original dataframe by item\n",
    "grouped = forecast_data.groupby('ARTICLE_ID')\n",
    "\n",
    "# Initialize an empty list to store the new dataframes\n",
    "new_dfs = []\n",
    "\n",
    "# Loop over each group\n",
    "for item, group_df in grouped:\n",
    "    \n",
    "    group_df['DATE'] = pd.to_datetime(group_df['DATE']).astype(str)\n",
    "\n",
    "    # Merge the group dataframe with the all_dates dataframe\n",
    "    merged_df = pd.merge(all_dates_df, group_df, on='DATE', how='outer')\n",
    "    merged_df['ARTICLE_ID'] = item\n",
    "    \n",
    "    # Fill in missing values\n",
    "    merged_df['PICKING_QUANTITY_CU'] = merged_df['PICKING_QUANTITY_CU'].fillna(0)\n",
    "    \n",
    "    # Sort by date and append to the list\n",
    "    new_dfs.append(merged_df.sort_values('DATE'))\n",
    "    \n",
    "# Concatenate all new dataframes into a single dataframe\n",
    "forecast_data = pd.concat(new_dfs)\n",
    "time_periods = forecast_data['DATE'].unique()\n",
    "demand = forecast_data.groupby('ARTICLE_ID').apply(lambda x: dict(zip(x['DATE'], x['PICKING_QUANTITY_CU']))).to_dict()"
   ]
  },
  {
   "cell_type": "code",
   "execution_count": 246,
   "metadata": {},
   "outputs": [
    {
     "data": {
      "text/plain": [
       "{'2022-06-13': 0,\n",
       " '2022-06-14': 5,\n",
       " '2022-06-15': 0,\n",
       " '2022-06-16': 6,\n",
       " '2022-06-17': 0,\n",
       " '2022-06-18': 0}"
      ]
     },
     "execution_count": 246,
     "metadata": {},
     "output_type": "execute_result"
    }
   ],
   "source": [
    "shelf_life['468a73f3'] = 3\n",
    "cu_per_tu['468a73f3'] = 2\n",
    "for key in demand['468a73f3'].keys():\n",
    "    demand['468a73f3'][key] = 0\n",
    "demand['468a73f3'][time_periods[1]] = 5\n",
    "demand['468a73f3'][time_periods[3]] = 6\n",
    "demand['468a73f3']"
   ]
  },
  {
   "cell_type": "code",
   "execution_count": 247,
   "metadata": {},
   "outputs": [],
   "source": [
    "time_periods = forecast_data['DATE'].unique()"
   ]
  },
  {
   "cell_type": "code",
   "execution_count": 248,
   "metadata": {},
   "outputs": [
    {
     "name": "stdout",
     "output_type": "stream",
     "text": [
      "Set parameter Heuristics to value 0\n",
      "Gurobi Optimizer version 10.0.1 build v10.0.1rc0 (mac64[arm])\n",
      "\n",
      "CPU model: Apple M2\n",
      "Thread count: 8 physical cores, 8 logical processors, using up to 8 threads\n",
      "\n",
      "Optimize a model with 4197 rows, 25146 columns and 15003 nonzeros\n",
      "Model fingerprint: 0x9562d99c\n",
      "Variable types: 0 continuous, 25146 integer (2514 binary)\n",
      "Coefficient statistics:\n",
      "  Matrix range     [2e-04, 2e+01]\n",
      "  Objective range  [1e-01, 2e+01]\n",
      "  Bounds range     [1e+00, 1e+00]\n",
      "  RHS range        [1e+00, 2e+02]\n",
      "Presolve removed 2434 rows and 21693 columns\n",
      "Presolve time: 0.03s\n",
      "Presolved: 1763 rows, 3453 columns, 8289 nonzeros\n",
      "Variable types: 0 continuous, 3453 integer (416 binary)\n",
      "\n",
      "Root relaxation: objective 4.654261e+03, 2247 iterations, 0.00 seconds (0.00 work units)\n",
      "\n",
      "    Nodes    |    Current Node    |     Objective Bounds      |     Work\n",
      " Expl Unexpl |  Obj  Depth IntInf | Incumbent    BestBd   Gap | It/Node Time\n",
      "\n",
      "     0     0 4654.26078    0  672          - 4654.26078      -     -    0s\n",
      "     0     0 4705.37542    0  448          - 4705.37542      -     -    0s\n",
      "     0     0 4711.91878    0  435          - 4711.91878      -     -    0s\n",
      "     0     0 4711.91878    0  435          - 4711.91878      -     -    0s\n",
      "     0     0 4761.45523    0  356          - 4761.45523      -     -    0s\n",
      "     0     0 4762.66407    0  392          - 4762.66407      -     -    0s\n",
      "     0     0 4762.66407    0  392          - 4762.66407      -     -    0s\n",
      "     0     0 4802.35209    0  365          - 4802.35209      -     -    0s\n",
      "     0     0 4810.04006    0  292          - 4810.04006      -     -    0s\n",
      "     0     0 4810.16863    0  291          - 4810.16863      -     -    0s\n",
      "     0     0 4819.08784    0  269          - 4819.08784      -     -    0s\n",
      "     0     0 4820.68520    0  255          - 4820.68520      -     -    0s\n",
      "     0     0 4820.68520    0  247          - 4820.68520      -     -    0s\n",
      "     0     0 4823.75701    0  245          - 4823.75701      -     -    0s\n",
      "     0     0 4823.75701    0  238          - 4823.75701      -     -    0s\n",
      "     0     0 4825.23201    0  229          - 4825.23201      -     -    0s\n",
      "     0     0 4825.23201    0  222          - 4825.23201      -     -    0s\n",
      "     0     0 4825.23201    0  219          - 4825.23201      -     -    0s\n",
      "     0     0 4825.23201    0  175          - 4825.23201      -     -    0s\n",
      "     0     2 4825.23201    0  169          - 4825.23201      -     -    0s\n",
      "H 7296  6924                    4931.3000000 4920.80274  0.21%   1.1    1s\n",
      "\n",
      "Cutting planes:\n",
      "  Gomory: 104\n",
      "  MIR: 569\n",
      "  StrongCG: 43\n",
      "  Flow cover: 4\n",
      "  Zero half: 131\n",
      "  Mod-K: 5\n",
      "\n",
      "Explored 7338 nodes (21874 simplex iterations) in 2.94 seconds (2.09 work units)\n",
      "Thread count was 8 (of 8 available processors)\n",
      "\n",
      "Solution count 1: 4931.3 \n",
      "\n",
      "Optimal solution found (tolerance 1.00e-04)\n",
      "Best objective 4.931300000000e+03, best bound 4.931300000000e+03, gap 0.0000%\n"
     ]
    }
   ],
   "source": [
    "# model object\n",
    "m = gp.Model()\n",
    "\n",
    "# decision variables\n",
    "# Xit\n",
    "orders = m.addVars(items, time_periods, vtype=gp.GRB.INTEGER, lb=0)\n",
    "# Yit\n",
    "ordered_boolean = m.addVars(items, time_periods, vtype=gp.GRB.BINARY, lb=0)\n",
    "# Sit\n",
    "storage_used = m.addVars(items, time_periods, vtype=gp.GRB.INTEGER, lb=0)\n",
    "# Zt\n",
    "buffer_storage_used = m.addVars(time_periods, vtype=gp.GRB.INTEGER, lb=0)\n",
    "# Dit\n",
    "clearances = m.addVars(items, time_periods, vtype=gp.GRB.INTEGER, lb=0)\n",
    "# Xit1t2\n",
    "orders_disaggregated = m.addVars(items, time_periods, time_periods, vtype=gp.GRB.INTEGER, lb=0)\n",
    "\n",
    "# objective function\n",
    "ordering_cost_per_tu_objective = gp.quicksum(ordering_cost_per_tu[item] * orders[item, time_period] for item in items for time_period in time_periods)\n",
    "ordering_cost_fixed_objective = gp.quicksum(ordering_cost_fixed[item] * ordered_boolean[item, time_period] for item in items for time_period in time_periods)\n",
    "buffer_storage_objective = gp.quicksum(buffer_cost * buffer_storage_used[time_period] for time_period in time_periods)\n",
    "clearance_objective = gp.quicksum(clearing_cost_per_cu[item] * clearances[item, time_period] for item in items for time_period in time_periods)\n",
    "\n",
    "m.setObjective(ordering_cost_per_tu_objective + ordering_cost_fixed_objective + buffer_storage_objective, sense=gp.GRB.MINIMIZE)\n",
    "\n",
    "# constraints\n",
    "# demand satisfaction\n",
    "for item in demand.keys():\n",
    "    for time_period_iterator, time_period in enumerate(time_periods):\n",
    "        if(time_period_iterator==0):\n",
    "            m.addConstr((orders[item, time_period] * cu_per_tu[item]) - demand[item][time_period] - clearances[item, time_period] >=  storage_used[item, time_periods[time_period_iterator]])\n",
    "        else:\n",
    "            m.addConstr((orders[item, time_period] * cu_per_tu[item]) + storage_used[item, time_periods[time_period_iterator-1]] \n",
    "            - demand[item][time_period] - clearances[item, time_period] >=  storage_used[item, time_periods[time_period_iterator]])\n",
    "\n",
    "# inventory volume constraint\n",
    "for time_period_iterator, time_period in enumerate(time_periods):\n",
    "    if(time_period_iterator==0):\n",
    "        m.addConstr(gp.quicksum(volume_per_cu[item] * ((cu_per_tu[item] * (orders[item, time_period]))) for item in items) <= warehouse_volume + buffer_storage_used[time_period])\n",
    "    else:\n",
    "        m.addConstr(gp.quicksum(volume_per_cu[item] * (storage_used[item, time_periods[time_period_iterator-1]] + (cu_per_tu[item] * (orders[item, time_period]))) for item in items) <= warehouse_volume + buffer_storage_used[time_period])\n",
    "\n",
    "# # min/max constraints (linking too)\n",
    "for item in demand.keys():\n",
    "    for time_period in time_periods:\n",
    "        m.addConstr(orders[item, time_period] >= minimum_order_quantity_tu[item] * ordered_boolean[item, time_period])\n",
    "        # if((not math.isnan(maximum_order_quantity_tu[item]))):\n",
    "        #     m.addConstr(orders[item, time_period] <= maximum_order_quantity_tu[item] * ordered_boolean[item, time_period])\n",
    "        # else:\n",
    "        #     m.addConstr(orders[item, time_period] <= default_max_order * ordered_boolean[item, time_period])\n",
    "\n",
    "for item in demand.keys():\n",
    "    for time_period_iterator, time_period in enumerate(time_periods):\n",
    "        life = shelf_life[item]\n",
    "        if time_period_iterator >= life:\n",
    "            m.addConstr(clearances[item, time_period] >= gp.quicksum((cu_per_tu[item] * (orders[item, t1]))  for t1 in time_periods[0:time_period_iterator-life])\n",
    "            - gp.quicksum(demand[item][t1] for t1 in time_periods[0:time_period_iterator]) - gp.quicksum(clearances[item,t1] for t1 in time_periods[0:time_period_iterator-1]))\n",
    "\n",
    "# # current inventory constraint\n",
    "# for item in demand.keys():\n",
    "#     for time_period_iterator,time_period in enumerate(time_periods):\n",
    "#         if(time_period_iterator==0):\n",
    "#             m.addConstr(storage_used[item, time_periods[time_period_iterator]] == (orders[item, time_period] * cu_per_tu[item]) - demand[item][time_period])\n",
    "#         else:\n",
    "#             m.addConstr(storage_used[item, time_periods[time_period_iterator]] == storage_used[item, time_periods[time_period_iterator-1]] + (orders[item, time_period] * cu_per_tu[item]) - demand[item][time_period])\n",
    "\n",
    "# # clearance constraint\n",
    "# for item in demand.keys():\n",
    "#     life = shelf_life[item]\n",
    "#     for time_period in time_periods[:-life]:\n",
    "#         m.addConstr(clearances[item, time_period] <= (orders[item, time_period] * cu_per_tu[item]) - (gp.quicksum(orders_disaggregated[item, time_period, t2] for t2 in time_periods[time_period_iterator:time_period_iterator+life])))\n",
    "\n",
    "\n",
    "\n",
    "m.setParam(gp.GRB.Param.Heuristics, 0) \n",
    "m.optimize()"
   ]
  },
  {
   "cell_type": "code",
   "execution_count": 249,
   "metadata": {},
   "outputs": [
    {
     "name": "stdout",
     "output_type": "stream",
     "text": [
      "<gurobi.Var C7548 (value 1.0)>\n",
      "<gurobi.Var C7549 (value -0.0)>\n",
      "<gurobi.Var C7550 (value -0.0)>\n",
      "<gurobi.Var C7551 (value -0.0)>\n",
      "<gurobi.Var C7552 (value 0.0)>\n",
      "<gurobi.Var C7553 (value 0.0)>\n"
     ]
    }
   ],
   "source": [
    "\n",
    "for time_period in time_periods:\n",
    "      print(clearances['468a73f3',time_period])"
   ]
  },
  {
   "cell_type": "code",
   "execution_count": 250,
   "metadata": {},
   "outputs": [
    {
     "name": "stdout",
     "output_type": "stream",
     "text": [
      "<gurobi.Var C0 (value 3.0)>\n",
      "0\n",
      "<gurobi.Var C1 (value -0.0)>\n",
      "5\n",
      "<gurobi.Var C2 (value 3.0)>\n",
      "0\n",
      "<gurobi.Var C3 (value -0.0)>\n",
      "6\n",
      "<gurobi.Var C4 (value -0.0)>\n",
      "0\n",
      "<gurobi.Var C5 (value -0.0)>\n",
      "0\n"
     ]
    }
   ],
   "source": [
    "print(orders[('468a73f3',time_periods[0])])\n",
    "print(demand['468a73f3'][time_periods[0]])\n",
    "print(orders[('468a73f3',time_periods[1])])\n",
    "print(demand['468a73f3'][time_periods[1]])\n",
    "print(orders[('468a73f3',time_periods[2])])\n",
    "print(demand['468a73f3'][time_periods[2]])\n",
    "print(orders[('468a73f3',time_periods[3])])\n",
    "print(demand['468a73f3'][time_periods[3]])\n",
    "print(orders[('468a73f3',time_periods[4])])\n",
    "print(demand['468a73f3'][time_periods[4]])\n",
    "print(orders[('468a73f3',time_periods[5])])\n",
    "print(demand['468a73f3'][time_periods[5]])\n"
   ]
  },
  {
   "cell_type": "code",
   "execution_count": null,
   "metadata": {},
   "outputs": [],
   "source": []
  }
 ],
 "metadata": {
  "kernelspec": {
   "display_name": "Python 3.x",
   "language": "python",
   "name": "python3"
  },
  "language_info": {
   "codemirror_mode": {
    "name": "ipython",
    "version": 3
   },
   "file_extension": ".py",
   "mimetype": "text/x-python",
   "name": "python",
   "nbconvert_exporter": "python",
   "pygments_lexer": "ipython3",
   "version": "3.9.6"
  },
  "orig_nbformat": 4,
  "vscode": {
   "interpreter": {
    "hash": "31f2aee4e71d21fbe5cf8b01ff0e069b9275f58929596ceb00d14d90e3e16cd6"
   }
  }
 },
 "nbformat": 4,
 "nbformat_minor": 2
}
