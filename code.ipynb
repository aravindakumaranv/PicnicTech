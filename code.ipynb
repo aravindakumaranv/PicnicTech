{
 "cells": [
  {
   "cell_type": "code",
   "execution_count": 247,
   "metadata": {},
   "outputs": [],
   "source": [
    "import pandas as pd\n",
    "import gurobipy as gp\n",
    "import math\n",
    "import pickle as pkl\n",
    "from datetime import datetime, timedelta\n"
   ]
  },
  {
   "cell_type": "code",
   "execution_count": 248,
   "metadata": {},
   "outputs": [],
   "source": [
    "product_type = \"frozen\"\n",
    "time_periods = 365"
   ]
  },
  {
   "cell_type": "code",
   "execution_count": 249,
   "metadata": {},
   "outputs": [],
   "source": [
    "article_data = pd.read_csv(\"./data/article.csv\")\n",
    "article_data = article_data[(article_data['TEMPERATURE_ZONE'] == product_type)]"
   ]
  },
  {
   "cell_type": "code",
   "execution_count": 250,
   "metadata": {},
   "outputs": [],
   "source": [
    "# constants definitions\n",
    "if(product_type==\"frozen\"):\n",
    "    warehouse_volume = 50\n",
    "if(product_type==\"chilled\"):\n",
    "    warehouse_volume = 300\n",
    "if(product_type==\"ambient\"):\n",
    "    warehouse_volume = 900\n",
    "buffer_cost = 25\n",
    "default_max_order = 10000"
   ]
  },
  {
   "cell_type": "code",
   "execution_count": 251,
   "metadata": {},
   "outputs": [],
   "source": [
    "def createParameterMatrix(data, columns):\n",
    "    parameters = []\n",
    "    for column in columns:\n",
    "        parameters.append(data[column].to_list())\n",
    "    parameters = list(map(list, zip(*parameters)))\n",
    "    return parameters"
   ]
  },
  {
   "cell_type": "code",
   "execution_count": 252,
   "metadata": {},
   "outputs": [],
   "source": [
    "articles = article_data['ARTICLE_ID'].to_list()\n",
    "\n",
    "parameters = createParameterMatrix(\n",
    "    article_data,\n",
    "    [\n",
    "        'TEMPERATURE_ZONE',\n",
    "        'VOLUME_M3_PER_CU',\n",
    "        'MEAN_SHELF_LIFE',\n",
    "        'CU_PER_TU',\n",
    "        'ORDERING_COST_FIXED',\n",
    "        'ORDERING_COST_PER_TU',\n",
    "        'CLEARING_COST_PER_CU',\n",
    "        'MINIMUM_ORDER_QUANTITY_TU',\n",
    "        'MAXIMUM_ORDER_QUANTITY_TU'\n",
    "    ]\n",
    ")\n",
    "parameters_dict = dict(zip(articles, parameters))"
   ]
  },
  {
   "cell_type": "code",
   "execution_count": 253,
   "metadata": {},
   "outputs": [],
   "source": [
    "items, category, volume_per_cu, shelf_life, cu_per_tu, ordering_cost_fixed, ordering_cost_per_tu, clearing_cost_per_cu,minimum_order_quantity_tu, maximum_order_quantity_tu = gp.multidict(parameters_dict)"
   ]
  },
  {
   "cell_type": "code",
   "execution_count": 265,
   "metadata": {},
   "outputs": [],
   "source": [
    "forecast_data = pd.read_csv('./data/sales_365.csv')\n",
    "forecast_data = forecast_data[forecast_data['ARTICLE_ID'].isin(articles)]"
   ]
  },
  {
   "cell_type": "code",
   "execution_count": 268,
   "metadata": {},
   "outputs": [],
   "source": [
    "\n",
    "# Create a MultiIndex with 'item' and 'date'\n",
    "idx = pd.MultiIndex.from_product([forecast_data['ARTICLE_ID'].unique(), pd.date_range('2022-01-01', '2022-12-31', freq='D')], names=['ARTICLE_ID', 'DATE'])\n",
    "\n",
    "# Set the DataFrame index to the MultiIndex\n",
    "forecast_data = forecast_data.set_index(['ARTICLE_ID', 'DATE'])\n",
    "\n",
    "# Reindex the DataFrame with the new MultiIndex and fill missing values with 0\n",
    "forecast_data = forecast_data.reindex(idx, fill_value=0)\n",
    "\n",
    "# Reset the index to make 'item' and 'date' columns again\n",
    "forecast_data = forecast_data.reset_index().astype({\"DATE\": str})"
   ]
  },
  {
   "cell_type": "code",
   "execution_count": 271,
   "metadata": {},
   "outputs": [],
   "source": [
    "demand = forecast_data.groupby('ARTICLE_ID').apply(lambda x: dict(zip(x['DATE'], x['PICKING_QUANTITY_CU']))).to_dict()"
   ]
  },
  {
   "cell_type": "code",
   "execution_count": 255,
   "metadata": {},
   "outputs": [
    {
     "ename": "TypeError",
     "evalue": "'int' object is not iterable",
     "output_type": "error",
     "traceback": [
      "\u001b[0;31m---------------------------------------------------------------------------\u001b[0m",
      "\u001b[0;31mTypeError\u001b[0m                                 Traceback (most recent call last)",
      "Cell \u001b[0;32mIn [255], line 15\u001b[0m\n\u001b[1;32m     12\u001b[0m buffer_storage_used \u001b[39m=\u001b[39m m\u001b[39m.\u001b[39maddVars(time_periods, vtype\u001b[39m=\u001b[39mgp\u001b[39m.\u001b[39mGRB\u001b[39m.\u001b[39mINTEGER, lb\u001b[39m=\u001b[39m\u001b[39m0\u001b[39m)\n\u001b[1;32m     14\u001b[0m \u001b[39m# objective function\u001b[39;00m\n\u001b[0;32m---> 15\u001b[0m ordering_cost_per_tu_objective \u001b[39m=\u001b[39m gp\u001b[39m.\u001b[39;49mquicksum(ordering_cost_per_tu[item] \u001b[39m*\u001b[39;49m orders[item, time_period] \u001b[39mfor\u001b[39;49;00m item \u001b[39min\u001b[39;49;00m items \u001b[39mfor\u001b[39;49;00m time_period \u001b[39min\u001b[39;49;00m time_periods)\n\u001b[1;32m     16\u001b[0m ordering_cost_fixed_objective \u001b[39m=\u001b[39m gp\u001b[39m.\u001b[39mquicksum(ordering_cost_fixed[item] \u001b[39m*\u001b[39m ordered_boolean[item, time_period] \u001b[39mfor\u001b[39;00m item \u001b[39min\u001b[39;00m items \u001b[39mfor\u001b[39;00m time_period \u001b[39min\u001b[39;00m time_periods)\n\u001b[1;32m     17\u001b[0m buffer_storage_objective \u001b[39m=\u001b[39m gp\u001b[39m.\u001b[39mquicksum(buffer_cost \u001b[39m*\u001b[39m buffer_storage_used[time_period] \u001b[39mfor\u001b[39;00m time_period \u001b[39min\u001b[39;00m time_periods)\n",
      "File \u001b[0;32msrc/gurobipy/gurobi.pxi:3706\u001b[0m, in \u001b[0;36mgurobipy.quicksum\u001b[0;34m()\u001b[0m\n",
      "Cell \u001b[0;32mIn [255], line 15\u001b[0m, in \u001b[0;36m<genexpr>\u001b[0;34m(.0)\u001b[0m\n\u001b[1;32m     12\u001b[0m buffer_storage_used \u001b[39m=\u001b[39m m\u001b[39m.\u001b[39maddVars(time_periods, vtype\u001b[39m=\u001b[39mgp\u001b[39m.\u001b[39mGRB\u001b[39m.\u001b[39mINTEGER, lb\u001b[39m=\u001b[39m\u001b[39m0\u001b[39m)\n\u001b[1;32m     14\u001b[0m \u001b[39m# objective function\u001b[39;00m\n\u001b[0;32m---> 15\u001b[0m ordering_cost_per_tu_objective \u001b[39m=\u001b[39m gp\u001b[39m.\u001b[39mquicksum(ordering_cost_per_tu[item] \u001b[39m*\u001b[39m orders[item, time_period] \u001b[39mfor\u001b[39;00m item \u001b[39min\u001b[39;00m items \u001b[39mfor\u001b[39;00m time_period \u001b[39min\u001b[39;00m time_periods)\n\u001b[1;32m     16\u001b[0m ordering_cost_fixed_objective \u001b[39m=\u001b[39m gp\u001b[39m.\u001b[39mquicksum(ordering_cost_fixed[item] \u001b[39m*\u001b[39m ordered_boolean[item, time_period] \u001b[39mfor\u001b[39;00m item \u001b[39min\u001b[39;00m items \u001b[39mfor\u001b[39;00m time_period \u001b[39min\u001b[39;00m time_periods)\n\u001b[1;32m     17\u001b[0m buffer_storage_objective \u001b[39m=\u001b[39m gp\u001b[39m.\u001b[39mquicksum(buffer_cost \u001b[39m*\u001b[39m buffer_storage_used[time_period] \u001b[39mfor\u001b[39;00m time_period \u001b[39min\u001b[39;00m time_periods)\n",
      "\u001b[0;31mTypeError\u001b[0m: 'int' object is not iterable"
     ]
    }
   ],
   "source": [
    "# model object\n",
    "m = gp.Model()\n",
    "\n",
    "# decision variables\n",
    "# Xit\n",
    "orders = m.addVars(items, time_periods, vtype=gp.GRB.INTEGER, lb=0)\n",
    "# Yit\n",
    "ordered_boolean = m.addVars(items, time_periods, vtype=gp.GRB.BINARY, lb=0)\n",
    "# Sit\n",
    "storage_used = m.addVars(items, time_periods, vtype=gp.GRB.INTEGER, lb=0)\n",
    "# Zt\n",
    "buffer_storage_used = m.addVars(time_periods, vtype=gp.GRB.INTEGER, lb=0)\n",
    "\n",
    "# objective function\n",
    "ordering_cost_per_tu_objective = gp.quicksum(ordering_cost_per_tu[item] * orders[item, time_period] for item in items for time_period in time_periods)\n",
    "ordering_cost_fixed_objective = gp.quicksum(ordering_cost_fixed[item] * ordered_boolean[item, time_period] for item in items for time_period in time_periods)\n",
    "buffer_storage_objective = gp.quicksum(buffer_cost * buffer_storage_used[time_period] for time_period in time_periods)\n",
    "\n",
    "m.setObjective(ordering_cost_per_tu_objective + ordering_cost_fixed_objective + buffer_storage_objective, sense=gp.GRB.MINIMIZE)\n",
    "\n",
    "# constraints\n",
    "# demand satisfaction\n",
    "for item in items:\n",
    "    for time_period_iterator, time_period in enumerate(time_periods):\n",
    "        if(time_period_iterator==0):\n",
    "            m.addConstr(orders[item, time_period] * cu_per_tu[item] >= demand[item][time_period],name=\"demand constraint_\" + str(time_period))\n",
    "        else:\n",
    "            m.addConstr((orders[item, time_period] * cu_per_tu[item]) + storage_used[item, time_periods[time_period_iterator-1]] >= demand[item][time_period],name=\"demand constraint_\" + str(time_period))\n",
    "\n",
    "# inventory volume constraint\n",
    "for time_period_iterator, time_period in enumerate(time_periods):\n",
    "    if(time_period_iterator==0):\n",
    "        m.addConstr(gp.quicksum(volume_per_cu[item] * ((cu_per_tu[item] * (orders[item, time_period]))) for item in items) <= warehouse_volume + buffer_storage_used[time_period])\n",
    "    else:\n",
    "        m.addConstr(gp.quicksum(volume_per_cu[item] * (storage_used[item, time_periods[time_period_iterator-1]] + (cu_per_tu[item] * (orders[item, time_period]))) for item in items) <= warehouse_volume + buffer_storage_used[time_period])\n",
    "\n",
    "# # min/max constraints (linking too)\n",
    "for item in items:\n",
    "    for time_period in time_periods:\n",
    "        m.addConstr(orders[item, time_period] >= minimum_order_quantity_tu[item] * ordered_boolean[item, time_period])\n",
    "        # if((not math.isnan(maximum_order_quantity_tu[item]))):\n",
    "        #     m.addConstr(orders[item, time_period] <= maximum_order_quantity_tu[item] * ordered_boolean[item, time_period])\n",
    "        # else:\n",
    "        #     m.addConstr(orders[item, time_period] <= default_max_order * ordered_boolean[item, time_period])\n",
    "\n",
    "# current inventory constraint\n",
    "for item in items:\n",
    "    for time_period_iterator,time_period in enumerate(time_periods):\n",
    "        if(time_period_iterator==0):\n",
    "            m.addConstr(storage_used[item, time_periods[time_period_iterator]] == (orders[item, time_period] * cu_per_tu[item]) - demand[item][time_period])\n",
    "        else:\n",
    "            m.addConstr(storage_used[item, time_periods[time_period_iterator]] == storage_used[item, time_periods[time_period_iterator-1]] + (orders[item, time_period] * cu_per_tu[item]) - demand[item][time_period])\n",
    "\n",
    "m.setParam(gp.GRB.Param.Heuristics, 0) \n",
    "m.optimize()"
   ]
  }
 ],
 "metadata": {
  "kernelspec": {
   "display_name": "virtualEnv",
   "language": "python",
   "name": "python3"
  },
  "language_info": {
   "codemirror_mode": {
    "name": "ipython",
    "version": 3
   },
   "file_extension": ".py",
   "mimetype": "text/x-python",
   "name": "python",
   "nbconvert_exporter": "python",
   "pygments_lexer": "ipython3",
   "version": "3.10.2"
  },
  "orig_nbformat": 4
 },
 "nbformat": 4,
 "nbformat_minor": 2
}
