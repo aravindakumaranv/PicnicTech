{
 "cells": [
  {
   "cell_type": "code",
   "execution_count": 1,
   "metadata": {},
   "outputs": [],
   "source": [
    "import pandas as pd\n",
    "import gurobipy as gp\n",
    "import math\n",
    "import pickle as pkl\n",
    "from datetime import datetime, timedelta\n",
    "from ipynb.fs.full.exact_1 import core"
   ]
  },
  {
   "cell_type": "code",
   "execution_count": 2,
   "metadata": {},
   "outputs": [],
   "source": [
    "sales_data = pd.read_csv(\"../data/sales_365.csv\")\n"
   ]
  },
  {
   "cell_type": "code",
   "execution_count": 3,
   "metadata": {},
   "outputs": [],
   "source": [
    "sales_data['DATE'] = pd.to_datetime(sales_data['DATE'])"
   ]
  },
  {
   "cell_type": "code",
   "execution_count": 4,
   "metadata": {},
   "outputs": [
    {
     "name": "stdout",
     "output_type": "stream",
     "text": [
      "Set parameter Username\n",
      "Academic license - for non-commercial use only - expires 2024-05-14\n",
      "Gurobi Optimizer version 10.0.1 build v10.0.1rc0 (win64)\n",
      "\n",
      "CPU model: 11th Gen Intel(R) Core(TM) i7-1165G7 @ 2.80GHz, instruction set [SSE2|AVX|AVX2|AVX512]\n",
      "Thread count: 4 physical cores, 8 logical processors, using up to 8 threads\n",
      "\n",
      "Optimize a model with 22815 rows, 55710 columns and 93921 nonzeros\n",
      "Model fingerprint: 0x9cfc4cda\n",
      "Variable types: 0 continuous, 55710 integer (13926 binary)\n",
      "Coefficient statistics:\n",
      "  Matrix range     [1e-09, 2e+03]\n",
      "  Objective range  [1e-01, 3e+01]\n",
      "  Bounds range     [1e+00, 1e+00]\n",
      "  RHS range        [1e+00, 4e+03]\n",
      "Warning: Model contains large matrix coefficient range\n",
      "         Consider reformulating model or setting NumericFocus parameter\n",
      "         to avoid numerical issues.\n",
      "Found heuristic solution: objective 53656.300000\n",
      "Presolve removed 12503 rows and 35746 columns\n",
      "Presolve time: 0.19s\n",
      "Presolved: 10312 rows, 19964 columns, 50688 nonzeros\n",
      "Variable types: 0 continuous, 19964 integer (1348 binary)\n",
      "\n",
      "Root relaxation: objective 4.514779e+04, 12235 iterations, 0.07 seconds (0.03 work units)\n",
      "\n",
      "    Nodes    |    Current Node    |     Objective Bounds      |     Work\n",
      " Expl Unexpl |  Obj  Depth IntInf | Incumbent    BestBd   Gap | It/Node Time\n",
      "\n",
      "     0     0 45147.7889    0 4180 53656.3000 45147.7889  15.9%     -    0s\n",
      "H    0     0                    47578.400000 45147.7889  5.11%     -    1s\n",
      "     0     0 45183.0796    0 3361 47578.4000 45183.0796  5.03%     -    1s\n",
      "     0     0 45280.2759    0 3147 47578.4000 45280.2759  4.83%     -    1s\n",
      "     0     0 45290.8850    0 3281 47578.4000 45290.8850  4.81%     -    2s\n",
      "     0     0 45290.9178    0 3278 47578.4000 45290.9178  4.81%     -    2s\n",
      "     0     0 45415.2456    0 2449 47578.4000 45415.2456  4.55%     -    2s\n",
      "     0     0 45460.4276    0 2472 47578.4000 45460.4276  4.45%     -    2s\n",
      "     0     0 45461.5729    0 2395 47578.4000 45461.5729  4.45%     -    2s\n",
      "     0     0 45461.5729    0 2380 47578.4000 45461.5729  4.45%     -    2s\n",
      "     0     0 45607.1333    0 2324 47578.4000 45607.1333  4.14%     -    2s\n",
      "     0     0 45617.5111    0 2197 47578.4000 45617.5111  4.12%     -    2s\n",
      "     0     0 45618.1707    0 2204 47578.4000 45618.1707  4.12%     -    2s\n",
      "     0     0 45618.1707    0 2201 47578.4000 45618.1707  4.12%     -    3s\n",
      "     0     0 45676.9696    0 2039 47578.4000 45676.9696  4.00%     -    3s\n",
      "     0     0 45681.3170    0 1969 47578.4000 45681.3170  3.99%     -    3s\n",
      "     0     0 45681.3664    0 1962 47578.4000 45681.3664  3.99%     -    3s\n",
      "     0     0 45698.9920    0 1934 47578.4000 45698.9920  3.95%     -    3s\n",
      "     0     0 45700.1206    0 1940 47578.4000 45700.1206  3.95%     -    3s\n",
      "     0     0 45700.1721    0 1947 47578.4000 45700.1721  3.95%     -    3s\n",
      "     0     0 45706.7947    0 1862 47578.4000 45706.7947  3.93%     -    3s\n",
      "     0     0 45709.4244    0 1834 47578.4000 45709.4244  3.93%     -    3s\n",
      "     0     0 45709.4910    0 1826 47578.4000 45709.4910  3.93%     -    4s\n",
      "     0     0 45714.3210    0 1805 47578.4000 45714.3210  3.92%     -    4s\n",
      "     0     0 45714.5726    0 1806 47578.4000 45714.5726  3.92%     -    4s\n",
      "     0     0 45718.4551    0 1779 47578.4000 45718.4551  3.91%     -    4s\n",
      "     0     0 45718.4551    0 1421 47578.4000 45718.4551  3.91%     -    5s\n",
      "H    0     2                    47559.300000 45718.5885  3.87%     -    6s\n",
      "     0     2 45718.5885    0 1392 47559.3000 45718.5885  3.87%     -    6s\n",
      "H   31    36                    47523.700000 45720.1597  3.80%  20.2    6s\n",
      "   930  1109 45745.5683  178 1337 47523.7000 45720.1597  3.80%   1.8   10s\n",
      "H  988  1109                    47507.700000 45720.1597  3.76%   1.7   10s\n",
      "H 1163  1109                    47469.700000 45720.1597  3.69%   1.6   10s\n",
      "H 1206  1169                    47213.400000 45720.1597  3.16%   1.6   10s\n",
      "H 2279  2478                    47160.300000 45720.1597  3.05%   1.3   12s\n",
      "H 3259  3014                    47008.000000 45720.1597  2.74%   1.3   14s\n",
      "  3886  3601 45819.7483  792 1267 47008.0000 45720.1597  2.74%   1.2   16s\n",
      "H 3887  3601                    46457.500000 45720.1597  1.59%   1.2   16s\n",
      "H 4462  4139                    46455.500000 45720.1597  1.58%   1.2   17s\n",
      "H 4464  4139                    46448.500000 45720.1597  1.57%   1.2   17s\n",
      "H 5699  5306                    46445.600000 45720.1597  1.56%   1.2   20s\n",
      "  5714  5316 46206.2722  155  710 46445.6000 46206.2722  0.52%   1.2   25s\n",
      "  5731  5328 46288.4138  273  450 46445.6000 46288.4138  0.34%   1.2   30s\n",
      "H 5731  5061                    46441.300000 46288.4138  0.33%   1.2   30s\n",
      "H 5739  4812                    46437.600000 46297.7417  0.30%   1.2   31s\n",
      "H 5750  4577                    46437.300000 46319.9507  0.25%   1.2   34s\n",
      "  5753  4579 46324.1913  448  361 46437.3000 46324.1913  0.24%   1.2   35s\n",
      "  5768  4589 46360.6616   30  321 46437.3000 46360.6616  0.17%   1.2   40s\n"
     ]
    }
   ],
   "source": [
    "final_cost = 0\n",
    "productType = \"chilled\"\n",
    "inventory_carryover = {}\n",
    "\n",
    "dt = min(sales_data['DATE']) - timedelta(days=min(sales_data['DATE']).weekday())\n",
    "start_date = (dt - timedelta(days=dt.weekday())).date()\n",
    "end_date = start_date + timedelta(days=6)\n",
    "\n",
    "for i in range(0,52):\n",
    "    if i!=0:\n",
    "        start_date = end_date + timedelta(days=1)\n",
    "        end_date = start_date + timedelta(days=6)\n",
    "    Week_data = sales_data.query('DATE >= @start_date and DATE <= @end_date')\n",
    "    new_inventory_carryover,cost = core(Week_data,productType,inventory_carryover)\n",
    "    final_cost += cost\n",
    "    inventory_carryover = new_inventory_carryover\n"
   ]
  },
  {
   "cell_type": "code",
   "execution_count": null,
   "metadata": {},
   "outputs": [
    {
     "ename": "NameError",
     "evalue": "name 'Week_data' is not defined",
     "output_type": "error",
     "traceback": [
      "\u001b[1;31m---------------------------------------------------------------------------\u001b[0m",
      "\u001b[1;31mNameError\u001b[0m                                 Traceback (most recent call last)",
      "Cell \u001b[1;32mIn[2], line 1\u001b[0m\n\u001b[1;32m----> 1\u001b[0m Week_data\n",
      "\u001b[1;31mNameError\u001b[0m: name 'Week_data' is not defined"
     ]
    }
   ],
   "source": [
    "Week_data"
   ]
  }
 ],
 "metadata": {
  "kernelspec": {
   "display_name": "Python 3",
   "language": "python",
   "name": "python3"
  },
  "language_info": {
   "codemirror_mode": {
    "name": "ipython",
    "version": 3
   },
   "file_extension": ".py",
   "mimetype": "text/x-python",
   "name": "python",
   "nbconvert_exporter": "python",
   "pygments_lexer": "ipython3",
   "version": "3.11.1"
  },
  "orig_nbformat": 4
 },
 "nbformat": 4,
 "nbformat_minor": 2
}
