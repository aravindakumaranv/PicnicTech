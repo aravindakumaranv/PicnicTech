{
 "cells": [
  {
   "cell_type": "code",
   "execution_count": 1,
   "metadata": {},
   "outputs": [],
   "source": [
    "import pandas as pd\n",
    "import gurobipy as gp\n",
    "import math\n",
    "import pickle as pkl\n",
    "from datetime import datetime, timedelta\n",
    "from ipynb.fs.full.exact_1 import core"
   ]
  },
  {
   "cell_type": "code",
   "execution_count": 2,
   "metadata": {},
   "outputs": [],
   "source": [
    "sales_data = pd.read_csv(\"../data/sales_365.csv\")\n"
   ]
  },
  {
   "cell_type": "code",
   "execution_count": 3,
   "metadata": {},
   "outputs": [],
   "source": [
    "sales_data['DATE'] = pd.to_datetime(sales_data['DATE'])"
   ]
  },
  {
   "cell_type": "code",
   "execution_count": 4,
   "metadata": {},
   "outputs": [
    {
     "name": "stdout",
     "output_type": "stream",
     "text": [
      "Set parameter Username\n",
      "Academic license - for non-commercial use only - expires 2024-05-14\n",
      "Gurobi Optimizer version 10.0.1 build v10.0.1rc0 (win64)\n",
      "\n",
      "CPU model: 11th Gen Intel(R) Core(TM) i7-1165G7 @ 2.80GHz, instruction set [SSE2|AVX|AVX2|AVX512]\n",
      "Thread count: 4 physical cores, 8 logical processors, using up to 8 threads\n",
      "\n",
      "Optimize a model with 4698 rows, 10062 columns and 15997 nonzeros\n",
      "Model fingerprint: 0x2776573d\n",
      "Variable types: 0 continuous, 10062 integer (2514 binary)\n",
      "Coefficient statistics:\n",
      "  Matrix range     [2e-04, 5e+02]\n",
      "  Objective range  [1e-01, 3e+01]\n",
      "  Bounds range     [1e+00, 1e+00]\n",
      "  RHS range        [1e+00, 2e+02]\n",
      "Found heuristic solution: objective 11805.600000\n",
      "Presolve removed 2581 rows and 6364 columns\n",
      "Presolve time: 0.07s\n",
      "Presolved: 2117 rows, 3698 columns, 8581 nonzeros\n",
      "Variable types: 0 continuous, 3698 integer (676 binary)\n",
      "Found heuristic solution: objective 10290.400000\n",
      "\n",
      "Root relaxation: objective 6.548133e+03, 2479 iterations, 0.01 seconds (0.00 work units)\n",
      "\n",
      "    Nodes    |    Current Node    |     Objective Bounds      |     Work\n",
      " Expl Unexpl |  Obj  Depth IntInf | Incumbent    BestBd   Gap | It/Node Time\n",
      "\n",
      "     0     0 6548.13303    0  653 10290.4000 6548.13303  36.4%     -    0s\n",
      "H    0     0                    6980.9000000 6548.13303  6.20%     -    0s\n",
      "H    0     0                    6965.7000000 6548.13303  5.99%     -    0s\n",
      "     0     0 6599.22765    0  462 6965.70000 6599.22765  5.26%     -    0s\n",
      "H    0     0                    6845.5000000 6599.22765  3.60%     -    0s\n",
      "     0     0 6611.17616    0  444 6845.50000 6611.17616  3.42%     -    0s\n",
      "     0     0 6647.88961    0  345 6845.50000 6647.88961  2.89%     -    0s\n",
      "H    0     0                    6813.4000000 6650.33221  2.39%     -    0s\n",
      "     0     0 6650.33221    0  363 6813.40000 6650.33221  2.39%     -    0s\n",
      "     0     0 6650.33221    0  362 6813.40000 6650.33221  2.39%     -    0s\n",
      "     0     0 6678.50006    0  374 6813.40000 6678.50006  1.98%     -    0s\n",
      "H    0     0                    6802.4000000 6678.50006  1.82%     -    0s\n",
      "     0     0 6682.99086    0  343 6802.40000 6682.99086  1.76%     -    0s\n",
      "     0     0 6683.35193    0  338 6802.40000 6683.35193  1.75%     -    0s\n",
      "     0     0 6683.35193    0  339 6802.40000 6683.35193  1.75%     -    0s\n",
      "     0     0 6694.00700    0  267 6802.40000 6694.00700  1.59%     -    0s\n",
      "     0     0 6694.00700    0  250 6802.40000 6694.00700  1.59%     -    0s\n",
      "     0     0 6696.83777    0  261 6802.40000 6696.83777  1.55%     -    0s\n",
      "H    0     0                    6796.9000000 6696.83777  1.47%     -    0s\n",
      "     0     0 6696.83777    0  250 6796.90000 6696.83777  1.47%     -    0s\n",
      "     0     0 6698.10027    0  246 6796.90000 6698.10027  1.45%     -    0s\n",
      "     0     0 6698.10027    0  239 6796.90000 6698.10027  1.45%     -    0s\n",
      "     0     0 6715.40027    0  226 6796.90000 6715.40027  1.20%     -    0s\n",
      "     0     0 6715.40027    0  220 6796.90000 6715.40027  1.20%     -    0s\n",
      "     0     0 6717.06694    0  202 6796.90000 6717.06694  1.17%     -    0s\n",
      "     0     0 6717.06694    0  199 6796.90000 6717.06694  1.17%     -    0s\n",
      "     0     0 6718.10027    0  201 6796.90000 6718.10027  1.16%     -    0s\n",
      "     0     0 6718.10027    0  165 6796.90000 6718.10027  1.16%     -    0s\n",
      "     0     2 6718.10027    0  163 6796.90000 6718.10027  1.16%     -    0s\n",
      "  5163  5158 6792.58487  402   37 6796.90000 6792.58487  0.06%   1.0    5s\n",
      "  9844  7684 6796.51429   91    1 6796.90000 6796.11429  0.01%   1.9   10s\n",
      " 24642 16644 6796.51429  181    1 6796.90000 6796.11429  0.01%   1.3   15s\n",
      "\n",
      "Cutting planes:\n",
      "  Learned: 5\n",
      "  Gomory: 86\n",
      "  MIR: 452\n",
      "  StrongCG: 41\n",
      "  Flow cover: 12\n",
      "  Inf proof: 1\n",
      "  Zero half: 87\n",
      "  Mod-K: 28\n",
      "\n",
      "Explored 29299 nodes (46683 simplex iterations) in 20.16 seconds (7.27 work units)\n",
      "Thread count was 8 (of 8 available processors)\n",
      "\n",
      "Solution count 8: 6796.9 6802.4 6813.4 ... 11805.6\n",
      "\n",
      "Optimal solution found (tolerance 1.00e-04)\n",
      "Best objective 6.796900000000e+03, best bound 6.796900000000e+03, gap 0.0000%\n"
     ]
    },
    {
     "ename": "TypeError",
     "evalue": "unsupported operand type(s) for +=: 'int' and 'tuple'",
     "output_type": "error",
     "traceback": [
      "\u001b[1;31m---------------------------------------------------------------------------\u001b[0m",
      "\u001b[1;31mTypeError\u001b[0m                                 Traceback (most recent call last)",
      "Cell \u001b[1;32mIn[4], line 14\u001b[0m\n\u001b[0;32m     12\u001b[0m Week_data \u001b[39m=\u001b[39m sales_data\u001b[39m.\u001b[39mquery(\u001b[39m'\u001b[39m\u001b[39mDATE >= @start_date and DATE <= @end_date\u001b[39m\u001b[39m'\u001b[39m)\n\u001b[0;32m     13\u001b[0m cost\u001b[39m=\u001b[39mcore(Week_data,productType)\n\u001b[1;32m---> 14\u001b[0m final_cost \u001b[39m+\u001b[39;49m\u001b[39m=\u001b[39;49m cost\n",
      "\u001b[1;31mTypeError\u001b[0m: unsupported operand type(s) for +=: 'int' and 'tuple'"
     ]
    }
   ],
   "source": [
    "final_cost = 0\n",
    "productType = \"frozen\"\n",
    "\n",
    "dt = min(sales_data['DATE']) - timedelta(days=min(sales_data['DATE']).weekday())\n",
    "start_date = (dt - timedelta(days=dt.weekday())).date()\n",
    "end_date = start_date + timedelta(days=6)\n",
    "\n",
    "for i in range(0,52):\n",
    "    if i!=0:\n",
    "        start_date = end_date + timedelta(days=1)\n",
    "        end_date = start_date + timedelta(days=6)\n",
    "    Week_data = sales_data.query('DATE >= @start_date and DATE <= @end_date')\n",
    "    cost=core(Week_data,productType)\n",
    "    final_cost += cost\n",
    "    \n"
   ]
  },
  {
   "cell_type": "code",
   "execution_count": null,
   "metadata": {},
   "outputs": [
    {
     "ename": "NameError",
     "evalue": "name 'Week_data' is not defined",
     "output_type": "error",
     "traceback": [
      "\u001b[1;31m---------------------------------------------------------------------------\u001b[0m",
      "\u001b[1;31mNameError\u001b[0m                                 Traceback (most recent call last)",
      "Cell \u001b[1;32mIn[2], line 1\u001b[0m\n\u001b[1;32m----> 1\u001b[0m Week_data\n",
      "\u001b[1;31mNameError\u001b[0m: name 'Week_data' is not defined"
     ]
    }
   ],
   "source": [
    "Week_data"
   ]
  }
 ],
 "metadata": {
  "kernelspec": {
   "display_name": "Python 3",
   "language": "python",
   "name": "python3"
  },
  "language_info": {
   "codemirror_mode": {
    "name": "ipython",
    "version": 3
   },
   "file_extension": ".py",
   "mimetype": "text/x-python",
   "name": "python",
   "nbconvert_exporter": "python",
   "pygments_lexer": "ipython3",
   "version": "3.11.1"
  },
  "orig_nbformat": 4
 },
 "nbformat": 4,
 "nbformat_minor": 2
}
